{
 "cells": [
  {
   "cell_type": "code",
   "execution_count": 6,
   "id": "4830fad6",
   "metadata": {
    "ExecuteTime": {
     "end_time": "2023-05-19T19:20:29.758914Z",
     "start_time": "2023-05-19T19:20:26.708858Z"
    }
   },
   "outputs": [
    {
     "name": "stdout",
     "output_type": "stream",
     "text": [
      "Requirement already satisfied: sqlalchemy in c:\\users\\pir23oguz\\appdata\\local\\programs\\python\\python311\\lib\\site-packages (2.0.14)\n",
      "Requirement already satisfied: typing-extensions>=4.2.0 in c:\\users\\pir23oguz\\appdata\\local\\programs\\python\\python311\\lib\\site-packages (from sqlalchemy) (4.5.0)\n",
      "Requirement already satisfied: greenlet!=0.4.17 in c:\\users\\pir23oguz\\appdata\\local\\programs\\python\\python311\\lib\\site-packages (from sqlalchemy) (2.0.2)\n"
     ]
    },
    {
     "name": "stderr",
     "output_type": "stream",
     "text": [
      "\n",
      "[notice] A new release of pip available: 22.3.1 -> 23.1.2\n",
      "[notice] To update, run: python.exe -m pip install --upgrade pip\n"
     ]
    }
   ],
   "source": [
    "!pip install sqlalchemy"
   ]
  },
  {
   "cell_type": "code",
   "execution_count": 11,
   "id": "80aa9b38",
   "metadata": {
    "ExecuteTime": {
     "end_time": "2023-05-19T19:21:22.797344Z",
     "start_time": "2023-05-19T19:21:20.325432Z"
    }
   },
   "outputs": [],
   "source": [
    "import pandas as pd"
   ]
  },
  {
   "cell_type": "code",
   "execution_count": 13,
   "id": "e0fbf0e3",
   "metadata": {
    "ExecuteTime": {
     "end_time": "2023-05-19T19:21:54.248287Z",
     "start_time": "2023-05-19T19:21:54.232296Z"
    }
   },
   "outputs": [],
   "source": [
    "import numpy as np"
   ]
  },
  {
   "cell_type": "code",
   "execution_count": 7,
   "id": "8eb82722",
   "metadata": {
    "ExecuteTime": {
     "end_time": "2023-05-19T19:20:29.790442Z",
     "start_time": "2023-05-19T19:20:29.776903Z"
    }
   },
   "outputs": [],
   "source": [
    "from sqlalchemy import create_engine"
   ]
  },
  {
   "cell_type": "code",
   "execution_count": 8,
   "id": "a86045ef",
   "metadata": {
    "ExecuteTime": {
     "end_time": "2023-05-19T19:20:35.095289Z",
     "start_time": "2023-05-19T19:20:35.077307Z"
    }
   },
   "outputs": [],
   "source": [
    "temp_db = create_engine(\"sqlite:///:memory:\")"
   ]
  },
  {
   "cell_type": "code",
   "execution_count": 9,
   "id": "c761ee34",
   "metadata": {
    "ExecuteTime": {
     "end_time": "2023-05-19T19:20:39.061658Z",
     "start_time": "2023-05-19T19:20:39.038670Z"
    }
   },
   "outputs": [
    {
     "name": "stderr",
     "output_type": "stream",
     "text": [
      "C:\\Users\\pir23oguz\\AppData\\Local\\Temp\\ipykernel_10496\\1744302080.py:1: SADeprecationWarning: The Engine.table_names() method is deprecated and will be removed in a future release.  Please refer to Inspector.get_table_names(). (deprecated since: 1.4)\n",
      "  temp_db.table_names()\n"
     ]
    },
    {
     "data": {
      "text/plain": [
       "[]"
      ]
     },
     "execution_count": 9,
     "metadata": {},
     "output_type": "execute_result"
    }
   ],
   "source": [
    "temp_db.table_names()"
   ]
  },
  {
   "cell_type": "code",
   "execution_count": null,
   "id": "85652029",
   "metadata": {},
   "outputs": [],
   "source": [
    "import pandas as pd\n",
    "import numpy as np\n",
    "import warnings\n",
    "warnings.filterwarnings(\"ignore\")\n",
    "warnings.warn(\"this will not show\")"
   ]
  },
  {
   "cell_type": "code",
   "execution_count": 14,
   "id": "4aaa3ddb",
   "metadata": {
    "ExecuteTime": {
     "end_time": "2023-05-19T19:22:21.112962Z",
     "start_time": "2023-05-19T19:22:21.097957Z"
    }
   },
   "outputs": [],
   "source": [
    "import warnings"
   ]
  },
  {
   "cell_type": "code",
   "execution_count": 15,
   "id": "dbe2d671",
   "metadata": {
    "ExecuteTime": {
     "end_time": "2023-05-19T19:22:32.027442Z",
     "start_time": "2023-05-19T19:22:32.012457Z"
    }
   },
   "outputs": [],
   "source": [
    "warnings.filterwarnings(\"ignore\")"
   ]
  },
  {
   "cell_type": "code",
   "execution_count": 16,
   "id": "1c32f2df",
   "metadata": {
    "ExecuteTime": {
     "end_time": "2023-05-19T19:22:47.094653Z",
     "start_time": "2023-05-19T19:22:47.086659Z"
    }
   },
   "outputs": [],
   "source": [
    "warnings.warn(\"this will not show\")"
   ]
  },
  {
   "cell_type": "code",
   "execution_count": 17,
   "id": "c734ee1c",
   "metadata": {
    "ExecuteTime": {
     "end_time": "2023-05-19T19:24:20.168879Z",
     "start_time": "2023-05-19T19:24:20.144898Z"
    }
   },
   "outputs": [
    {
     "ename": "NameError",
     "evalue": "name 'html_table' is not defined",
     "output_type": "error",
     "traceback": [
      "\u001b[1;31m---------------------------------------------------------------------------\u001b[0m",
      "\u001b[1;31mNameError\u001b[0m                                 Traceback (most recent call last)",
      "\u001b[1;32m~\\AppData\\Local\\Temp\\ipykernel_10496\\194237543.py\u001b[0m in \u001b[0;36m<module>\u001b[1;34m\u001b[0m\n\u001b[1;32m----> 1\u001b[1;33m \u001b[0mhtml_table\u001b[0m\u001b[1;33m[\u001b[0m\u001b[1;36m7\u001b[0m\u001b[1;33m]\u001b[0m\u001b[1;33m\u001b[0m\u001b[1;33m\u001b[0m\u001b[0m\n\u001b[0m",
      "\u001b[1;31mNameError\u001b[0m: name 'html_table' is not defined"
     ]
    }
   ],
   "source": [
    "html_table[7]"
   ]
  },
  {
   "cell_type": "code",
   "execution_count": null,
   "id": "3dc4eb2c",
   "metadata": {},
   "outputs": [],
   "source": []
  }
 ],
 "metadata": {
  "kernelspec": {
   "display_name": "Python 3 (ipykernel)",
   "language": "python",
   "name": "python3"
  },
  "language_info": {
   "codemirror_mode": {
    "name": "ipython",
    "version": 3
   },
   "file_extension": ".py",
   "mimetype": "text/x-python",
   "name": "python",
   "nbconvert_exporter": "python",
   "pygments_lexer": "ipython3",
   "version": "3.9.13"
  },
  "toc": {
   "base_numbering": 1,
   "nav_menu": {},
   "number_sections": true,
   "sideBar": true,
   "skip_h1_title": false,
   "title_cell": "Table of Contents",
   "title_sidebar": "Contents",
   "toc_cell": false,
   "toc_position": {},
   "toc_section_display": true,
   "toc_window_display": false
  },
  "varInspector": {
   "cols": {
    "lenName": 16,
    "lenType": 16,
    "lenVar": 40
   },
   "kernels_config": {
    "python": {
     "delete_cmd_postfix": "",
     "delete_cmd_prefix": "del ",
     "library": "var_list.py",
     "varRefreshCmd": "print(var_dic_list())"
    },
    "r": {
     "delete_cmd_postfix": ") ",
     "delete_cmd_prefix": "rm(",
     "library": "var_list.r",
     "varRefreshCmd": "cat(var_dic_list()) "
    }
   },
   "types_to_exclude": [
    "module",
    "function",
    "builtin_function_or_method",
    "instance",
    "_Feature"
   ],
   "window_display": false
  }
 },
 "nbformat": 4,
 "nbformat_minor": 5
}
