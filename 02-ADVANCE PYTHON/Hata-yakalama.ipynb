{
 "cells": [
  {
   "cell_type": "code",
   "execution_count": 3,
   "id": "1075bf54-f784-4734-9edd-e2569a5bff3e",
   "metadata": {
    "tags": []
   },
   "outputs": [
    {
     "name": "stdout",
     "output_type": "stream",
     "text": [
      "5.0\n"
     ]
    }
   ],
   "source": [
    "bölünen = 10\n",
    "bölen = 2\n",
    "bölüm = bölünen / bölen\n",
    "print(bölüm)"
   ]
  },
  {
   "cell_type": "code",
   "execution_count": 4,
   "id": "1a4e0010-3bb9-4487-a627-cdf42fe43b39",
   "metadata": {
    "tags": []
   },
   "outputs": [
    {
     "ename": "ZeroDivisionError",
     "evalue": "division by zero",
     "output_type": "error",
     "traceback": [
      "\u001b[0;31m---------------------------------------------------------------------------\u001b[0m",
      "\u001b[0;31mZeroDivisionError\u001b[0m                         Traceback (most recent call last)",
      "Cell \u001b[0;32mIn[4], line 3\u001b[0m\n\u001b[1;32m      1\u001b[0m bölünen \u001b[38;5;241m=\u001b[39m \u001b[38;5;241m10\u001b[39m\n\u001b[1;32m      2\u001b[0m bölen \u001b[38;5;241m=\u001b[39m \u001b[38;5;241m0\u001b[39m\n\u001b[0;32m----> 3\u001b[0m bölüm \u001b[38;5;241m=\u001b[39m \u001b[43mbölünen\u001b[49m\u001b[43m \u001b[49m\u001b[38;5;241;43m/\u001b[39;49m\u001b[43m \u001b[49m\u001b[43mbölen\u001b[49m\n\u001b[1;32m      4\u001b[0m \u001b[38;5;28mprint\u001b[39m(bölüm)\n",
      "\u001b[0;31mZeroDivisionError\u001b[0m: division by zero"
     ]
    }
   ],
   "source": [
    "bölünen = 10\n",
    "bölen = 0\n",
    "bölüm = bölünen / bölen\n",
    "print(bölüm)"
   ]
  },
  {
   "cell_type": "code",
   "execution_count": 5,
   "id": "06354b7d-5abd-40f6-afaf-a2a97b54005a",
   "metadata": {
    "tags": []
   },
   "outputs": [
    {
     "ename": "NameError",
     "evalue": "name 'undefined_variable' is not defined",
     "output_type": "error",
     "traceback": [
      "\u001b[0;31m---------------------------------------------------------------------------\u001b[0m",
      "\u001b[0;31mNameError\u001b[0m                                 Traceback (most recent call last)",
      "Cell \u001b[0;32mIn[5], line 1\u001b[0m\n\u001b[0;32m----> 1\u001b[0m \u001b[38;5;28mprint\u001b[39m(\u001b[43mundefined_variable\u001b[49m)\n",
      "\u001b[0;31mNameError\u001b[0m: name 'undefined_variable' is not defined"
     ]
    }
   ],
   "source": [
    "print(undefined_variable)"
   ]
  },
  {
   "cell_type": "code",
   "execution_count": 6,
   "id": "e485b357-0f1b-4f02-b8ec-447d76d6887c",
   "metadata": {
    "tags": []
   },
   "outputs": [
    {
     "ename": "TypeError",
     "evalue": "unsupported operand type(s) for +: 'int' and 'str'",
     "output_type": "error",
     "traceback": [
      "\u001b[0;31m---------------------------------------------------------------------------\u001b[0m",
      "\u001b[0;31mTypeError\u001b[0m                                 Traceback (most recent call last)",
      "Cell \u001b[0;32mIn[6], line 1\u001b[0m\n\u001b[0;32m----> 1\u001b[0m \u001b[38;5;241;43m1\u001b[39;49m\u001b[38;5;241;43m+\u001b[39;49m\u001b[38;5;124;43m\"\u001b[39;49m\u001b[38;5;124;43m1\u001b[39;49m\u001b[38;5;124;43m\"\u001b[39;49m\n",
      "\u001b[0;31mTypeError\u001b[0m: unsupported operand type(s) for +: 'int' and 'str'"
     ]
    }
   ],
   "source": [
    "1+\"1\""
   ]
  },
  {
   "cell_type": "code",
   "execution_count": 7,
   "id": "fefcf59d-afc9-4cd6-888d-5c282161c60a",
   "metadata": {
    "tags": []
   },
   "outputs": [
    {
     "ename": "IndexError",
     "evalue": "string index out of range",
     "output_type": "error",
     "traceback": [
      "\u001b[0;31m---------------------------------------------------------------------------\u001b[0m",
      "\u001b[0;31mIndexError\u001b[0m                                Traceback (most recent call last)",
      "Cell \u001b[0;32mIn[7], line 2\u001b[0m\n\u001b[1;32m      1\u001b[0m a \u001b[38;5;241m=\u001b[39m \u001b[38;5;124m\"\u001b[39m\u001b[38;5;124m123\u001b[39m\u001b[38;5;124m\"\u001b[39m\n\u001b[0;32m----> 2\u001b[0m \u001b[43ma\u001b[49m\u001b[43m[\u001b[49m\u001b[38;5;241;43m4\u001b[39;49m\u001b[43m]\u001b[49m\n",
      "\u001b[0;31mIndexError\u001b[0m: string index out of range"
     ]
    }
   ],
   "source": [
    "a = \"123\"\n",
    "a[4]"
   ]
  },
  {
   "cell_type": "code",
   "execution_count": 8,
   "id": "b4bae64b-6b7a-4338-9c70-884e2d68cbf0",
   "metadata": {
    "tags": []
   },
   "outputs": [
    {
     "ename": "TypeError",
     "evalue": "'int' object is not subscriptable",
     "output_type": "error",
     "traceback": [
      "\u001b[0;31m---------------------------------------------------------------------------\u001b[0m",
      "\u001b[0;31mTypeError\u001b[0m                                 Traceback (most recent call last)",
      "Cell \u001b[0;32mIn[8], line 2\u001b[0m\n\u001b[1;32m      1\u001b[0m a \u001b[38;5;241m=\u001b[39m \u001b[38;5;241m123\u001b[39m\n\u001b[0;32m----> 2\u001b[0m \u001b[43ma\u001b[49m\u001b[43m[\u001b[49m\u001b[38;5;241;43m1\u001b[39;49m\u001b[43m]\u001b[49m\n",
      "\u001b[0;31mTypeError\u001b[0m: 'int' object is not subscriptable"
     ]
    }
   ],
   "source": [
    "a = 123\n",
    "a[1]"
   ]
  },
  {
   "cell_type": "code",
   "execution_count": 9,
   "id": "ec7eef1b-b9c8-45f4-87ec-b7ef42e7b4d0",
   "metadata": {
    "tags": []
   },
   "outputs": [],
   "source": [
    "try:\n",
    "    pass\n",
    "except:\n",
    "    pass"
   ]
  },
  {
   "cell_type": "code",
   "execution_count": 10,
   "id": "830e5b9f-387f-499e-9589-6a476e95cf82",
   "metadata": {
    "tags": []
   },
   "outputs": [
    {
     "name": "stdout",
     "output_type": "stream",
     "text": [
      "Sıfır ile bölme yapılamaz!\n"
     ]
    }
   ],
   "source": [
    "try:\n",
    "    bölünen = 10\n",
    "    bölen = 0\n",
    "    bölüm = bölünen / bölen\n",
    "    print(bölüm)\n",
    "except ZeroDivisionError:\n",
    "    print(\"Sıfır ile bölme yapılamaz!\")"
   ]
  },
  {
   "cell_type": "code",
   "execution_count": 11,
   "id": "c39a6565-a250-49b6-bea3-089fb0cd4b4d",
   "metadata": {
    "tags": []
   },
   "outputs": [
    {
     "ename": "ZeroDivisionError",
     "evalue": "division by zero",
     "output_type": "error",
     "traceback": [
      "\u001b[0;31m---------------------------------------------------------------------------\u001b[0m",
      "\u001b[0;31mZeroDivisionError\u001b[0m                         Traceback (most recent call last)",
      "Cell \u001b[0;32mIn[11], line 3\u001b[0m\n\u001b[1;32m      1\u001b[0m bölünen \u001b[38;5;241m=\u001b[39m \u001b[38;5;241m10\u001b[39m\n\u001b[1;32m      2\u001b[0m bölen \u001b[38;5;241m=\u001b[39m \u001b[38;5;241m0\u001b[39m\n\u001b[0;32m----> 3\u001b[0m bölüm \u001b[38;5;241m=\u001b[39m \u001b[43mbölünen\u001b[49m\u001b[43m \u001b[49m\u001b[38;5;241;43m/\u001b[39;49m\u001b[43m \u001b[49m\u001b[43mbölen\u001b[49m\n\u001b[1;32m      4\u001b[0m \u001b[38;5;28mprint\u001b[39m(bölüm)\n",
      "\u001b[0;31mZeroDivisionError\u001b[0m: division by zero"
     ]
    }
   ],
   "source": [
    "bölünen = 10\n",
    "bölen = 0\n",
    "bölüm = bölünen / bölen\n",
    "print(bölüm)"
   ]
  },
  {
   "cell_type": "code",
   "execution_count": 12,
   "id": "a4eb4400-3cf1-4bd4-b238-53636ee94371",
   "metadata": {
    "tags": []
   },
   "outputs": [
    {
     "ename": "NameError",
     "evalue": "name 'x' is not defined",
     "output_type": "error",
     "traceback": [
      "\u001b[0;31m---------------------------------------------------------------------------\u001b[0m",
      "\u001b[0;31mNameError\u001b[0m                                 Traceback (most recent call last)",
      "Cell \u001b[0;32mIn[12], line 2\u001b[0m\n\u001b[1;32m      1\u001b[0m bölünen \u001b[38;5;241m=\u001b[39m \u001b[38;5;241m10\u001b[39m\n\u001b[0;32m----> 2\u001b[0m \u001b[43mx\u001b[49m \n\u001b[1;32m      3\u001b[0m bölen \u001b[38;5;241m=\u001b[39m \u001b[38;5;241m0\u001b[39m\n\u001b[1;32m      4\u001b[0m \u001b[38;5;28;01mtry\u001b[39;00m:\n",
      "\u001b[0;31mNameError\u001b[0m: name 'x' is not defined"
     ]
    }
   ],
   "source": [
    "bölünen = 10\n",
    "x \n",
    "bölen = 0\n",
    "try:\n",
    "    bölüm = bölünen/bölen\n",
    "except ZeroDivisionError:\n",
    "    print(\"Hata!!!\")"
   ]
  },
  {
   "cell_type": "code",
   "execution_count": 13,
   "id": "172f9f6c-0a6f-4a56-a528-8e3154ce2f5d",
   "metadata": {
    "tags": []
   },
   "outputs": [
    {
     "name": "stdout",
     "output_type": "stream",
     "text": [
      "Hata!!!\n"
     ]
    }
   ],
   "source": [
    "try:\n",
    "    x\n",
    "except NameError:\n",
    "    print(\"Hata!!!\")"
   ]
  },
  {
   "cell_type": "code",
   "execution_count": 14,
   "id": "94d2a20b-da96-48b2-89a2-8cedbee39fc8",
   "metadata": {
    "tags": []
   },
   "outputs": [
    {
     "ename": "NameError",
     "evalue": "name 'x' is not defined",
     "output_type": "error",
     "traceback": [
      "\u001b[0;31m---------------------------------------------------------------------------\u001b[0m",
      "\u001b[0;31mNameError\u001b[0m                                 Traceback (most recent call last)",
      "Cell \u001b[0;32mIn[14], line 3\u001b[0m\n\u001b[1;32m      1\u001b[0m \u001b[38;5;28;01mtry\u001b[39;00m:\n\u001b[1;32m      2\u001b[0m     bölünen \u001b[38;5;241m=\u001b[39m \u001b[38;5;241m10\u001b[39m\n\u001b[0;32m----> 3\u001b[0m     \u001b[43mx\u001b[49m \n\u001b[1;32m      4\u001b[0m     bölen \u001b[38;5;241m=\u001b[39m \u001b[38;5;241m0\u001b[39m\n\u001b[1;32m      5\u001b[0m     bölüm \u001b[38;5;241m=\u001b[39m bölünen\u001b[38;5;241m/\u001b[39mbölen\n",
      "\u001b[0;31mNameError\u001b[0m: name 'x' is not defined"
     ]
    }
   ],
   "source": [
    "try:\n",
    "    bölünen = 10\n",
    "    x \n",
    "    bölen = 0\n",
    "    bölüm = bölünen/bölen\n",
    "except ZeroDivisionError:\n",
    "    print(\"Hata!!!\")"
   ]
  },
  {
   "cell_type": "code",
   "execution_count": 15,
   "id": "cf62acef-0d11-4787-92b8-31651ec11160",
   "metadata": {
    "tags": []
   },
   "outputs": [
    {
     "name": "stdout",
     "output_type": "stream",
     "text": [
      "Tanımlanmayan değişken\n"
     ]
    }
   ],
   "source": [
    "try:\n",
    "    bölünen = 10\n",
    "    x \n",
    "    bölen = 0\n",
    "    bölüm = bölünen/bölen\n",
    "except ZeroDivisionError:\n",
    "    print(\"Hata!!!\")\n",
    "except NameError:\n",
    "    print(\"Tanımlanmayan değişken\")"
   ]
  },
  {
   "cell_type": "code",
   "execution_count": 19,
   "id": "ca72f770-5b6f-4fd8-a27f-f7d7582a76b5",
   "metadata": {
    "tags": []
   },
   "outputs": [
    {
     "name": "stdout",
     "output_type": "stream",
     "text": [
      "Hata!!!\n"
     ]
    }
   ],
   "source": [
    "try:\n",
    "    bölünen = 10\n",
    "    x \n",
    "    bölen = 0\n",
    "    bölüm = bölünen/bölen\n",
    "except ZeroDivisionError:\n",
    "    print(\"Hata!!! Sıfır ile bölme yapılamaz\")\n",
    "except NameError:\n",
    "    print(\"Tanımlanmayan değişken\")\n",
    "    x = bölünen\n",
    "    print(x)"
   ]
  },
  {
   "cell_type": "code",
   "execution_count": 20,
   "id": "ff1126a3-2cb3-4bde-b4fd-6326304e75e0",
   "metadata": {
    "tags": []
   },
   "outputs": [
    {
     "ename": "IndexError",
     "evalue": "string index out of range",
     "output_type": "error",
     "traceback": [
      "\u001b[0;31m---------------------------------------------------------------------------\u001b[0m",
      "\u001b[0;31mIndexError\u001b[0m                                Traceback (most recent call last)",
      "Cell \u001b[0;32mIn[20], line 2\u001b[0m\n\u001b[1;32m      1\u001b[0m isim \u001b[38;5;241m=\u001b[39m \u001b[38;5;124m\"\u001b[39m\u001b[38;5;124mAhmet\u001b[39m\u001b[38;5;124m\"\u001b[39m\n\u001b[0;32m----> 2\u001b[0m \u001b[43misim\u001b[49m\u001b[43m[\u001b[49m\u001b[38;5;241;43m5\u001b[39;49m\u001b[43m]\u001b[49m\n",
      "\u001b[0;31mIndexError\u001b[0m: string index out of range"
     ]
    }
   ],
   "source": [
    "isim = \"Ahmet\"\n",
    "isim[5]"
   ]
  },
  {
   "cell_type": "code",
   "execution_count": 21,
   "id": "8145624f-d557-4bf6-b26c-547d6411f34d",
   "metadata": {
    "tags": []
   },
   "outputs": [
    {
     "name": "stdout",
     "output_type": "stream",
     "text": [
      "Hata!!! Index Error.\n"
     ]
    }
   ],
   "source": [
    "try:\n",
    "    bölünen = 10\n",
    "    isim = \"Ahmet\"\n",
    "    bölen = 0\n",
    "    isim[5]\n",
    "    bölüm = bölünen/bölen\n",
    "except ZeroDivisionError:\n",
    "    print(\"Hata!!! Sıfır ile bölme yapılamaz\")\n",
    "except NameError:\n",
    "    print(\"Tanımlanmayan değişken\")\n",
    "    x = bölünen\n",
    "    print(x)\n",
    "except IndexError:\n",
    "    print(\"Hata!!! Index Error.\")"
   ]
  },
  {
   "cell_type": "code",
   "execution_count": 28,
   "id": "491d3995-3cbd-4639-bdd3-eb0b82ac4851",
   "metadata": {
    "tags": []
   },
   "outputs": [
    {
     "ename": "ZeroDivisionError",
     "evalue": "division by zero",
     "output_type": "error",
     "traceback": [
      "\u001b[0;31m---------------------------------------------------------------------------\u001b[0m",
      "\u001b[0;31mZeroDivisionError\u001b[0m                         Traceback (most recent call last)",
      "Cell \u001b[0;32mIn[28], line 5\u001b[0m\n\u001b[1;32m      3\u001b[0m isim \u001b[38;5;241m=\u001b[39m \u001b[38;5;124m\"\u001b[39m\u001b[38;5;124mAhmet\u001b[39m\u001b[38;5;124m\"\u001b[39m\n\u001b[1;32m      4\u001b[0m bölen \u001b[38;5;241m=\u001b[39m \u001b[38;5;241m0\u001b[39m\n\u001b[0;32m----> 5\u001b[0m bölüm \u001b[38;5;241m=\u001b[39m \u001b[43mbölünen\u001b[49m\u001b[38;5;241;43m/\u001b[39;49m\u001b[43mbölen\u001b[49m\n\u001b[1;32m      6\u001b[0m isim[\u001b[38;5;241m5\u001b[39m]\n\u001b[1;32m      7\u001b[0m x\n",
      "\u001b[0;31mZeroDivisionError\u001b[0m: division by zero"
     ]
    }
   ],
   "source": [
    "try:\n",
    "    bölünen = 10\n",
    "    isim = \"Ahmet\"\n",
    "    bölen = 0\n",
    "    bölüm = bölünen/bölen\n",
    "    isim[5]\n",
    "    x\n",
    "\n",
    "# except ZeroDivisionError:\n",
    "#     print(\"Hata!!! Sıfır ile bölme yapılamaz\")\n",
    "#     bölen = 2\n",
    "except NameError:\n",
    "    print(\"Tanımlanmayan değişken\")\n",
    "except IndexError:\n",
    "    print(\"Hata!!! Index Error.\")\n",
    "  \n",
    "print(f\"Program çalışmaya devam ediyor, Bölüm: {bölünen/bölen}\")"
   ]
  },
  {
   "cell_type": "code",
   "execution_count": 29,
   "id": "63664621-4e6a-42fd-8750-009263b55ff6",
   "metadata": {
    "tags": []
   },
   "outputs": [
    {
     "ename": "TypeError",
     "evalue": "unsupported operand type(s) for /: 'int' and 'str'",
     "output_type": "error",
     "traceback": [
      "\u001b[0;31m---------------------------------------------------------------------------\u001b[0m",
      "\u001b[0;31mTypeError\u001b[0m                                 Traceback (most recent call last)",
      "Cell \u001b[0;32mIn[29], line 5\u001b[0m\n\u001b[1;32m      3\u001b[0m isim \u001b[38;5;241m=\u001b[39m \u001b[38;5;124m\"\u001b[39m\u001b[38;5;124mAhmet\u001b[39m\u001b[38;5;124m\"\u001b[39m\n\u001b[1;32m      4\u001b[0m bölen \u001b[38;5;241m=\u001b[39m \u001b[38;5;124m\"\u001b[39m\u001b[38;5;124m12\u001b[39m\u001b[38;5;124m\"\u001b[39m\n\u001b[0;32m----> 5\u001b[0m bölüm \u001b[38;5;241m=\u001b[39m \u001b[43mbölünen\u001b[49m\u001b[38;5;241;43m/\u001b[39;49m\u001b[43mbölen\u001b[49m\n\u001b[1;32m      6\u001b[0m isim[\u001b[38;5;241m5\u001b[39m]\n\u001b[1;32m      7\u001b[0m x\n",
      "\u001b[0;31mTypeError\u001b[0m: unsupported operand type(s) for /: 'int' and 'str'"
     ]
    }
   ],
   "source": [
    "try:\n",
    "    bölünen = 10\n",
    "    isim = \"Ahmet\"\n",
    "    bölen = \"12\"\n",
    "    bölüm = bölünen/bölen\n",
    "    isim[5]\n",
    "    x\n",
    "\n",
    "except ZeroDivisionError:\n",
    "    print(\"Hata!!! Sıfır ile bölme yapılamaz\")\n",
    "    bölen = 2\n",
    "except NameError:\n",
    "    print(\"Tanımlanmayan değişken\")\n",
    "except IndexError:\n",
    "    print(\"Hata!!! Index Error.\")\n",
    "  \n",
    "print(f\"Program çalışmaya devam ediyor, Bölüm: {bölünen/bölen}\")"
   ]
  },
  {
   "cell_type": "code",
   "execution_count": 31,
   "id": "09000e14-7fb8-4266-bef2-a5d403d78b2c",
   "metadata": {
    "tags": []
   },
   "outputs": [
    {
     "name": "stdout",
     "output_type": "stream",
     "text": [
      "Tüm hataları burada yakalıyoruz.\n"
     ]
    }
   ],
   "source": [
    "try:\n",
    "    bölünen = 10\n",
    "    isim = \"Ahmet\"\n",
    "    bölen = \"12\"\n",
    "    bölüm = bölünen/bölen\n",
    "    isim[5]\n",
    "    x\n",
    "\n",
    "except ZeroDivisionError:\n",
    "    print(\"Hata!!! Sıfır ile bölme yapılamaz\")\n",
    "    bölen = 2\n",
    "except NameError:\n",
    "    print(\"Tanımlanmayan değişken\")\n",
    "except IndexError:\n",
    "    print(\"Hata!!! Index Error.\")\n",
    "except:\n",
    "    print(\"Tüm hataları burada yakalıyoruz.\")"
   ]
  },
  {
   "cell_type": "code",
   "execution_count": null,
   "id": "62161dd5-c4b5-4bda-9e67-bbf3de26926e",
   "metadata": {},
   "outputs": [],
   "source": [
    "try:\n",
    "    bölünen = 10\n",
    "    isim = \"Ahmet\"\n",
    "    bölen = \"12\"\n",
    "    bölüm = bölünen/bölen\n",
    "    isim[5]\n",
    "    x\n",
    "\n",
    "except ZeroDivisionError:\n",
    "    print(\"Hata!!! Sıfır ile bölme yapılamaz\")\n",
    "    bölen = 2\n",
    "except NameError:\n",
    "    print(\"Tanımlanmayan değişken\")\n",
    "except IndexError:\n",
    "    print(\"Hata!!! Index Error.\")\n",
    "except:\n",
    "    print(\"Tüm hataları burada yakalıyoruz.\")"
   ]
  },
  {
   "cell_type": "code",
   "execution_count": 33,
   "id": "c86abe37-708d-4489-9849-f0a629781da4",
   "metadata": {
    "tags": []
   },
   "outputs": [
    {
     "name": "stdout",
     "output_type": "stream",
     "text": [
      "Tüm hataları burada yakalıyoruz.\n",
      "unsupported operand type(s) for /: 'int' and 'str'\n"
     ]
    }
   ],
   "source": [
    "try:\n",
    "    bölünen = 10\n",
    "    isim = \"Ahmet\"\n",
    "    bölen = \"12\"\n",
    "    bölüm = bölünen/bölen\n",
    "    isim[5]\n",
    "    x\n",
    "\n",
    "except ZeroDivisionError:\n",
    "    print(\"Hata!!! Sıfır ile bölme yapılamaz\")\n",
    "    bölen = 2\n",
    "except NameError:\n",
    "    print(\"Tanımlanmayan değişken\")\n",
    "except IndexError:\n",
    "    print(\"Hata!!! Index Error.\")\n",
    "except Exception as error:\n",
    "    print(\"Tüm hataları burada yakalıyoruz.\")\n",
    "    print(error)"
   ]
  },
  {
   "cell_type": "code",
   "execution_count": 43,
   "id": "b4a12dcd-2704-48e8-8b22-8038fa7ea263",
   "metadata": {
    "tags": []
   },
   "outputs": [
    {
     "name": "stdout",
     "output_type": "stream",
     "text": [
      "Tüm hatalar yakalanıyor\n",
      "bu kısım çalışmaya devam ediyor.\n"
     ]
    }
   ],
   "source": [
    "try:\n",
    "    bölünen = 10\n",
    "    isim = \"Ahmet\"\n",
    "    bölen = \"12\"\n",
    "    bölüm = bölünen/bölen\n",
    "    isim[5]\n",
    "    x\n",
    "\n",
    "except Exception as e:\n",
    "    print(\"Tüm hatalar yakalanıyor\")\n",
    "    \n",
    "    \n",
    "except ZeroDivisionError:\n",
    "    print(\"Hata!!! Sıfır ile bölme yapılamaz\")\n",
    "    bölen = 2\n",
    "except NameError:\n",
    "    print(\"Tanımlanmayan değişken\")\n",
    "except IndexError:\n",
    "    print(\"Hata!!! Index Error.\")\n",
    "except Exception as error:\n",
    "    print(\"Tüm hataları burada yakalıyoruz.\")\n",
    "    print(error)\n",
    "    \n",
    "print(\"bu kısım çalışmaya devam ediyor.\")"
   ]
  },
  {
   "cell_type": "code",
   "execution_count": 44,
   "id": "0ce3b01d-a380-41f9-9046-e5348ff159ff",
   "metadata": {
    "tags": []
   },
   "outputs": [],
   "source": [
    "try:\n",
    "    pass\n",
    "except:\n",
    "    pass\n",
    "finally:\n",
    "    pass"
   ]
  },
  {
   "cell_type": "code",
   "execution_count": 6,
   "id": "59ee0bdd-076d-4449-8c50-1162889743fa",
   "metadata": {
    "tags": []
   },
   "outputs": [
    {
     "name": "stdout",
     "output_type": "stream",
     "text": [
      "bölüm:  5.0\n",
      "\n",
      "Her durumda çalışır\n"
     ]
    }
   ],
   "source": [
    "try:\n",
    "    bölünen = 10\n",
    "    bölen = 2\n",
    "    bölüm = bölünen/bölen\n",
    "    print(\"bölüm: \", bölüm)\n",
    "    \n",
    "except ZeroDivisionError:\n",
    "    print(\"Hata!!! Sıfır ile bölme yapılamaz\")\n",
    "    bölen = 2\n",
    "except NameError:\n",
    "    print(\"Tanımlanmayan değişken\")\n",
    "except IndexError:\n",
    "    print(\"Hata!!! Index Error.\")\n",
    "except:\n",
    "    print(\"Tüm hataları burada yakalıyoruz.\")\n",
    "finally:\n",
    "    print()\n",
    "    print(\"Her durumda çalışır\")"
   ]
  },
  {
   "cell_type": "code",
   "execution_count": 4,
   "id": "fb0293fd-a795-41f8-b4fe-6bca0df07d1b",
   "metadata": {
    "tags": []
   },
   "outputs": [],
   "source": [
    "try:\n",
    "    pass\n",
    "except:\n",
    "    pass\n",
    "else:\n",
    "    pass\n",
    "finally:\n",
    "    pass"
   ]
  },
  {
   "cell_type": "code",
   "execution_count": 9,
   "id": "81646db4-b4e6-4fc5-b23f-a94ffcc82ee1",
   "metadata": {
    "tags": []
   },
   "outputs": [
    {
     "name": "stdout",
     "output_type": "stream",
     "text": [
      "bölüm:  5.0\n",
      "else bloğu çalıştı.\n",
      "\n",
      "Her durumda çalışır\n"
     ]
    }
   ],
   "source": [
    "try:\n",
    "    bölünen = 10\n",
    "    bölen = 2\n",
    "    bölüm = bölünen/bölen\n",
    "    print(\"bölüm: \", bölüm)\n",
    "    \n",
    "except ZeroDivisionError:\n",
    "    print(\"Hata!!! Sıfır ile bölme yapılamaz\")\n",
    "    bölen = 2\n",
    "else:\n",
    "    print(\"else bloğu çalıştı.\")\n",
    "finally:\n",
    "    print()\n",
    "    print(\"Her durumda çalışır\")"
   ]
  },
  {
   "cell_type": "code",
   "execution_count": 10,
   "id": "7f0b14fb-28d7-4f8b-921f-688f4f72c3f5",
   "metadata": {
    "tags": []
   },
   "outputs": [],
   "source": []
  },
  {
   "cell_type": "code",
   "execution_count": 15,
   "id": "3ecb06e4-54ef-4633-bd62-dd90ed591940",
   "metadata": {
    "tags": []
   },
   "outputs": [
    {
     "ename": "Exception",
     "evalue": "Keyfi Hata!!!",
     "output_type": "error",
     "traceback": [
      "\u001b[0;31m---------------------------------------------------------------------------\u001b[0m",
      "\u001b[0;31mException\u001b[0m                                 Traceback (most recent call last)",
      "Cell \u001b[0;32mIn[15], line 1\u001b[0m\n\u001b[0;32m----> 1\u001b[0m \u001b[38;5;28;01mraise\u001b[39;00m \u001b[38;5;167;01mException\u001b[39;00m(\u001b[38;5;124m\"\u001b[39m\u001b[38;5;124mKeyfi Hata!!!\u001b[39m\u001b[38;5;124m\"\u001b[39m)\n",
      "\u001b[0;31mException\u001b[0m: Keyfi Hata!!!"
     ]
    }
   ],
   "source": [
    "raise Exception(\"Keyfi Hata!!!\")"
   ]
  },
  {
   "cell_type": "code",
   "execution_count": 16,
   "id": "f39189b4-2d60-4f8d-aa5b-d5c5abc67569",
   "metadata": {
    "tags": []
   },
   "outputs": [],
   "source": [
    "def terscevir(s):\n",
    "    if type(s) != str:\n",
    "        raise TypeError(\"Lütfen bir string ifade giriniz\")\n",
    "    else:\n",
    "        return s[::-1]"
   ]
  },
  {
   "cell_type": "code",
   "execution_count": 20,
   "id": "248d906f-ebfc-4c51-9264-e427ac5ff3a9",
   "metadata": {
    "tags": []
   },
   "outputs": [
    {
     "data": {
      "text/plain": [
       "'5'"
      ]
     },
     "execution_count": 20,
     "metadata": {},
     "output_type": "execute_result"
    }
   ],
   "source": []
  },
  {
   "cell_type": "code",
   "execution_count": 21,
   "id": "f083563b-4f46-4d52-b906-403644b0e281",
   "metadata": {
    "tags": []
   },
   "outputs": [],
   "source": [
    "def terscevir(s):\n",
    "    try:\n",
    "        return s[::-1]\n",
    "    except Exception as e:\n",
    "        print(\"String yada Liste tipinde değer giriniz\")\n",
    "        "
   ]
  },
  {
   "cell_type": "code",
   "execution_count": 22,
   "id": "fd2a12e7-4aec-48a9-8b49-d05e71835791",
   "metadata": {
    "tags": []
   },
   "outputs": [
    {
     "name": "stdout",
     "output_type": "stream",
     "text": [
      "String yada Liste tipinde değer giriniz\n"
     ]
    }
   ],
   "source": [
    "terscevir(222)"
   ]
  },
  {
   "cell_type": "code",
   "execution_count": 25,
   "id": "89043e82-507f-465a-965b-0c4b09074bc4",
   "metadata": {
    "tags": []
   },
   "outputs": [
    {
     "ename": "Exception",
     "evalue": "Evet",
     "output_type": "error",
     "traceback": [
      "\u001b[0;31m---------------------------------------------------------------------------\u001b[0m",
      "\u001b[0;31mException\u001b[0m                                 Traceback (most recent call last)",
      "Cell \u001b[0;32mIn[25], line 3\u001b[0m\n\u001b[1;32m      1\u001b[0m \u001b[38;5;28mbool\u001b[39m \u001b[38;5;241m=\u001b[39m \u001b[38;5;28;01mFalse\u001b[39;00m\n\u001b[1;32m      2\u001b[0m \u001b[38;5;28;01mif\u001b[39;00m \u001b[38;5;129;01mnot\u001b[39;00m \u001b[38;5;28mbool\u001b[39m:\n\u001b[0;32m----> 3\u001b[0m     \u001b[38;5;28;01mraise\u001b[39;00m \u001b[38;5;167;01mException\u001b[39;00m(\u001b[38;5;124m\"\u001b[39m\u001b[38;5;124mEvet\u001b[39m\u001b[38;5;124m\"\u001b[39m)\n\u001b[1;32m      4\u001b[0m \u001b[38;5;28;01melse\u001b[39;00m:\n\u001b[1;32m      5\u001b[0m     \u001b[38;5;28mprint\u001b[39m(\u001b[38;5;124m\"\u001b[39m\u001b[38;5;124mHayır\u001b[39m\u001b[38;5;124m\"\u001b[39m)\n",
      "\u001b[0;31mException\u001b[0m: Evet"
     ]
    }
   ],
   "source": [
    "bool = False\n",
    "if not bool:\n",
    "    raise Exception(\"Evet\")\n",
    "else:\n",
    "    print(\"Hayır\")"
   ]
  },
  {
   "cell_type": "code",
   "execution_count": 31,
   "id": "bc3cbc31-59a8-4d28-b8de-7e73bf241015",
   "metadata": {
    "tags": []
   },
   "outputs": [],
   "source": [
    "# başka bir örnek\n",
    "yasaklı_kelime_listesi = [\"kötü\",\"çirkin\",\"berbat\"]\n",
    "def temizle(s):\n",
    "    for kelime in yasaklı_kelime_listesi:\n",
    "        if kelime in s.lower():\n",
    "            raise Exception(\"Kelime yasaklı!!!\")\n",
    "    return s\n"
   ]
  },
  {
   "cell_type": "code",
   "execution_count": 32,
   "id": "234f001e-6f7e-422e-90cc-cf5939bf1ab6",
   "metadata": {
    "tags": []
   },
   "outputs": [
    {
     "data": {
      "text/plain": [
       "'Hayat çok güzel'"
      ]
     },
     "execution_count": 32,
     "metadata": {},
     "output_type": "execute_result"
    }
   ],
   "source": [
    "temizle(\"Hayat çok güzel\")"
   ]
  },
  {
   "cell_type": "code",
   "execution_count": 33,
   "id": "6593a761-f541-4cd5-b9bf-33eb869d09bf",
   "metadata": {
    "tags": []
   },
   "outputs": [
    {
     "ename": "Exception",
     "evalue": "Kelime yasaklı!!!",
     "output_type": "error",
     "traceback": [
      "\u001b[0;31m---------------------------------------------------------------------------\u001b[0m",
      "\u001b[0;31mException\u001b[0m                                 Traceback (most recent call last)",
      "Cell \u001b[0;32mIn[33], line 1\u001b[0m\n\u001b[0;32m----> 1\u001b[0m \u001b[43mtemizle\u001b[49m\u001b[43m(\u001b[49m\u001b[38;5;124;43m\"\u001b[39;49m\u001b[38;5;124;43mhayat Berbat\u001b[39;49m\u001b[38;5;124;43m\"\u001b[39;49m\u001b[43m)\u001b[49m\n",
      "Cell \u001b[0;32mIn[31], line 6\u001b[0m, in \u001b[0;36mtemizle\u001b[0;34m(s)\u001b[0m\n\u001b[1;32m      4\u001b[0m \u001b[38;5;28;01mfor\u001b[39;00m kelime \u001b[38;5;129;01min\u001b[39;00m yasaklı_kelime_listesi:\n\u001b[1;32m      5\u001b[0m     \u001b[38;5;28;01mif\u001b[39;00m kelime \u001b[38;5;129;01min\u001b[39;00m s\u001b[38;5;241m.\u001b[39mlower():\n\u001b[0;32m----> 6\u001b[0m         \u001b[38;5;28;01mraise\u001b[39;00m \u001b[38;5;167;01mException\u001b[39;00m(\u001b[38;5;124m\"\u001b[39m\u001b[38;5;124mKelime yasaklı!!!\u001b[39m\u001b[38;5;124m\"\u001b[39m)\n\u001b[1;32m      7\u001b[0m \u001b[38;5;28;01mreturn\u001b[39;00m s\n",
      "\u001b[0;31mException\u001b[0m: Kelime yasaklı!!!"
     ]
    }
   ],
   "source": [
    "temizle(\"hayat Berbat\")"
   ]
  },
  {
   "cell_type": "code",
   "execution_count": 36,
   "id": "c7a96e6c-89e9-4252-96c2-8ac52fef701a",
   "metadata": {
    "tags": []
   },
   "outputs": [
    {
     "name": "stdout",
     "output_type": "stream",
     "text": [
      "Kelime yasaklı!!!\n"
     ]
    }
   ],
   "source": [
    "print(\"Kelime yasaklı!!!\")"
   ]
  },
  {
   "cell_type": "code",
   "execution_count": 40,
   "id": "c5e0ef39-6ac5-42e1-8142-d0ba1a1b6477",
   "metadata": {
    "tags": []
   },
   "outputs": [
    {
     "name": "stdout",
     "output_type": "stream",
     "text": [
      "Kelime yasaklı!!!\n"
     ]
    }
   ],
   "source": [
    "try:\n",
    "    temizle(\"hayat Berbat\")\n",
    "except Exception as e:\n",
    "    print(e)"
   ]
  },
  {
   "cell_type": "code",
   "execution_count": 1,
   "id": "4ca3915c-5470-46e7-9ce9-6feec9bf47af",
   "metadata": {},
   "outputs": [
    {
     "ename": "AssertionError",
     "evalue": "Eleman sayısı yeterli değil!",
     "output_type": "error",
     "traceback": [
      "\u001b[0;31m---------------------------------------------------------------------------\u001b[0m",
      "\u001b[0;31mAssertionError\u001b[0m                            Traceback (most recent call last)",
      "Cell \u001b[0;32mIn[1], line 3\u001b[0m\n\u001b[1;32m      1\u001b[0m \u001b[38;5;66;03m# assert\u001b[39;00m\n\u001b[1;32m      2\u001b[0m örnek \u001b[38;5;241m=\u001b[39m [\u001b[38;5;241m1\u001b[39m,\u001b[38;5;241m2\u001b[39m,\u001b[38;5;241m3\u001b[39m]\n\u001b[0;32m----> 3\u001b[0m \u001b[38;5;28;01massert\u001b[39;00m \u001b[38;5;28mlen\u001b[39m(örnek) \u001b[38;5;241m==\u001b[39m \u001b[38;5;241m6\u001b[39m, \u001b[38;5;124m\"\u001b[39m\u001b[38;5;124mEleman sayısı yeterli değil!\u001b[39m\u001b[38;5;124m\"\u001b[39m\n",
      "\u001b[0;31mAssertionError\u001b[0m: Eleman sayısı yeterli değil!"
     ]
    }
   ],
   "source": [
    "# assert\n",
    "örnek = [1,2,3]\n",
    "assert len(örnek) == 6, \"Eleman sayısı yeterli değil!\""
   ]
  },
  {
   "cell_type": "code",
   "execution_count": 4,
   "id": "845688bf-dc40-4eb5-9e9f-e09e682a912c",
   "metadata": {
    "tags": []
   },
   "outputs": [
    {
     "ename": "AssertionError",
     "evalue": "Eleman sayısı yeterli değil!",
     "output_type": "error",
     "traceback": [
      "\u001b[0;31m---------------------------------------------------------------------------\u001b[0m",
      "\u001b[0;31mAssertionError\u001b[0m                            Traceback (most recent call last)",
      "Cell \u001b[0;32mIn[4], line 3\u001b[0m\n\u001b[1;32m      1\u001b[0m \u001b[38;5;66;03m# assert\u001b[39;00m\n\u001b[1;32m      2\u001b[0m örnek \u001b[38;5;241m=\u001b[39m [\u001b[38;5;241m1\u001b[39m,\u001b[38;5;241m2\u001b[39m,\u001b[38;5;241m3\u001b[39m]\n\u001b[0;32m----> 3\u001b[0m \u001b[38;5;28;01massert\u001b[39;00m \u001b[38;5;28mlen\u001b[39m(örnek) \u001b[38;5;241m==\u001b[39m \u001b[38;5;241m4\u001b[39m, \u001b[38;5;124m\"\u001b[39m\u001b[38;5;124mEleman sayısı yeterli değil!\u001b[39m\u001b[38;5;124m\"\u001b[39m\n\u001b[1;32m      4\u001b[0m \u001b[38;5;28mprint\u001b[39m(\u001b[38;5;124m\"\u001b[39m\u001b[38;5;124mkoşul sağlandığı için hata vermedi\u001b[39m\u001b[38;5;124m\"\u001b[39m)\n",
      "\u001b[0;31mAssertionError\u001b[0m: Eleman sayısı yeterli değil!"
     ]
    }
   ],
   "source": [
    "# assert\n",
    "örnek = [1,2,3]\n",
    "assert len(örnek) == 4, \"Eleman sayısı yeterli değil!\"\n",
    "print(\"koşul sağlandığı için hata vermedi\")"
   ]
  },
  {
   "cell_type": "code",
   "execution_count": 5,
   "id": "7ec5b032-a1e9-4ea5-8b50-3b52e6c10f03",
   "metadata": {
    "tags": []
   },
   "outputs": [
    {
     "name": "stdout",
     "output_type": "stream",
     "text": [
      "Hata yok\n"
     ]
    }
   ],
   "source": [
    "if len(örnek) > 5:\n",
    "    raise Exception (\"Hata\")\n",
    "else:\n",
    "    print(\"Hata yok\")"
   ]
  },
  {
   "cell_type": "code",
   "execution_count": 6,
   "id": "487e4b24-4de6-40f2-9510-bea4c4231795",
   "metadata": {
    "tags": []
   },
   "outputs": [
    {
     "ename": "Exception",
     "evalue": "Hata",
     "output_type": "error",
     "traceback": [
      "\u001b[0;31m---------------------------------------------------------------------------\u001b[0m",
      "\u001b[0;31mException\u001b[0m                                 Traceback (most recent call last)",
      "Cell \u001b[0;32mIn[6], line 4\u001b[0m\n\u001b[1;32m      2\u001b[0m     \u001b[38;5;28mprint\u001b[39m (\u001b[38;5;124m\"\u001b[39m\u001b[38;5;124mhata yok\u001b[39m\u001b[38;5;124m\"\u001b[39m)\n\u001b[1;32m      3\u001b[0m \u001b[38;5;28;01melse\u001b[39;00m:\n\u001b[0;32m----> 4\u001b[0m     \u001b[38;5;28;01mraise\u001b[39;00m \u001b[38;5;167;01mException\u001b[39;00m (\u001b[38;5;124m\"\u001b[39m\u001b[38;5;124mHata\u001b[39m\u001b[38;5;124m\"\u001b[39m)\n",
      "\u001b[0;31mException\u001b[0m: Hata"
     ]
    }
   ],
   "source": [
    "if len(örnek) > 5:\n",
    "    print (\"hata yok\")\n",
    "else:\n",
    "    raise Exception (\"Hata\")"
   ]
  },
  {
   "cell_type": "code",
   "execution_count": 7,
   "id": "65cb47b9-033a-4dac-b4c4-ac2715796acd",
   "metadata": {
    "tags": []
   },
   "outputs": [],
   "source": [
    "def kare_al(sayi):\n",
    "    assert sayi > 0, \"Sayı Pozitif olmalıdır\"\n",
    "    return sayi**2\n",
    "    print(\"Sayının karesi alındı.\")\n"
   ]
  },
  {
   "cell_type": "code",
   "execution_count": 8,
   "id": "5bcf8506-9b3e-4baf-9f5a-6adcd7aececf",
   "metadata": {
    "tags": []
   },
   "outputs": [
    {
     "data": {
      "text/plain": [
       "4"
      ]
     },
     "execution_count": 8,
     "metadata": {},
     "output_type": "execute_result"
    }
   ],
   "source": [
    "kare_al(2)"
   ]
  },
  {
   "cell_type": "code",
   "execution_count": 9,
   "id": "11760a71-307c-4324-80c7-62e9204d5c2f",
   "metadata": {
    "tags": []
   },
   "outputs": [
    {
     "ename": "AssertionError",
     "evalue": "Sayı Pozitif olmalıdır",
     "output_type": "error",
     "traceback": [
      "\u001b[0;31m---------------------------------------------------------------------------\u001b[0m",
      "\u001b[0;31mAssertionError\u001b[0m                            Traceback (most recent call last)",
      "Cell \u001b[0;32mIn[9], line 1\u001b[0m\n\u001b[0;32m----> 1\u001b[0m \u001b[43mkare_al\u001b[49m\u001b[43m(\u001b[49m\u001b[38;5;241;43m-\u001b[39;49m\u001b[38;5;241;43m2\u001b[39;49m\u001b[43m)\u001b[49m\n",
      "Cell \u001b[0;32mIn[7], line 2\u001b[0m, in \u001b[0;36mkare_al\u001b[0;34m(sayi)\u001b[0m\n\u001b[1;32m      1\u001b[0m \u001b[38;5;28;01mdef\u001b[39;00m \u001b[38;5;21mkare_al\u001b[39m(sayi):\n\u001b[0;32m----> 2\u001b[0m     \u001b[38;5;28;01massert\u001b[39;00m sayi \u001b[38;5;241m>\u001b[39m \u001b[38;5;241m0\u001b[39m, \u001b[38;5;124m\"\u001b[39m\u001b[38;5;124mSayı Pozitif olmalıdır\u001b[39m\u001b[38;5;124m\"\u001b[39m\n\u001b[1;32m      3\u001b[0m     \u001b[38;5;28;01mreturn\u001b[39;00m sayi\u001b[38;5;241m*\u001b[39m\u001b[38;5;241m*\u001b[39m\u001b[38;5;241m2\u001b[39m\n\u001b[1;32m      4\u001b[0m     \u001b[38;5;28mprint\u001b[39m(\u001b[38;5;124m\"\u001b[39m\u001b[38;5;124mSayının karesi alındı.\u001b[39m\u001b[38;5;124m\"\u001b[39m)\n",
      "\u001b[0;31mAssertionError\u001b[0m: Sayı Pozitif olmalıdır"
     ]
    }
   ],
   "source": [
    "kare_al(-2)"
   ]
  },
  {
   "cell_type": "code",
   "execution_count": null,
   "id": "768fa5f9-13e7-4fe2-a76b-3ce76dcc23ae",
   "metadata": {
    "tags": []
   },
   "outputs": [
    {
     "name": "stdin",
     "output_type": "stream",
     "text": [
      "sayı: a\n"
     ]
    },
    {
     "name": "stdout",
     "output_type": "stream",
     "text": [
      "Lütfen geçerli bir numerik değer giriniz.\n",
      "Hata:  invalid literal for int() with base 10: 'a'\n",
      "finally her koşulda çalışır\n"
     ]
    },
    {
     "name": "stdin",
     "output_type": "stream",
     "text": [
      "sayı: a\n"
     ]
    },
    {
     "name": "stdout",
     "output_type": "stream",
     "text": [
      "Lütfen geçerli bir numerik değer giriniz.\n",
      "Hata:  invalid literal for int() with base 10: 'a'\n",
      "finally her koşulda çalışır\n"
     ]
    }
   ],
   "source": [
    "while True:\n",
    "    count = 0\n",
    "    try:\n",
    "        sayı = int(input(\"sayı:\"))\n",
    "        print(\"girdiğiniz sayı: \", sayı)\n",
    "    except Exception as e:\n",
    "        print(\"Lütfen geçerli bir numerik değer giriniz.\")\n",
    "        print(\"Hata: \", e)\n",
    "        count += 1\n",
    "        if count > 3:\n",
    "            break\n",
    "    else:\n",
    "        print(\"else çalıştı ve programdan çıkılıyor\")\n",
    "        break\n",
    "    finally:\n",
    "        print(\"finally her koşulda çalışır\")"
   ]
  },
  {
   "cell_type": "code",
   "execution_count": null,
   "id": "202d8400-ffc0-496b-aa9c-a36dd8a9b2aa",
   "metadata": {},
   "outputs": [],
   "source": [
    "while True:\n",
    "    pass"
   ]
  }
 ],
 "metadata": {
  "kernelspec": {
   "display_name": "Python 3 (ipykernel)",
   "language": "python",
   "name": "python3"
  },
  "language_info": {
   "codemirror_mode": {
    "name": "ipython",
    "version": 3
   },
   "file_extension": ".py",
   "mimetype": "text/x-python",
   "name": "python",
   "nbconvert_exporter": "python",
   "pygments_lexer": "ipython3",
   "version": "3.10.6"
  }
 },
 "nbformat": 4,
 "nbformat_minor": 5
}
