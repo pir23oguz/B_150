{
 "cells": [
  {
   "cell_type": "markdown",
   "id": "c790f7fa-c319-4c7e-a630-3c5da36f5e84",
   "metadata": {},
   "source": [
    "# Nesne Yönelimli Programlama"
   ]
  },
  {
   "cell_type": "code",
   "execution_count": 8,
   "id": "305c8de9-af92-4491-a515-b4a5541e0c30",
   "metadata": {
    "tags": []
   },
   "outputs": [],
   "source": [
    "class MyFirstClass:\n",
    "    pass"
   ]
  },
  {
   "cell_type": "code",
   "execution_count": 9,
   "id": "58e9243a-d002-41e3-9451-abaae835aed8",
   "metadata": {
    "tags": []
   },
   "outputs": [
    {
     "name": "stdout",
     "output_type": "stream",
     "text": [
      "<class 'type'>\n"
     ]
    }
   ],
   "source": [
    "print(type(MyFirstClass))"
   ]
  },
  {
   "cell_type": "code",
   "execution_count": 10,
   "id": "45113909-062d-4a47-b037-4d4f0e5b1dae",
   "metadata": {
    "tags": []
   },
   "outputs": [
    {
     "name": "stdout",
     "output_type": "stream",
     "text": [
      "<class 'int'>\n",
      "<class 'str'>\n",
      "<class 'list'>\n",
      "<class '__main__.MyFirstClass'>\n"
     ]
    }
   ],
   "source": [
    "print(int)\n",
    "print(str)\n",
    "print(list)\n",
    "print(MyFirstClass)"
   ]
  },
  {
   "cell_type": "code",
   "execution_count": 11,
   "id": "3ba977e8-ad5d-4811-94c6-2a5c9446acaf",
   "metadata": {
    "tags": []
   },
   "outputs": [],
   "source": [
    "class MyFirstClass:\n",
    "    pass"
   ]
  },
  {
   "cell_type": "code",
   "execution_count": 18,
   "id": "1963782d-4902-4682-8ff1-f5cdb96f42e6",
   "metadata": {
    "tags": []
   },
   "outputs": [],
   "source": [
    "class MyFirstClass:\n",
    "    pass"
   ]
  },
  {
   "cell_type": "code",
   "execution_count": 12,
   "id": "a8304052-e84d-4e56-88a1-ed85602d6e4d",
   "metadata": {
    "tags": []
   },
   "outputs": [],
   "source": [
    "my_class = MyFirstClass()"
   ]
  },
  {
   "cell_type": "code",
   "execution_count": 13,
   "id": "46fd7818-075e-45b6-b339-6336ed8af6d6",
   "metadata": {
    "tags": []
   },
   "outputs": [
    {
     "data": {
      "text/plain": [
       "<__main__.MyFirstClass at 0x7f2681f858a0>"
      ]
     },
     "execution_count": 13,
     "metadata": {},
     "output_type": "execute_result"
    }
   ],
   "source": [
    "my_class"
   ]
  },
  {
   "cell_type": "code",
   "execution_count": 21,
   "id": "e7fa56d8-1d78-47e4-b7bc-b1fd20949e09",
   "metadata": {
    "tags": []
   },
   "outputs": [
    {
     "name": "stdout",
     "output_type": "stream",
     "text": [
      "<__main__.Person object at 0x7f2681f86350>\n",
      "<__main__.Person object at 0x7f2681f84e50>\n"
     ]
    }
   ],
   "source": [
    "class Person:\n",
    "    pass\n",
    "\n",
    "p1 = Person()\n",
    "print(p1)\n",
    "p2 = Person()\n",
    "print(p2)\n",
    "p3 = Person()"
   ]
  },
  {
   "cell_type": "code",
   "execution_count": 23,
   "id": "eb366e6e-c199-4ff8-aae1-3c93c38ff80a",
   "metadata": {
    "tags": []
   },
   "outputs": [],
   "source": [
    "p1.name = \"Ahmet\"\n",
    "p1.surname = \"Yılmaz\"\n",
    "p1.age = 25\n",
    "p1.job = \"Engineer\""
   ]
  },
  {
   "cell_type": "code",
   "execution_count": 24,
   "id": "a9287e22-b626-4fb6-8946-84a87b55f698",
   "metadata": {
    "tags": []
   },
   "outputs": [],
   "source": [
    "p2 = Person()\n",
    "p2.name = \"Mehmet\"\n",
    "p2.surname = \"Yılmaz\"\n",
    "p2.age = 30\n",
    "p2.job = \"Teacher\"\n",
    "p2.country = \"Turkiye\"\n",
    "\n"
   ]
  },
  {
   "cell_type": "code",
   "execution_count": 26,
   "id": "94179c43-c78f-4368-973d-ee212125cfb0",
   "metadata": {
    "tags": []
   },
   "outputs": [
    {
     "name": "stdout",
     "output_type": "stream",
     "text": [
      "Ahmet Yılmaz 25 Engineer\n"
     ]
    }
   ],
   "source": [
    "print(p1.name, p1.surname, p1.age, p1.job)"
   ]
  },
  {
   "cell_type": "code",
   "execution_count": 27,
   "id": "1823af58-5e1b-43ea-9aa8-c76fe1591bec",
   "metadata": {
    "tags": []
   },
   "outputs": [
    {
     "data": {
      "text/plain": [
       "'Ahmet'"
      ]
     },
     "execution_count": 27,
     "metadata": {},
     "output_type": "execute_result"
    }
   ],
   "source": [
    "p1.name"
   ]
  },
  {
   "cell_type": "code",
   "execution_count": 28,
   "id": "8053b8a6-97ab-4a68-9a2a-622c26fa4ca4",
   "metadata": {
    "tags": []
   },
   "outputs": [
    {
     "data": {
      "text/plain": [
       "str"
      ]
     },
     "execution_count": 28,
     "metadata": {},
     "output_type": "execute_result"
    }
   ],
   "source": [
    "type(p1.name)"
   ]
  },
  {
   "cell_type": "code",
   "execution_count": 29,
   "id": "7418bf43-c731-4c6a-bd3b-bc7428fe257a",
   "metadata": {
    "tags": []
   },
   "outputs": [
    {
     "name": "stdout",
     "output_type": "stream",
     "text": [
      "Mehmet Yılmaz 30 Turkiye\n"
     ]
    }
   ],
   "source": [
    "print(p2.name, p2.surname,p2.age,p2.country)"
   ]
  },
  {
   "cell_type": "code",
   "execution_count": 30,
   "id": "7e76cc15-0d7b-41ce-a432-e6f5f4617292",
   "metadata": {
    "tags": []
   },
   "outputs": [],
   "source": [
    "class Person:\n",
    "    def __init__(self):\n",
    "        self.name = \"No name\"\n",
    "        self.surname = \"No Surname\"\n",
    "        self.age = \"No age\"\n",
    "        self.job = \"No job\"\n",
    "        \n",
    "        \n",
    "        "
   ]
  },
  {
   "cell_type": "code",
   "execution_count": 31,
   "id": "a80ba8b7-6baf-42c9-9a22-5be7c5b3c6ac",
   "metadata": {
    "tags": []
   },
   "outputs": [],
   "source": [
    "p1 = Person()"
   ]
  },
  {
   "cell_type": "code",
   "execution_count": 33,
   "id": "6df1b8f3-3946-4441-8125-e7288fcd7918",
   "metadata": {
    "tags": []
   },
   "outputs": [
    {
     "data": {
      "text/plain": [
       "('No name', 'No Surname', 'No age', 'No job')"
      ]
     },
     "execution_count": 33,
     "metadata": {},
     "output_type": "execute_result"
    }
   ],
   "source": [
    "p1.name, p1.surname, p1.age,p1.job"
   ]
  },
  {
   "cell_type": "code",
   "execution_count": 34,
   "id": "d0cb8729-dd59-4772-8e4a-f38e78feab78",
   "metadata": {
    "tags": []
   },
   "outputs": [
    {
     "name": "stdout",
     "output_type": "stream",
     "text": [
      "No name\n",
      "No Surname\n"
     ]
    }
   ],
   "source": [
    "print(p1.name)\n",
    "print(p1.surname)"
   ]
  },
  {
   "cell_type": "code",
   "execution_count": 35,
   "id": "0a7867cc-e76e-446d-8dc4-b0df33a40d98",
   "metadata": {
    "tags": []
   },
   "outputs": [],
   "source": [
    "class Person:\n",
    "    def __init__(kendim):\n",
    "        kendim.name = \"No name\"\n",
    "        kendim.surname = \"No Surname\"\n",
    "        kendim.age = \"No age\"\n",
    "        kendim.job = \"No job\"\n",
    "        \n",
    "        \n",
    "        "
   ]
  },
  {
   "cell_type": "code",
   "execution_count": 36,
   "id": "8c269db6-acdc-48a3-bb03-7a6b5a0726ac",
   "metadata": {
    "tags": []
   },
   "outputs": [],
   "source": [
    "p100 = Person()"
   ]
  },
  {
   "cell_type": "code",
   "execution_count": 37,
   "id": "39cc65cd-78e2-48a9-87b1-c4f8ed711c10",
   "metadata": {
    "tags": []
   },
   "outputs": [
    {
     "data": {
      "text/plain": [
       "'No name'"
      ]
     },
     "execution_count": 37,
     "metadata": {},
     "output_type": "execute_result"
    }
   ],
   "source": [
    "p100.name"
   ]
  },
  {
   "cell_type": "code",
   "execution_count": 38,
   "id": "5475825e-1567-404d-9b21-d489eb02ab0b",
   "metadata": {
    "tags": []
   },
   "outputs": [
    {
     "data": {
      "text/plain": [
       "'No age'"
      ]
     },
     "execution_count": 38,
     "metadata": {},
     "output_type": "execute_result"
    }
   ],
   "source": [
    "p100.age"
   ]
  },
  {
   "cell_type": "code",
   "execution_count": 39,
   "id": "0892a302-0a6f-4da4-b966-4f5f6c3726c4",
   "metadata": {
    "tags": []
   },
   "outputs": [
    {
     "ename": "AttributeError",
     "evalue": "'Person' object has no attribute 'country'",
     "output_type": "error",
     "traceback": [
      "\u001b[0;31m---------------------------------------------------------------------------\u001b[0m",
      "\u001b[0;31mAttributeError\u001b[0m                            Traceback (most recent call last)",
      "Cell \u001b[0;32mIn[39], line 1\u001b[0m\n\u001b[0;32m----> 1\u001b[0m \u001b[43mp100\u001b[49m\u001b[38;5;241;43m.\u001b[39;49m\u001b[43mcountry\u001b[49m \n",
      "\u001b[0;31mAttributeError\u001b[0m: 'Person' object has no attribute 'country'"
     ]
    }
   ],
   "source": [
    "p100.country "
   ]
  },
  {
   "cell_type": "code",
   "execution_count": 45,
   "id": "4fb6d99f-99e3-412c-bbec-78abc33fac97",
   "metadata": {
    "tags": []
   },
   "outputs": [
    {
     "ename": "NameError",
     "evalue": "name 'kendim' is not defined",
     "output_type": "error",
     "traceback": [
      "\u001b[0;31m---------------------------------------------------------------------------\u001b[0m",
      "\u001b[0;31mNameError\u001b[0m                                 Traceback (most recent call last)",
      "Cell \u001b[0;32mIn[45], line 9\u001b[0m\n\u001b[1;32m      5\u001b[0m         kendim\u001b[38;5;241m.\u001b[39mage \u001b[38;5;241m=\u001b[39m \u001b[38;5;124m\"\u001b[39m\u001b[38;5;124mNo age\u001b[39m\u001b[38;5;124m\"\u001b[39m\n\u001b[1;32m      6\u001b[0m         kendim\u001b[38;5;241m.\u001b[39mjob \u001b[38;5;241m=\u001b[39m \u001b[38;5;124m\"\u001b[39m\u001b[38;5;124mNo job\u001b[39m\u001b[38;5;124m\"\u001b[39m\n\u001b[0;32m----> 9\u001b[0m p100 \u001b[38;5;241m=\u001b[39m \u001b[43mPerson\u001b[49m\u001b[43m(\u001b[49m\u001b[43m)\u001b[49m        \n",
      "Cell \u001b[0;32mIn[45], line 3\u001b[0m, in \u001b[0;36mPerson.__init__\u001b[0;34m(self)\u001b[0m\n\u001b[1;32m      2\u001b[0m \u001b[38;5;28;01mdef\u001b[39;00m \u001b[38;5;21m__init__\u001b[39m(\u001b[38;5;28mself\u001b[39m):\n\u001b[0;32m----> 3\u001b[0m     \u001b[43mkendim\u001b[49m\u001b[38;5;241m.\u001b[39mname \u001b[38;5;241m=\u001b[39m \u001b[38;5;124m\"\u001b[39m\u001b[38;5;124mNo name\u001b[39m\u001b[38;5;124m\"\u001b[39m\n\u001b[1;32m      4\u001b[0m     kendim\u001b[38;5;241m.\u001b[39msurname \u001b[38;5;241m=\u001b[39m \u001b[38;5;124m\"\u001b[39m\u001b[38;5;124mNo Surname\u001b[39m\u001b[38;5;124m\"\u001b[39m\n\u001b[1;32m      5\u001b[0m     kendim\u001b[38;5;241m.\u001b[39mage \u001b[38;5;241m=\u001b[39m \u001b[38;5;124m\"\u001b[39m\u001b[38;5;124mNo age\u001b[39m\u001b[38;5;124m\"\u001b[39m\n",
      "\u001b[0;31mNameError\u001b[0m: name 'kendim' is not defined"
     ]
    }
   ],
   "source": [
    "class Person:\n",
    "    def __init__(self):\n",
    "        kendim.name = \"No name\"\n",
    "        kendim.surname = \"No Surname\"\n",
    "        kendim.age = \"No age\"\n",
    "        kendim.job = \"No job\"\n",
    "        \n",
    "        \n",
    "p100 = Person()  \n",
    "\n",
    "# __init__ fonksiyonu içerisine verilen parametre üzerinden attribute tanımlamalıyız."
   ]
  },
  {
   "cell_type": "code",
   "execution_count": 43,
   "id": "2a04ff4b-d886-4e55-83f3-e7c21e64922f",
   "metadata": {
    "tags": []
   },
   "outputs": [],
   "source": []
  },
  {
   "cell_type": "code",
   "execution_count": 46,
   "id": "2b0c1334-2b5e-46e9-9dd0-f9f2c23dc489",
   "metadata": {
    "tags": []
   },
   "outputs": [],
   "source": [
    "class Person:\n",
    "    def __init__(self):\n",
    "        self.name = \"No name\"\n",
    "        self.surname = \"No Surname\"\n",
    "        self.age = \"No age\"\n",
    "        self.job = \"No job\"\n",
    "        \n",
    "        \n",
    "        "
   ]
  },
  {
   "cell_type": "code",
   "execution_count": 50,
   "id": "74607ee9-8eb3-4f0f-afc8-59f3b29310a4",
   "metadata": {
    "tags": []
   },
   "outputs": [
    {
     "name": "stdout",
     "output_type": "stream",
     "text": [
      "No name\n",
      "Ahmet\n"
     ]
    }
   ],
   "source": [
    "p1 = Person()\n",
    "print(p1.name)\n",
    "p1.name = \"Ahmet\"\n",
    "print(p1.name)"
   ]
  },
  {
   "cell_type": "code",
   "execution_count": 59,
   "id": "46f6ca64-f604-4fe9-aca4-119f8223db62",
   "metadata": {
    "tags": []
   },
   "outputs": [],
   "source": [
    "class Person:\n",
    "    def __init__(self,name,surname,age,job):\n",
    "        self.name      = name\n",
    "        self.surname   = surname\n",
    "        self.age       = age\n",
    "        self.job       = job\n",
    "        \n",
    "        \n",
    "        \n",
    "        "
   ]
  },
  {
   "cell_type": "code",
   "execution_count": 60,
   "id": "763812f3-a259-47af-b66a-c0a7ed73cec0",
   "metadata": {
    "tags": []
   },
   "outputs": [
    {
     "ename": "TypeError",
     "evalue": "Person.__init__() missing 4 required positional arguments: 'name', 'surname', 'age', and 'job'",
     "output_type": "error",
     "traceback": [
      "\u001b[0;31m---------------------------------------------------------------------------\u001b[0m",
      "\u001b[0;31mTypeError\u001b[0m                                 Traceback (most recent call last)",
      "Cell \u001b[0;32mIn[60], line 1\u001b[0m\n\u001b[0;32m----> 1\u001b[0m p1 \u001b[38;5;241m=\u001b[39m \u001b[43mPerson\u001b[49m\u001b[43m(\u001b[49m\u001b[43m)\u001b[49m\n",
      "\u001b[0;31mTypeError\u001b[0m: Person.__init__() missing 4 required positional arguments: 'name', 'surname', 'age', and 'job'"
     ]
    }
   ],
   "source": [
    "p1 = Person()"
   ]
  },
  {
   "cell_type": "code",
   "execution_count": 63,
   "id": "8b85f268-2f84-490b-a72b-c3f48e2a1d14",
   "metadata": {
    "tags": []
   },
   "outputs": [],
   "source": [
    "p1 = Person(\"Ali\",\"Veli\",30,\"IT\")"
   ]
  },
  {
   "cell_type": "code",
   "execution_count": 64,
   "id": "9ab62047-b38d-4150-a6f9-839529790939",
   "metadata": {
    "tags": []
   },
   "outputs": [
    {
     "name": "stdout",
     "output_type": "stream",
     "text": [
      "Ali\n",
      "Veli\n",
      "30\n",
      "IT\n"
     ]
    }
   ],
   "source": [
    "print(p1.name)\n",
    "print(p1.surname)\n",
    "print(p1.age)\n",
    "print(p1.job)"
   ]
  },
  {
   "cell_type": "code",
   "execution_count": 65,
   "id": "646bc9d2-3a63-4ff4-a8d9-777c3b76b311",
   "metadata": {
    "tags": []
   },
   "outputs": [],
   "source": [
    "p2 = Person(10,20,\"serdar\",100)\n"
   ]
  },
  {
   "cell_type": "code",
   "execution_count": 66,
   "id": "dbf70012-a54f-4640-b9e5-05bace5e65e9",
   "metadata": {
    "tags": []
   },
   "outputs": [
    {
     "data": {
      "text/plain": [
       "10"
      ]
     },
     "execution_count": 66,
     "metadata": {},
     "output_type": "execute_result"
    }
   ],
   "source": [
    "p2.name"
   ]
  },
  {
   "cell_type": "code",
   "execution_count": 67,
   "id": "48b841d6-341f-41ac-a75d-f69637b09f0e",
   "metadata": {
    "tags": []
   },
   "outputs": [
    {
     "data": {
      "text/plain": [
       "100"
      ]
     },
     "execution_count": 67,
     "metadata": {},
     "output_type": "execute_result"
    }
   ],
   "source": [
    "p2.job"
   ]
  },
  {
   "cell_type": "code",
   "execution_count": 72,
   "id": "5cdcce65-720f-4546-b153-11571686e83e",
   "metadata": {
    "tags": []
   },
   "outputs": [],
   "source": [
    "class Person:\n",
    "    def __init__(self,a,b,c,d):\n",
    "        self.name      = a\n",
    "        self.surname   = b\n",
    "        self.age       = c\n",
    "        self.job       = d\n",
    "        \n",
    "        \n",
    "        \n",
    "        "
   ]
  },
  {
   "cell_type": "code",
   "execution_count": 73,
   "id": "11141e4d-aa3a-4f34-96fb-c26b4847826b",
   "metadata": {
    "tags": []
   },
   "outputs": [],
   "source": [
    "p3 = Person(\"Ali\", \"Veli\",30,[\"Yazılımcı\",\"Pazarlamacı\",\"Teacher\"])"
   ]
  },
  {
   "cell_type": "code",
   "execution_count": 74,
   "id": "98054822-2db7-40ea-8920-b17de2bbb792",
   "metadata": {
    "tags": []
   },
   "outputs": [
    {
     "data": {
      "text/plain": [
       "['Yazılımcı', 'Pazarlamacı', 'Teacher']"
      ]
     },
     "execution_count": 74,
     "metadata": {},
     "output_type": "execute_result"
    }
   ],
   "source": [
    "p3.job"
   ]
  },
  {
   "cell_type": "code",
   "execution_count": 75,
   "id": "bf58cc3f-2a38-4d23-8a3b-f897653957d2",
   "metadata": {
    "tags": []
   },
   "outputs": [],
   "source": [
    "class Person:\n",
    "    def __init__(self,name,surname,age,job):\n",
    "        self.name      = name\n",
    "        self.surname   = surname\n",
    "        self.age       = age\n",
    "        self.job       = job\n",
    "    \n",
    "    def fullname(self):\n",
    "        return f\"isim: {self.name} soyisim: {self.surname}\"\n",
    "        \n",
    "        "
   ]
  },
  {
   "cell_type": "code",
   "execution_count": 77,
   "id": "b1049686-79be-44f7-aca4-f4658e6a21d0",
   "metadata": {
    "tags": []
   },
   "outputs": [
    {
     "name": "stdout",
     "output_type": "stream",
     "text": [
      "<bound method Person.fullname of <__main__.Person object at 0x7f26815353c0>>\n"
     ]
    }
   ],
   "source": [
    "p1 = Person(\"Ali\",\"Veli\",30,\"Öğretmen\")\n",
    "print(p1.fullname)"
   ]
  },
  {
   "cell_type": "code",
   "execution_count": 78,
   "id": "96e16f7b-117e-4e8d-9f74-5fce8c57e9ac",
   "metadata": {
    "tags": []
   },
   "outputs": [
    {
     "name": "stdout",
     "output_type": "stream",
     "text": [
      "isim: Ali soyisim: Veli\n"
     ]
    }
   ],
   "source": [
    "print(p1.fullname())"
   ]
  },
  {
   "cell_type": "code",
   "execution_count": 84,
   "id": "39bf9552-2502-42f6-a74c-e71831e13deb",
   "metadata": {
    "tags": []
   },
   "outputs": [],
   "source": [
    "class Person:\n",
    "    def __init__(self,name,surname,age,job):\n",
    "        self.name      = name\n",
    "        self.surname   = surname\n",
    "        self.age       = age\n",
    "        self.job       = job\n",
    "    \n",
    "    def fullname(self):\n",
    "        return f\"isim: {self.name} soyisim: {self.surname}\"\n",
    "        \n",
    "    def info(self):\n",
    "        return f\"name: {self.name} surname: {self.surname} age: {self.age}\"\n",
    "    "
   ]
  },
  {
   "cell_type": "code",
   "execution_count": 85,
   "id": "824573bc-6acb-43da-81ba-797a45e7b655",
   "metadata": {
    "tags": []
   },
   "outputs": [],
   "source": [
    "p1 = Person(\"Ali\",\"Veli\",30,\"Öğretmen\")\n"
   ]
  },
  {
   "cell_type": "code",
   "execution_count": 86,
   "id": "5f16e3be-c1da-4319-b1a0-311aeccfbe73",
   "metadata": {
    "tags": []
   },
   "outputs": [
    {
     "data": {
      "text/plain": [
       "'isim: Ali soyisim: Veli'"
      ]
     },
     "execution_count": 86,
     "metadata": {},
     "output_type": "execute_result"
    }
   ],
   "source": [
    "p1.fullname()"
   ]
  },
  {
   "cell_type": "code",
   "execution_count": 88,
   "id": "443ac3b9-bd18-4fe3-bac4-03a8fdaad64d",
   "metadata": {
    "tags": []
   },
   "outputs": [
    {
     "data": {
      "text/plain": [
       "'name: Ali surname: Veli age: 30'"
      ]
     },
     "execution_count": 88,
     "metadata": {},
     "output_type": "execute_result"
    }
   ],
   "source": [
    "p1.info()"
   ]
  },
  {
   "cell_type": "code",
   "execution_count": 90,
   "id": "7c7da189-9ee7-4b00-82b1-88b08dfe26fa",
   "metadata": {
    "tags": []
   },
   "outputs": [
    {
     "ename": "AttributeError",
     "evalue": "'Person' object has no attribute 'country'",
     "output_type": "error",
     "traceback": [
      "\u001b[0;31m---------------------------------------------------------------------------\u001b[0m",
      "\u001b[0;31mAttributeError\u001b[0m                            Traceback (most recent call last)",
      "Cell \u001b[0;32mIn[90], line 1\u001b[0m\n\u001b[0;32m----> 1\u001b[0m \u001b[43mp1\u001b[49m\u001b[38;5;241;43m.\u001b[39;49m\u001b[43mcountry\u001b[49m\n",
      "\u001b[0;31mAttributeError\u001b[0m: 'Person' object has no attribute 'country'"
     ]
    }
   ],
   "source": [
    "p1.country"
   ]
  },
  {
   "cell_type": "code",
   "execution_count": 91,
   "id": "cb4a6eb5-aa4c-4884-9bc7-00b9e86e60f4",
   "metadata": {
    "tags": []
   },
   "outputs": [
    {
     "ename": "NameError",
     "evalue": "name 'x' is not defined",
     "output_type": "error",
     "traceback": [
      "\u001b[0;31m---------------------------------------------------------------------------\u001b[0m",
      "\u001b[0;31mNameError\u001b[0m                                 Traceback (most recent call last)",
      "Cell \u001b[0;32mIn[91], line 1\u001b[0m\n\u001b[0;32m----> 1\u001b[0m \u001b[43mx\u001b[49m\n",
      "\u001b[0;31mNameError\u001b[0m: name 'x' is not defined"
     ]
    }
   ],
   "source": [
    "x"
   ]
  },
  {
   "cell_type": "markdown",
   "id": "89e9a901-def3-43b1-9bce-321774fe3cb5",
   "metadata": {},
   "source": [
    "# Class Attribute & Instance Attribute"
   ]
  },
  {
   "cell_type": "code",
   "execution_count": 92,
   "id": "cc64ed88-67a4-440c-a5d9-96ceac2faf02",
   "metadata": {
    "tags": []
   },
   "outputs": [],
   "source": [
    "class Employee:\n",
    "    \"\"\" Employee Class: name, surname, pay\"\"\"\n",
    "    def __init__(self, name, surname, pay):\n",
    "        self.name = name\n",
    "        self.surname = surname\n",
    "        self.pay = pay\n",
    "    \n",
    "    def fullname(self):\n",
    "        print(self.name, self.surname)\n",
    "        \n",
    "    def pay_raise(self):\n",
    "        self.pay = int(self.pay * self.raise_amount)\n",
    "        "
   ]
  },
  {
   "cell_type": "code",
   "execution_count": 93,
   "id": "2881c249-a269-4eac-b50b-610aac458ab4",
   "metadata": {
    "tags": []
   },
   "outputs": [],
   "source": [
    "e1 = Employee(\"Ahmet\", \"Yılmaz\", 5000)\n",
    "e2 = Employee(\"Mehmet\", \"Erdemir\", 5000)"
   ]
  },
  {
   "cell_type": "code",
   "execution_count": 94,
   "id": "201d851a-56fd-4c99-8be0-3cbec9691b09",
   "metadata": {
    "tags": []
   },
   "outputs": [
    {
     "data": {
      "text/plain": [
       "{'name': 'Ahmet', 'surname': 'Yılmaz', 'pay': 5000}"
      ]
     },
     "execution_count": 94,
     "metadata": {},
     "output_type": "execute_result"
    }
   ],
   "source": [
    "e1.__dict__"
   ]
  },
  {
   "cell_type": "code",
   "execution_count": 95,
   "id": "2c3d7b91-c09e-4f0b-8601-f697fe6fe06f",
   "metadata": {
    "tags": []
   },
   "outputs": [
    {
     "data": {
      "text/plain": [
       "{'name': 'Mehmet', 'surname': 'Erdemir', 'pay': 5000}"
      ]
     },
     "execution_count": 95,
     "metadata": {},
     "output_type": "execute_result"
    }
   ],
   "source": [
    "e2.__dict__"
   ]
  },
  {
   "cell_type": "code",
   "execution_count": 96,
   "id": "8d224d55-c0f8-4707-ac4d-319164294841",
   "metadata": {
    "tags": []
   },
   "outputs": [
    {
     "name": "stdout",
     "output_type": "stream",
     "text": [
      "Ahmet Yılmaz\n"
     ]
    }
   ],
   "source": [
    "e1.fullname()"
   ]
  },
  {
   "cell_type": "code",
   "execution_count": 97,
   "id": "9bd275c3-0f9f-40be-a7fa-053db753cb98",
   "metadata": {
    "tags": []
   },
   "outputs": [
    {
     "ename": "AttributeError",
     "evalue": "'Employee' object has no attribute 'raise_amount'",
     "output_type": "error",
     "traceback": [
      "\u001b[0;31m---------------------------------------------------------------------------\u001b[0m",
      "\u001b[0;31mAttributeError\u001b[0m                            Traceback (most recent call last)",
      "Cell \u001b[0;32mIn[97], line 1\u001b[0m\n\u001b[0;32m----> 1\u001b[0m \u001b[43me1\u001b[49m\u001b[38;5;241;43m.\u001b[39;49m\u001b[43mpay_raise\u001b[49m\u001b[43m(\u001b[49m\u001b[43m)\u001b[49m\n",
      "Cell \u001b[0;32mIn[92], line 12\u001b[0m, in \u001b[0;36mEmployee.pay_raise\u001b[0;34m(self)\u001b[0m\n\u001b[1;32m     11\u001b[0m \u001b[38;5;28;01mdef\u001b[39;00m \u001b[38;5;21mpay_raise\u001b[39m(\u001b[38;5;28mself\u001b[39m):\n\u001b[0;32m---> 12\u001b[0m     \u001b[38;5;28mself\u001b[39m\u001b[38;5;241m.\u001b[39mpay \u001b[38;5;241m=\u001b[39m \u001b[38;5;28mint\u001b[39m(\u001b[38;5;28mself\u001b[39m\u001b[38;5;241m.\u001b[39mpay \u001b[38;5;241m*\u001b[39m \u001b[38;5;28;43mself\u001b[39;49m\u001b[38;5;241;43m.\u001b[39;49m\u001b[43mraise_amount\u001b[49m)\n",
      "\u001b[0;31mAttributeError\u001b[0m: 'Employee' object has no attribute 'raise_amount'"
     ]
    }
   ],
   "source": [
    "e1.pay_raise()"
   ]
  },
  {
   "cell_type": "code",
   "execution_count": 30,
   "id": "dcf74704-fe14-4c50-b4ff-cbcf587abe71",
   "metadata": {
    "tags": []
   },
   "outputs": [],
   "source": [
    "class Employee:\n",
    "    \"\"\" Employee Class: name, surname, pay\"\"\"\n",
    "    \n",
    "    raise_amount = 1.2\n",
    "    \n",
    "    def __init__(self, name, surname, pay):\n",
    "        self.name = name\n",
    "        self.surname = surname\n",
    "        self.pay = pay\n",
    "    \n",
    "    def fullname(self):\n",
    "        print(self.name, self.surname)\n",
    "        \n",
    "    def pay_raise(self):\n",
    "        self.pay = int(self.pay * Employee.raise_amount) #self yazmadığımız için her zaman class atribute değerini çekecek.\n",
    "        return self.pay\n",
    "        "
   ]
  },
  {
   "cell_type": "code",
   "execution_count": 32,
   "id": "d3a1a817-d1cd-40d9-8629-215aa5cd2f1b",
   "metadata": {
    "tags": []
   },
   "outputs": [
    {
     "data": {
      "text/plain": [
       "1.2"
      ]
     },
     "execution_count": 32,
     "metadata": {},
     "output_type": "execute_result"
    }
   ],
   "source": [
    "Employee.raise_amount"
   ]
  },
  {
   "cell_type": "code",
   "execution_count": 31,
   "id": "09f478d9-3c12-4e95-b492-88e028227a41",
   "metadata": {
    "tags": []
   },
   "outputs": [],
   "source": [
    "e1 = Employee(\"Ahmet\", \"Yılmaz\", 5000)"
   ]
  },
  {
   "cell_type": "code",
   "execution_count": 33,
   "id": "bf3dcb1d-ed64-4dfd-882b-a7bc05801a93",
   "metadata": {
    "tags": []
   },
   "outputs": [
    {
     "name": "stdout",
     "output_type": "stream",
     "text": [
      "Ahmet Yılmaz\n"
     ]
    }
   ],
   "source": [
    "Employee.fullname(e1) # yaygın olmayan bir kullanım."
   ]
  },
  {
   "cell_type": "code",
   "execution_count": 34,
   "id": "49d093ab-a8cd-4c4a-8fe7-50a15f1b1823",
   "metadata": {
    "tags": []
   },
   "outputs": [
    {
     "name": "stdout",
     "output_type": "stream",
     "text": [
      "Ahmet Yılmaz\n"
     ]
    }
   ],
   "source": [
    "e1.fullname()"
   ]
  },
  {
   "cell_type": "code",
   "execution_count": 35,
   "id": "bb228a48-b439-4825-9143-cab4c1834631",
   "metadata": {
    "tags": []
   },
   "outputs": [
    {
     "data": {
      "text/plain": [
       "1.2"
      ]
     },
     "execution_count": 35,
     "metadata": {},
     "output_type": "execute_result"
    }
   ],
   "source": [
    "e1.raise_amount"
   ]
  },
  {
   "cell_type": "code",
   "execution_count": 36,
   "id": "c6c951e6-24c0-435c-9f82-b9b31f91e6f7",
   "metadata": {
    "tags": []
   },
   "outputs": [
    {
     "data": {
      "text/plain": [
       "{'name': 'Ahmet', 'surname': 'Yılmaz', 'pay': 5000}"
      ]
     },
     "execution_count": 36,
     "metadata": {},
     "output_type": "execute_result"
    }
   ],
   "source": [
    "e1.__dict__"
   ]
  },
  {
   "cell_type": "code",
   "execution_count": 37,
   "id": "a27071d0-25f2-4bcb-ac1c-ab703d295503",
   "metadata": {
    "tags": []
   },
   "outputs": [
    {
     "data": {
      "text/plain": [
       "6000"
      ]
     },
     "execution_count": 37,
     "metadata": {},
     "output_type": "execute_result"
    }
   ],
   "source": [
    "e1.pay_raise()"
   ]
  },
  {
   "cell_type": "code",
   "execution_count": 38,
   "id": "c094a31f-8521-4873-837e-c3fbc3476893",
   "metadata": {
    "tags": []
   },
   "outputs": [
    {
     "data": {
      "text/plain": [
       "6000"
      ]
     },
     "execution_count": 38,
     "metadata": {},
     "output_type": "execute_result"
    }
   ],
   "source": [
    "e1.pay"
   ]
  },
  {
   "cell_type": "code",
   "execution_count": 39,
   "id": "c4987f52-ca62-4859-817a-84a4b0f3ef96",
   "metadata": {
    "tags": []
   },
   "outputs": [],
   "source": [
    "e2 = Employee(\"Mehmet\", \"Demir\", 5000)"
   ]
  },
  {
   "cell_type": "code",
   "execution_count": 40,
   "id": "1b7410b8-f753-4906-a3a1-7d37aa2b1522",
   "metadata": {
    "tags": []
   },
   "outputs": [
    {
     "data": {
      "text/plain": [
       "5000"
      ]
     },
     "execution_count": 40,
     "metadata": {},
     "output_type": "execute_result"
    }
   ],
   "source": [
    "e2.pay"
   ]
  },
  {
   "cell_type": "code",
   "execution_count": 41,
   "id": "a608c5a2-cfdf-4617-a886-e1afa119d4e9",
   "metadata": {
    "tags": []
   },
   "outputs": [
    {
     "data": {
      "text/plain": [
       "{'name': 'Ahmet', 'surname': 'Yılmaz', 'pay': 6000}"
      ]
     },
     "execution_count": 41,
     "metadata": {},
     "output_type": "execute_result"
    }
   ],
   "source": [
    "e1.__dict__"
   ]
  },
  {
   "cell_type": "code",
   "execution_count": 42,
   "id": "e91d8506-d621-4b85-88c7-2284b009488f",
   "metadata": {
    "tags": []
   },
   "outputs": [
    {
     "data": {
      "text/plain": [
       "{'name': 'Mehmet', 'surname': 'Demir', 'pay': 5000}"
      ]
     },
     "execution_count": 42,
     "metadata": {},
     "output_type": "execute_result"
    }
   ],
   "source": [
    "e2.__dict__"
   ]
  },
  {
   "cell_type": "code",
   "execution_count": 43,
   "id": "6796ee0e-7443-44f9-a5af-e52260039295",
   "metadata": {
    "tags": []
   },
   "outputs": [],
   "source": [
    "e3 = Employee(\"Veli\", \"Erdemir\", 5000)"
   ]
  },
  {
   "cell_type": "code",
   "execution_count": 44,
   "id": "82ad4397-e143-4f19-b41c-badd1cadbc16",
   "metadata": {
    "tags": []
   },
   "outputs": [
    {
     "data": {
      "text/plain": [
       "(6000, 5000, 5000)"
      ]
     },
     "execution_count": 44,
     "metadata": {},
     "output_type": "execute_result"
    }
   ],
   "source": [
    "e1.pay, e2.pay, e3.pay"
   ]
  },
  {
   "cell_type": "code",
   "execution_count": 45,
   "id": "cf527c44-829a-49dc-85db-d07995d8a226",
   "metadata": {
    "tags": []
   },
   "outputs": [
    {
     "data": {
      "text/plain": [
       "6000"
      ]
     },
     "execution_count": 45,
     "metadata": {},
     "output_type": "execute_result"
    }
   ],
   "source": [
    "e2.pay_raise()"
   ]
  },
  {
   "cell_type": "code",
   "execution_count": 46,
   "id": "4fa2da8c-b7c0-4965-b0a4-28111834e4c0",
   "metadata": {
    "tags": []
   },
   "outputs": [
    {
     "data": {
      "text/plain": [
       "6000"
      ]
     },
     "execution_count": 46,
     "metadata": {},
     "output_type": "execute_result"
    }
   ],
   "source": [
    "e2.pay"
   ]
  },
  {
   "cell_type": "code",
   "execution_count": 47,
   "id": "a35b274c-b2f4-4d70-aef6-4ee065b04f84",
   "metadata": {
    "tags": []
   },
   "outputs": [
    {
     "data": {
      "text/plain": [
       "1.2"
      ]
     },
     "execution_count": 47,
     "metadata": {},
     "output_type": "execute_result"
    }
   ],
   "source": [
    "Employee.raise_amount"
   ]
  },
  {
   "cell_type": "code",
   "execution_count": 48,
   "id": "1ce0a7f8-36e2-4cc3-8bcf-95fd98821427",
   "metadata": {
    "tags": []
   },
   "outputs": [
    {
     "data": {
      "text/plain": [
       "1.2"
      ]
     },
     "execution_count": 48,
     "metadata": {},
     "output_type": "execute_result"
    }
   ],
   "source": [
    "e1.raise_amount"
   ]
  },
  {
   "cell_type": "code",
   "execution_count": 49,
   "id": "3d554afc-5d52-4df6-b0d6-9442eac7f60a",
   "metadata": {
    "tags": []
   },
   "outputs": [
    {
     "data": {
      "text/plain": [
       "1.2"
      ]
     },
     "execution_count": 49,
     "metadata": {},
     "output_type": "execute_result"
    }
   ],
   "source": [
    "e2.raise_amount"
   ]
  },
  {
   "cell_type": "code",
   "execution_count": 50,
   "id": "d7522855-60d9-42ab-8313-e9eadd6cae1c",
   "metadata": {
    "tags": []
   },
   "outputs": [],
   "source": [
    "e3.raise_amount = 2"
   ]
  },
  {
   "cell_type": "code",
   "execution_count": 51,
   "id": "93ac7663-2029-4e5d-af50-720838637ced",
   "metadata": {
    "tags": []
   },
   "outputs": [
    {
     "data": {
      "text/plain": [
       "6000"
      ]
     },
     "execution_count": 51,
     "metadata": {},
     "output_type": "execute_result"
    }
   ],
   "source": [
    "e3.pay_raise()"
   ]
  },
  {
   "cell_type": "code",
   "execution_count": 52,
   "id": "5d45e662-2a37-4979-875f-1ab117f486a8",
   "metadata": {
    "tags": []
   },
   "outputs": [
    {
     "data": {
      "text/plain": [
       "{'name': 'Veli', 'surname': 'Erdemir', 'pay': 6000, 'raise_amount': 2}"
      ]
     },
     "execution_count": 52,
     "metadata": {},
     "output_type": "execute_result"
    }
   ],
   "source": [
    "e3.__dict__"
   ]
  },
  {
   "cell_type": "code",
   "execution_count": 53,
   "id": "4e09fc06-a970-4acd-af9b-4b6a1e731c2f",
   "metadata": {
    "tags": []
   },
   "outputs": [
    {
     "data": {
      "text/plain": [
       "{'name': 'Mehmet', 'surname': 'Demir', 'pay': 6000}"
      ]
     },
     "execution_count": 53,
     "metadata": {},
     "output_type": "execute_result"
    }
   ],
   "source": [
    "e2.__dict__"
   ]
  },
  {
   "cell_type": "code",
   "execution_count": 54,
   "id": "db678486-915d-4a29-ab7e-6a76b6d2fc71",
   "metadata": {
    "tags": []
   },
   "outputs": [
    {
     "data": {
      "text/plain": [
       "{'name': 'Ahmet', 'surname': 'Yılmaz', 'pay': 6000}"
      ]
     },
     "execution_count": 54,
     "metadata": {},
     "output_type": "execute_result"
    }
   ],
   "source": [
    "e1.__dict__"
   ]
  },
  {
   "cell_type": "code",
   "execution_count": null,
   "id": "9737032d-8045-4827-bc8c-2ead1e4dcd3c",
   "metadata": {},
   "outputs": [],
   "source": []
  },
  {
   "cell_type": "code",
   "execution_count": 57,
   "id": "30e769e0-c87b-49c2-b71b-3a5bdef46206",
   "metadata": {
    "tags": []
   },
   "outputs": [
    {
     "data": {
      "text/plain": [
       "1.2"
      ]
     },
     "execution_count": 57,
     "metadata": {},
     "output_type": "execute_result"
    }
   ],
   "source": [
    "Employee.raise_amount"
   ]
  },
  {
   "cell_type": "code",
   "execution_count": 58,
   "id": "d0648b34-922f-44cf-ad0b-446065cd6dda",
   "metadata": {
    "tags": []
   },
   "outputs": [
    {
     "data": {
      "text/plain": [
       "1.2"
      ]
     },
     "execution_count": 58,
     "metadata": {},
     "output_type": "execute_result"
    }
   ],
   "source": [
    "e1.raise_amount"
   ]
  },
  {
   "cell_type": "code",
   "execution_count": 59,
   "id": "519f3244-283c-4e6a-9e32-624ca33e4550",
   "metadata": {
    "tags": []
   },
   "outputs": [
    {
     "data": {
      "text/plain": [
       "1.2"
      ]
     },
     "execution_count": 59,
     "metadata": {},
     "output_type": "execute_result"
    }
   ],
   "source": [
    "e2.raise_amount"
   ]
  },
  {
   "cell_type": "code",
   "execution_count": 60,
   "id": "eaa2c034-6ca5-4bf7-a8d0-31c29ebb03f4",
   "metadata": {
    "tags": []
   },
   "outputs": [
    {
     "data": {
      "text/plain": [
       "2"
      ]
     },
     "execution_count": 60,
     "metadata": {},
     "output_type": "execute_result"
    }
   ],
   "source": [
    "e3.raise_amount"
   ]
  },
  {
   "cell_type": "code",
   "execution_count": 61,
   "id": "e41ea71b-ac89-40ff-be80-f365edb24505",
   "metadata": {
    "tags": []
   },
   "outputs": [
    {
     "ename": "AttributeError",
     "evalue": "type object 'Employee' has no attribute 'name'",
     "output_type": "error",
     "traceback": [
      "\u001b[0;31m---------------------------------------------------------------------------\u001b[0m",
      "\u001b[0;31mAttributeError\u001b[0m                            Traceback (most recent call last)",
      "Cell \u001b[0;32mIn[61], line 1\u001b[0m\n\u001b[0;32m----> 1\u001b[0m \u001b[43mEmployee\u001b[49m\u001b[38;5;241;43m.\u001b[39;49m\u001b[43mname\u001b[49m\n",
      "\u001b[0;31mAttributeError\u001b[0m: type object 'Employee' has no attribute 'name'"
     ]
    }
   ],
   "source": [
    "Employee.name"
   ]
  },
  {
   "cell_type": "code",
   "execution_count": 62,
   "id": "272679e1-9ffa-4f20-b961-84d7182263d4",
   "metadata": {
    "tags": []
   },
   "outputs": [],
   "source": [
    "class Employee:\n",
    "    \"\"\" Employee Class: name, surname, pay\"\"\"\n",
    "    employee_count = 0 \n",
    "    def __init__(self, name, surname, pay):\n",
    "        self.name = name\n",
    "        self.surname = surname\n",
    "        self.pay = pay\n",
    "        Employee.employee_count += 1\n",
    "    \n",
    "        "
   ]
  },
  {
   "cell_type": "code",
   "execution_count": 65,
   "id": "f5649d28-b91b-4556-8d71-38a48a42b544",
   "metadata": {
    "tags": []
   },
   "outputs": [
    {
     "data": {
      "text/plain": [
       "0"
      ]
     },
     "execution_count": 65,
     "metadata": {},
     "output_type": "execute_result"
    }
   ],
   "source": [
    "Employee.employee_count"
   ]
  },
  {
   "cell_type": "code",
   "execution_count": 66,
   "id": "2d8b699e-b736-4a8b-a7d8-576df1073756",
   "metadata": {
    "tags": []
   },
   "outputs": [
    {
     "data": {
      "text/plain": [
       "1"
      ]
     },
     "execution_count": 66,
     "metadata": {},
     "output_type": "execute_result"
    }
   ],
   "source": [
    "e1 = Employee(\"Ali\",\"Veli\",5000)\n",
    "Employee.employee_count\n"
   ]
  },
  {
   "cell_type": "code",
   "execution_count": 67,
   "id": "acc66de0-78b2-4bf1-8e5b-abe5986ae120",
   "metadata": {
    "tags": []
   },
   "outputs": [
    {
     "data": {
      "text/plain": [
       "2"
      ]
     },
     "execution_count": 67,
     "metadata": {},
     "output_type": "execute_result"
    }
   ],
   "source": [
    "e2 = Employee(\"Niyazi\",\"Demir\",5000)\n",
    "Employee.employee_count\n"
   ]
  },
  {
   "cell_type": "code",
   "execution_count": 68,
   "id": "977ab670-a643-4832-8e33-a1c8834ebc81",
   "metadata": {
    "tags": []
   },
   "outputs": [
    {
     "data": {
      "text/plain": [
       "3"
      ]
     },
     "execution_count": 68,
     "metadata": {},
     "output_type": "execute_result"
    }
   ],
   "source": [
    "Erdi = Employee(\"Erdi\",\"Kahraman\", 5000)\n",
    "Employee.employee_count"
   ]
  },
  {
   "cell_type": "markdown",
   "id": "20ed11ac-c814-48a5-99f3-a45fa8e8e2f4",
   "metadata": {},
   "source": [
    "# Class Method & Instance Method"
   ]
  },
  {
   "cell_type": "code",
   "execution_count": 69,
   "id": "60f9e53a-b2f2-481a-8be9-3c287e8f83da",
   "metadata": {
    "tags": []
   },
   "outputs": [],
   "source": [
    "class Person:\n",
    "    \n",
    "    def __init__(self, name, surname, age):\n",
    "        self.name = name\n",
    "        self.surname = surname\n",
    "        self.age = age\n",
    "\n",
    "    def fullname(self): # instance method\n",
    "        return f\"{self.name} {self.surname}\"\n",
    "    \n",
    "    def info(self): # instance method\n",
    "        return f\"name: {self.name} surname: {self.surname} nage: {self.age}\"\n",
    "    \n"
   ]
  },
  {
   "cell_type": "code",
   "execution_count": 70,
   "id": "1ebf1efa-20dc-41ae-8062-51ace597d025",
   "metadata": {
    "tags": []
   },
   "outputs": [],
   "source": [
    "p1 = Person(\"Ahmet\", \"Yılmaz\", 18)"
   ]
  },
  {
   "cell_type": "code",
   "execution_count": 73,
   "id": "c89a5083-304f-4a84-9d98-3a32c5a5a5c7",
   "metadata": {
    "tags": []
   },
   "outputs": [
    {
     "data": {
      "text/plain": [
       "'name: Ahmet surname: Yılmaz nage: 18'"
      ]
     },
     "execution_count": 73,
     "metadata": {},
     "output_type": "execute_result"
    }
   ],
   "source": [
    "p1.info()"
   ]
  },
  {
   "cell_type": "code",
   "execution_count": 74,
   "id": "14fc47c9-13a7-4d4d-9eb8-66050ad7ecfe",
   "metadata": {
    "tags": []
   },
   "outputs": [
    {
     "ename": "TypeError",
     "evalue": "Person.info() missing 1 required positional argument: 'self'",
     "output_type": "error",
     "traceback": [
      "\u001b[0;31m---------------------------------------------------------------------------\u001b[0m",
      "\u001b[0;31mTypeError\u001b[0m                                 Traceback (most recent call last)",
      "Cell \u001b[0;32mIn[74], line 1\u001b[0m\n\u001b[0;32m----> 1\u001b[0m \u001b[43mPerson\u001b[49m\u001b[38;5;241;43m.\u001b[39;49m\u001b[43minfo\u001b[49m\u001b[43m(\u001b[49m\u001b[43m)\u001b[49m\n",
      "\u001b[0;31mTypeError\u001b[0m: Person.info() missing 1 required positional argument: 'self'"
     ]
    }
   ],
   "source": [
    "Person.info()"
   ]
  },
  {
   "cell_type": "code",
   "execution_count": 75,
   "id": "89ef5b40-b973-407f-92bf-53dbd02c7468",
   "metadata": {
    "tags": []
   },
   "outputs": [
    {
     "data": {
      "text/plain": [
       "'name: Ahmet surname: Yılmaz nage: 18'"
      ]
     },
     "execution_count": 75,
     "metadata": {},
     "output_type": "execute_result"
    }
   ],
   "source": [
    "Person.info(p1) # Bu kullanım yaygın değil"
   ]
  },
  {
   "cell_type": "code",
   "execution_count": 86,
   "id": "0ba47f9c-46bd-4e98-82c4-a108ad0e7222",
   "metadata": {
    "tags": []
   },
   "outputs": [],
   "source": [
    "# class method tanımlayalım\n",
    "class Person:\n",
    "        \n",
    "        employee_count = 0 # class attribute\n",
    "        \n",
    "        def __init__(self, name, surname, age):\n",
    "            self.name = name\n",
    "            self.surname = surname\n",
    "            self.age = age\n",
    "            Person.employee_count += 1 # class variable, instance oluşturulduğunda artacak, # self kullanmadık. Çünkü class variable\n",
    "            \n",
    "        def fullname(self): # instance method\n",
    "            return f\"{self.name} {self.surname}\"\n",
    "        \n",
    "        def info(self): # instance method\n",
    "            return f\"name: {self.name} surname: {self.surname} nage: {self.age}\"\n",
    "        \n",
    "        @classmethod # class method\n",
    "        def number_of_employee(cls):\n",
    "            return f\"Number of employee: {cls.employee_count}\""
   ]
  },
  {
   "cell_type": "code",
   "execution_count": 87,
   "id": "51669416-0f3c-4db8-b780-1f4964c744ca",
   "metadata": {
    "tags": []
   },
   "outputs": [
    {
     "data": {
      "text/plain": [
       "0"
      ]
     },
     "execution_count": 87,
     "metadata": {},
     "output_type": "execute_result"
    }
   ],
   "source": [
    "Person.employee_count"
   ]
  },
  {
   "cell_type": "code",
   "execution_count": 92,
   "id": "a3788768-8383-42ea-bba1-219d4c813942",
   "metadata": {
    "tags": []
   },
   "outputs": [],
   "source": [
    "p1 = Person(\"Ahmet\", \"Yılmaz\", 18)\n",
    "p2 = Person(\"Ayşe\", \"Şahin\", 30)"
   ]
  },
  {
   "cell_type": "code",
   "execution_count": 93,
   "id": "9b109d1a-37a7-49f4-adf0-96aa90a5ac5f",
   "metadata": {
    "tags": []
   },
   "outputs": [
    {
     "data": {
      "text/plain": [
       "'Number of employee: 6'"
      ]
     },
     "execution_count": 93,
     "metadata": {},
     "output_type": "execute_result"
    }
   ],
   "source": [
    "Person.number_of_employee()"
   ]
  },
  {
   "cell_type": "code",
   "execution_count": 94,
   "id": "31869b24-ebd3-4dd3-9404-44ee7613c45a",
   "metadata": {
    "tags": []
   },
   "outputs": [],
   "source": [
    "# class method tanımlayalım\n",
    "class Person:\n",
    "        \n",
    "        employee_count = 0 # class attribute\n",
    "        \n",
    "        def __init__(self, name, surname, age):\n",
    "            self.name = name\n",
    "            self.surname = surname\n",
    "            self.age = age\n",
    "            Person.employee_count += 1 # class variable, instance oluşturulduğunda artacak, # self kullanmadık. Çünkü class variable\n",
    "            \n",
    "        def fullname(self): # instance method\n",
    "            return f\"{self.name} {self.surname}\"\n",
    "        \n",
    "        def info(self): # instance method\n",
    "            return f\"name: {self.name} surname: {self.surname} nage: {self.age}\"\n",
    "        \n",
    "        @classmethod # class method\n",
    "        def number_of_employee(cls):\n",
    "            return f\"Number of employee: {cls.employee_count}\""
   ]
  },
  {
   "cell_type": "code",
   "execution_count": 95,
   "id": "0073388b-f493-443d-9b42-4b9ced68ba64",
   "metadata": {
    "tags": []
   },
   "outputs": [
    {
     "data": {
      "text/plain": [
       "'Number of employee: 0'"
      ]
     },
     "execution_count": 95,
     "metadata": {},
     "output_type": "execute_result"
    }
   ],
   "source": [
    "Person.number_of_employee()"
   ]
  },
  {
   "cell_type": "code",
   "execution_count": 101,
   "id": "4fea57bd-1a64-4182-bb4c-94a1799ca108",
   "metadata": {
    "tags": []
   },
   "outputs": [],
   "source": [
    "# Şimdi bunu class method kullanarak yapalım.\n",
    "class Person:\n",
    "    def __init__(self, name, surname, age):\n",
    "        self.name = name\n",
    "        self.surname = surname\n",
    "        self.age = age\n",
    "    \n",
    "    @classmethod\n",
    "    def from_string(cls, string):\n",
    "        name, surname, age = string.split(\"-\")\n",
    "        return cls(name, surname, age)\n"
   ]
  },
  {
   "cell_type": "code",
   "execution_count": 109,
   "id": "948d0199-e6b5-4d45-aee9-5cd7bcecea17",
   "metadata": {
    "tags": []
   },
   "outputs": [],
   "source": [
    "p1 = Person.from_string(\"Ahmet-Yılmaz-25\")"
   ]
  },
  {
   "cell_type": "code",
   "execution_count": 112,
   "id": "2c190339-4bd3-4e31-a85f-53e772e39caf",
   "metadata": {
    "tags": []
   },
   "outputs": [
    {
     "name": "stdout",
     "output_type": "stream",
     "text": [
      "Ahmet\n",
      "Yılmaz\n"
     ]
    }
   ],
   "source": [
    "print(p1.name)\n",
    "print(p1.surname)"
   ]
  },
  {
   "cell_type": "code",
   "execution_count": 107,
   "id": "eef44dac-d85a-4c5c-9c59-1824c3738fb0",
   "metadata": {
    "tags": []
   },
   "outputs": [],
   "source": [
    "p1 = Person(\"Ahmet\",\"Yılmaz\",25)"
   ]
  },
  {
   "cell_type": "code",
   "execution_count": 108,
   "id": "dc6be272-0f58-44f7-9c53-b2a02ba3d0ee",
   "metadata": {
    "tags": []
   },
   "outputs": [
    {
     "data": {
      "text/plain": [
       "{'name': 'Ahmet', 'surname': 'Yılmaz', 'age': 25}"
      ]
     },
     "execution_count": 108,
     "metadata": {},
     "output_type": "execute_result"
    }
   ],
   "source": [
    "p1.__dict__"
   ]
  },
  {
   "cell_type": "code",
   "execution_count": null,
   "id": "24687456-18fe-49a9-8d2e-3085cf44250c",
   "metadata": {},
   "outputs": [],
   "source": []
  }
 ],
 "metadata": {
  "kernelspec": {
   "display_name": "Python 3 (ipykernel)",
   "language": "python",
   "name": "python3"
  },
  "language_info": {
   "codemirror_mode": {
    "name": "ipython",
    "version": 3
   },
   "file_extension": ".py",
   "mimetype": "text/x-python",
   "name": "python",
   "nbconvert_exporter": "python",
   "pygments_lexer": "ipython3",
   "version": "3.10.6"
  }
 },
 "nbformat": 4,
 "nbformat_minor": 5
}
