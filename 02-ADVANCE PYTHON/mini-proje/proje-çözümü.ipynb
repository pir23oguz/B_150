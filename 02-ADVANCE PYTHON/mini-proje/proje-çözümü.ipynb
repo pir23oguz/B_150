{
 "cells": [
  {
   "attachments": {},
   "cell_type": "markdown",
   "metadata": {},
   "source": [
    "**Problem Durumları:**\n",
    "\n",
    "1- Bazı öğrenciler isimlerinin başına ünvanlarını yazmışlar. Örneğin: \"Dr. Ahmet Yılmaz\" gibi. Bu durumda isimlerin başındaki ünvanları silmek istiyoruz.\n",
    "\n",
    "2- Her öğrencinin bir soyadı var. Fakat bazı öğrencilerin birden fazla ismi var. Birden fazla isimleri olan öğrencilerin ilk isimlerinin ilk harfini alıp geri kalan isimlerini yazmak istiyoruz. Örneğin: Ahmet Mehmet Yılmaz -> A. Mehmet Yılmaz şeklinde.\n",
    "\n",
    "2- Vizenin ve finalin ortalamasını alıp, bu ortalamaya göre harf notu vermek istiyoruz. Vize notu %40, final notu %60 ağırlıkta olacak şekilde. 85-100 arası AA, 70-84 arası BB, 55-69 arası CC, 40-54 arası DD, 0-39 arası FF notları verilecek.\n",
    "\n",
    "3- Öğrencilerin isimlerini ve notlarını bir dosyaya yazdırmak istiyoruz. Fakat dosyanın en başına sırası ile öğrenci no, isim, vize, final ve harf notu yazılacak."
   ]
  },
  {
   "cell_type": "code",
   "execution_count": 1,
   "metadata": {},
   "outputs": [],
   "source": [
    "# öğrenciler üniversite öğrencisi olduğu için farklı ünvanlara sahip olabilirler.\n",
    "# dosya ve dizin işlemlerinin os modülü ve python dosya işlemleri ile yapılması gerekiyor.\n",
    "# txt dosyaları herhangi bir text editörü ile açılıp düzenleme yapılmamalıdır.\n",
    "# projeyi yaparken list ve dict comprehension kullanılmalıdır.\n",
    "# try ve except blokları kullanılmalıdır.\n",
    "# herhangi bir hata oluşursa kullanıcıya hata mesajı verilmelidir."
   ]
  },
  {
   "cell_type": "code",
   "execution_count": null,
   "metadata": {},
   "outputs": [],
   "source": []
  }
 ],
 "metadata": {
  "kernelspec": {
   "display_name": "Python 3",
   "language": "python",
   "name": "python3"
  },
  "language_info": {
   "codemirror_mode": {
    "name": "ipython",
    "version": 3
   },
   "file_extension": ".py",
   "mimetype": "text/x-python",
   "name": "python",
   "nbconvert_exporter": "python",
   "pygments_lexer": "ipython3",
   "version": "3.10.6"
  },
  "orig_nbformat": 4
 },
 "nbformat": 4,
 "nbformat_minor": 2
}
