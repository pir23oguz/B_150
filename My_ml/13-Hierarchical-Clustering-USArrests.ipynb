{
 "cells": [
  {
   "cell_type": "markdown",
   "metadata": {},
   "source": [
    "# Hierarchical Clustering"
   ]
  },
  {
   "cell_type": "markdown",
   "metadata": {},
   "source": [
    "This data set contains statistics, in arrests per 100,000 residents for assault, murder, and rape in each of the 50 US states in 1973. Also given is the percent of the population living in urban areas.\n",
    "\n",
    "A data frame with 50 observations on 4 variables.\n",
    "\n",
    "- Murder numeric Murder arrests (per 100,000)\n",
    "- Assault numeric Assault arrests (per 100,000)\n",
    "- UrbanPop numeric Percent urban population\n",
    "- Rape numeric Rape arrests (per 100,000)"
   ]
  },
  {
   "cell_type": "code",
   "execution_count": 2,
   "metadata": {},
   "outputs": [],
   "source": [
    "import numpy as np\n",
    "import pandas as pd\n",
    "import seaborn as sns\n",
    "import matplotlib.pyplot as plt\n",
    "\n",
    "%matplotlib inline\n",
    "#%matplotlib notebook\n",
    "plt.rcParams[\"figure.figsize\"] = (10,6)\n",
    "import warnings\n",
    "warnings.filterwarnings(\"ignore\")\n",
    "warnings.warn(\"this will not show\")\n",
    "#pd.set_option('display.float_format', lambda x: '%.3f' % x)"
   ]
  },
  {
   "cell_type": "markdown",
   "metadata": {},
   "source": [
    "datamızı tanıyalım \n",
    "\n",
    "amerikanın alabama eyaletinde 100.000 vakadan 0,8 (800'ü) cinayet, 45.000'i fiziki saldırı, 7300 tanesi tecavüz demek diğer suçları listeye almamışlar\n",
    "\n",
    "58 ise alabaamanın merkez nüfusunun genele oranı"
   ]
  },
  {
   "cell_type": "code",
   "execution_count": 3,
   "metadata": {},
   "outputs": [],
   "source": [
    "df = pd.read_csv(\"USArrest.csv\", index_col=0)"
   ]
  },
  {
   "cell_type": "code",
   "execution_count": 4,
   "metadata": {},
   "outputs": [
    {
     "data": {
      "text/html": [
       "<div>\n",
       "<style scoped>\n",
       "    .dataframe tbody tr th:only-of-type {\n",
       "        vertical-align: middle;\n",
       "    }\n",
       "\n",
       "    .dataframe tbody tr th {\n",
       "        vertical-align: top;\n",
       "    }\n",
       "\n",
       "    .dataframe thead th {\n",
       "        text-align: right;\n",
       "    }\n",
       "</style>\n",
       "<table border=\"1\" class=\"dataframe\">\n",
       "  <thead>\n",
       "    <tr style=\"text-align: right;\">\n",
       "      <th></th>\n",
       "      <th>Murder</th>\n",
       "      <th>Assault</th>\n",
       "      <th>UrbanPop</th>\n",
       "      <th>Rape</th>\n",
       "    </tr>\n",
       "  </thead>\n",
       "  <tbody>\n",
       "    <tr>\n",
       "      <th>Alabama</th>\n",
       "      <td>0.8</td>\n",
       "      <td>45</td>\n",
       "      <td>58</td>\n",
       "      <td>7.3</td>\n",
       "    </tr>\n",
       "    <tr>\n",
       "      <th>Alaska</th>\n",
       "      <td>2.1</td>\n",
       "      <td>46</td>\n",
       "      <td>48</td>\n",
       "      <td>7.8</td>\n",
       "    </tr>\n",
       "    <tr>\n",
       "      <th>Arizona</th>\n",
       "      <td>2.1</td>\n",
       "      <td>48</td>\n",
       "      <td>80</td>\n",
       "      <td>8.3</td>\n",
       "    </tr>\n",
       "    <tr>\n",
       "      <th>Arkansas</th>\n",
       "      <td>2.2</td>\n",
       "      <td>53</td>\n",
       "      <td>50</td>\n",
       "      <td>9.3</td>\n",
       "    </tr>\n",
       "    <tr>\n",
       "      <th>California</th>\n",
       "      <td>2.2</td>\n",
       "      <td>56</td>\n",
       "      <td>91</td>\n",
       "      <td>9.5</td>\n",
       "    </tr>\n",
       "  </tbody>\n",
       "</table>\n",
       "</div>"
      ],
      "text/plain": [
       "            Murder  Assault  UrbanPop  Rape\n",
       "Alabama        0.8       45        58   7.3\n",
       "Alaska         2.1       46        48   7.8\n",
       "Arizona        2.1       48        80   8.3\n",
       "Arkansas       2.2       53        50   9.3\n",
       "California     2.2       56        91   9.5"
      ]
     },
     "execution_count": 4,
     "metadata": {},
     "output_type": "execute_result"
    }
   ],
   "source": [
    "df.head()"
   ]
  },
  {
   "cell_type": "markdown",
   "metadata": {},
   "source": [
    "## Exploratory Data Analysis and Visualization"
   ]
  },
  {
   "cell_type": "code",
   "execution_count": 5,
   "metadata": {
    "scrolled": true
   },
   "outputs": [
    {
     "name": "stdout",
     "output_type": "stream",
     "text": [
      "<class 'pandas.core.frame.DataFrame'>\n",
      "Index: 50 entries, Alabama to Wyoming\n",
      "Data columns (total 4 columns):\n",
      " #   Column    Non-Null Count  Dtype  \n",
      "---  ------    --------------  -----  \n",
      " 0   Murder    50 non-null     float64\n",
      " 1   Assault   50 non-null     int64  \n",
      " 2   UrbanPop  50 non-null     int64  \n",
      " 3   Rape      50 non-null     float64\n",
      "dtypes: float64(2), int64(2)\n",
      "memory usage: 2.0+ KB\n"
     ]
    }
   ],
   "source": [
    "df.info()"
   ]
  },
  {
   "cell_type": "markdown",
   "metadata": {},
   "source": [
    "burada ne yaparız\n",
    "\n",
    "burada scale yapmam lazım "
   ]
  },
  {
   "cell_type": "code",
   "execution_count": 6,
   "metadata": {
    "scrolled": true
   },
   "outputs": [
    {
     "data": {
      "text/html": [
       "<div>\n",
       "<style scoped>\n",
       "    .dataframe tbody tr th:only-of-type {\n",
       "        vertical-align: middle;\n",
       "    }\n",
       "\n",
       "    .dataframe tbody tr th {\n",
       "        vertical-align: top;\n",
       "    }\n",
       "\n",
       "    .dataframe thead th {\n",
       "        text-align: right;\n",
       "    }\n",
       "</style>\n",
       "<table border=\"1\" class=\"dataframe\">\n",
       "  <thead>\n",
       "    <tr style=\"text-align: right;\">\n",
       "      <th></th>\n",
       "      <th>count</th>\n",
       "      <th>mean</th>\n",
       "      <th>std</th>\n",
       "      <th>min</th>\n",
       "      <th>25%</th>\n",
       "      <th>50%</th>\n",
       "      <th>75%</th>\n",
       "      <th>max</th>\n",
       "    </tr>\n",
       "  </thead>\n",
       "  <tbody>\n",
       "    <tr>\n",
       "      <th>Murder</th>\n",
       "      <td>50.0</td>\n",
       "      <td>7.788</td>\n",
       "      <td>4.355510</td>\n",
       "      <td>0.8</td>\n",
       "      <td>4.075</td>\n",
       "      <td>7.25</td>\n",
       "      <td>11.250</td>\n",
       "      <td>17.4</td>\n",
       "    </tr>\n",
       "    <tr>\n",
       "      <th>Assault</th>\n",
       "      <td>50.0</td>\n",
       "      <td>170.760</td>\n",
       "      <td>83.337661</td>\n",
       "      <td>45.0</td>\n",
       "      <td>109.000</td>\n",
       "      <td>159.00</td>\n",
       "      <td>249.000</td>\n",
       "      <td>337.0</td>\n",
       "    </tr>\n",
       "    <tr>\n",
       "      <th>UrbanPop</th>\n",
       "      <td>50.0</td>\n",
       "      <td>65.540</td>\n",
       "      <td>14.474763</td>\n",
       "      <td>32.0</td>\n",
       "      <td>54.500</td>\n",
       "      <td>66.00</td>\n",
       "      <td>77.750</td>\n",
       "      <td>91.0</td>\n",
       "    </tr>\n",
       "    <tr>\n",
       "      <th>Rape</th>\n",
       "      <td>50.0</td>\n",
       "      <td>21.232</td>\n",
       "      <td>9.366385</td>\n",
       "      <td>7.3</td>\n",
       "      <td>15.075</td>\n",
       "      <td>20.10</td>\n",
       "      <td>26.175</td>\n",
       "      <td>46.0</td>\n",
       "    </tr>\n",
       "  </tbody>\n",
       "</table>\n",
       "</div>"
      ],
      "text/plain": [
       "          count     mean        std   min      25%     50%      75%    max\n",
       "Murder     50.0    7.788   4.355510   0.8    4.075    7.25   11.250   17.4\n",
       "Assault    50.0  170.760  83.337661  45.0  109.000  159.00  249.000  337.0\n",
       "UrbanPop   50.0   65.540  14.474763  32.0   54.500   66.00   77.750   91.0\n",
       "Rape       50.0   21.232   9.366385   7.3   15.075   20.10   26.175   46.0"
      ]
     },
     "execution_count": 6,
     "metadata": {},
     "output_type": "execute_result"
    }
   ],
   "source": [
    "df.describe().T"
   ]
  },
  {
   "cell_type": "markdown",
   "metadata": {},
   "source": [
    "burada claslar belli mi. net bir ayrım yapmak mümkün değil"
   ]
  },
  {
   "cell_type": "code",
   "execution_count": 7,
   "metadata": {},
   "outputs": [
    {
     "data": {
      "image/png": "[encoded data removed]",
      "text/plain": [
       "<Figure size 720x720 with 20 Axes>"
      ]
     },
     "metadata": {
      "needs_background": "light"
     },
     "output_type": "display_data"
    }
   ],
   "source": [
    "sns.pairplot(df);"
   ]
  },
  {
   "cell_type": "markdown",
   "metadata": {},
   "source": [
    "cinayet sayıularına göre eyaletlere bir bakalım dedim\n",
    "\n",
    "burada en yaşanılası yer alabama\n",
    "\n",
    "buradan nasıl bir insight sağlayabilirim. yine sağlayamam ama eyaletleri çok cinayet işlenen orta düzey ve az diye ayırabilirim ve bunu bir emlakçının kullanmasına destek olabilirim"
   ]
  },
  {
   "cell_type": "code",
   "execution_count": 8,
   "metadata": {},
   "outputs": [
    {
     "data": {
      "image/png": "[encoded data removed]",
      "text/plain": [
       "<Figure size 1008x432 with 1 Axes>"
      ]
     },
     "metadata": {
      "needs_background": "light"
     },
     "output_type": "display_data"
    }
   ],
   "source": [
    "plt.figure(figsize = (14,6))\n",
    "sns.barplot(y = df.Murder.sort_values(), x = df.Murder.sort_values().index)\n",
    "plt.xticks(rotation = 90);"
   ]
  },
  {
   "cell_type": "code",
   "execution_count": 9,
   "metadata": {},
   "outputs": [
    {
     "data": {
      "image/png": "[encoded data removed]",
      "text/plain": [
       "<Figure size 1008x432 with 1 Axes>"
      ]
     },
     "metadata": {
      "needs_background": "light"
     },
     "output_type": "display_data"
    }
   ],
   "source": [
    "plt.figure(figsize = (14,6))\n",
    "sns.barplot(y = df.Assault.sort_values(), x = df.Assault.sort_values().index)\n",
    "plt.xticks(rotation = 90);"
   ]
  },
  {
   "cell_type": "code",
   "execution_count": 10,
   "metadata": {
    "scrolled": true
   },
   "outputs": [
    {
     "data": {
      "image/png": "[encoded data removed]",
      "text/plain": [
       "<Figure size 1008x432 with 1 Axes>"
      ]
     },
     "metadata": {
      "needs_background": "light"
     },
     "output_type": "display_data"
    }
   ],
   "source": [
    "plt.figure(figsize = (14,6))\n",
    "sns.barplot(y = df.Rape.sort_values(), x = df.Rape.sort_values().index)\n",
    "plt.xticks(rotation = 90);"
   ]
  },
  {
   "cell_type": "markdown",
   "metadata": {},
   "source": [
    "## Hopkins Test"
   ]
  },
  {
   "cell_type": "code",
   "execution_count": 11,
   "metadata": {},
   "outputs": [],
   "source": [
    "from sklearn.neighbors import BallTree\n",
    "import numpy as np\n",
    "import pandas as pd\n",
    "def hopkins(data_frame, sampling_size):\n",
    "    \"\"\"Assess the clusterability of a dataset. A score between 0 and 1, a score around 0.5 express\n",
    "    no clusterability and a score tending to 0 express a high cluster tendency.\n",
    "    Parameters\n",
    "    ----------\n",
    "    data_frame : numpy array\n",
    "        The input dataset\n",
    "    sampling_size : int\n",
    "        The sampling size which is used to evaluate the number of DataFrame.\n",
    "    Returns\n",
    "    ---------------------\n",
    "    score : float\n",
    "        The hopkins score of the dataset (between 0 and 1)\n",
    "    Examples\n",
    "    --------\n",
    "    >>> from sklearn import datasets\n",
    "    >>> from pyclustertend import hopkins\n",
    "    >>> X = datasets.load_iris().data\n",
    "    >>> hopkins(X,150)\n",
    "    0.16\n",
    "    \"\"\"\n",
    "    if type(data_frame) == np.ndarray:\n",
    "        data_frame = pd.DataFrame(data_frame)\n",
    "    # Sample n observations from D : P\n",
    "    if sampling_size > data_frame.shape[0]:\n",
    "        raise Exception(\n",
    "            'The number of sample of sample is bigger than the shape of D')\n",
    "    data_frame_sample = data_frame.sample(n=sampling_size)\n",
    "    # Get the distance to their neirest neighbors in D : X\n",
    "    tree = BallTree(data_frame, leaf_size=2)\n",
    "    dist, _ = tree.query(data_frame_sample, k=2)\n",
    "    data_frame_sample_distances_to_nearest_neighbours = dist[:, 1]\n",
    "    # Randomly simulate n points with the same variation as in D : Q.\n",
    "    max_data_frame = data_frame.max()\n",
    "    min_data_frame = data_frame.min()\n",
    "    uniformly_selected_values_0 = np.random.uniform(min_data_frame[0], max_data_frame[0], sampling_size)\n",
    "    uniformly_selected_values_1 = np.random.uniform(min_data_frame[1], max_data_frame[1], sampling_size)\n",
    "    uniformly_selected_observations = np.column_stack((uniformly_selected_values_0, uniformly_selected_values_1))\n",
    "    if len(max_data_frame) >= 2:\n",
    "        for i in range(2, len(max_data_frame)):\n",
    "            uniformly_selected_values_i = np.random.uniform(min_data_frame[i], max_data_frame[i], sampling_size)\n",
    "            to_stack = (uniformly_selected_observations, uniformly_selected_values_i)\n",
    "            uniformly_selected_observations = np.column_stack(to_stack)\n",
    "    uniformly_selected_observations_df = pd.DataFrame(uniformly_selected_observations)\n",
    "    # Get the distance to their neirest neighbors in D : Y\n",
    "    tree = BallTree(data_frame, leaf_size=2)\n",
    "    dist, _ = tree.query(uniformly_selected_observations_df, k=1)\n",
    "    uniformly_df_distances_to_nearest_neighbours = dist\n",
    "    # return the hopkins score\n",
    "    x = sum(data_frame_sample_distances_to_nearest_neighbours)\n",
    "    y = sum(uniformly_df_distances_to_nearest_neighbours)\n",
    "    if x + y == 0:\n",
    "        raise Exception('The denominator of the hopkins statistics is null')\n",
    "    return x / (x + y)[0]\n",
    "\n",
    "\n",
    "# normalde bu fonksiyonumuz pyclustertend'ın hopkins kütüphanesinde var. Ancak oluşabilecek hatalara karşı \n",
    "# doğrudan fonksiyonun kendisini kullanacağız. Bundan dolayı pyclustertend'ı install etmemize gerek yoktur! \n",
    "                                                #!pip install pyclustertend --user\n",
    "                                                # from pyclustertend import hopkins"
   ]
  },
  {
   "cell_type": "code",
   "execution_count": 12,
   "metadata": {},
   "outputs": [
    {
     "data": {
      "text/plain": [
       "0.342927750756338"
      ]
     },
     "execution_count": 12,
     "metadata": {},
     "output_type": "execute_result"
    }
   ],
   "source": [
    "hopkins(df, df.shape[0])"
   ]
  },
  {
   "cell_type": "markdown",
   "metadata": {},
   "source": [
    "## Scale"
   ]
  },
  {
   "cell_type": "markdown",
   "metadata": {},
   "source": [
    "burada ben min max sclaer için daha iyi skor aldım ancak siz buna her ikisi için bakıp deneyebilirsiniz"
   ]
  },
  {
   "cell_type": "code",
   "execution_count": 14,
   "metadata": {},
   "outputs": [],
   "source": [
    "from sklearn.preprocessing import StandardScaler, MinMaxScaler"
   ]
  },
  {
   "cell_type": "code",
   "execution_count": 13,
   "metadata": {},
   "outputs": [],
   "source": [
    "df1 = df.copy()\n",
    "df2 = df.copy()"
   ]
  },
  {
   "cell_type": "code",
   "execution_count": 15,
   "metadata": {},
   "outputs": [
    {
     "data": {
      "text/plain": [
       "0.21708323257547332"
      ]
     },
     "execution_count": 15,
     "metadata": {},
     "output_type": "execute_result"
    }
   ],
   "source": [
    "hopkins(MinMaxScaler().fit_transform(df1), df1.shape[0])"
   ]
  },
  {
   "cell_type": "code",
   "execution_count": 16,
   "metadata": {
    "scrolled": true
   },
   "outputs": [
    {
     "data": {
      "text/plain": [
       "0.21300730209975358"
      ]
     },
     "execution_count": 16,
     "metadata": {},
     "output_type": "execute_result"
    }
   ],
   "source": [
    "hopkins(StandardScaler().fit_transform(df2), df2.shape[0])"
   ]
  },
  {
   "cell_type": "code",
   "execution_count": 17,
   "metadata": {},
   "outputs": [],
   "source": [
    "scaler = MinMaxScaler()"
   ]
  },
  {
   "cell_type": "code",
   "execution_count": 18,
   "metadata": {},
   "outputs": [],
   "source": [
    "df_scaled = scaler.fit_transform(df)"
   ]
  },
  {
   "cell_type": "code",
   "execution_count": 19,
   "metadata": {},
   "outputs": [],
   "source": [
    "X = pd.DataFrame(df_scaled, columns=df.columns)"
   ]
  },
  {
   "cell_type": "markdown",
   "metadata": {},
   "source": [
    "## Dendrogram"
   ]
  },
  {
   "cell_type": "markdown",
   "metadata": {},
   "source": [
    "- Tree-like hierarchical representation of clusters is called a dendrogram.   \n",
    "- It illustrates the arrangement of the clusters produced by the corresponding analyses."
   ]
  },
  {
   "cell_type": "code",
   "execution_count": 20,
   "metadata": {},
   "outputs": [],
   "source": [
    "from scipy.cluster.hierarchy import dendrogram, linkage"
   ]
  },
  {
   "cell_type": "code",
   "execution_count": 21,
   "metadata": {},
   "outputs": [],
   "source": [
    "#dendrogram()"
   ]
  },
  {
   "cell_type": "markdown",
   "metadata": {},
   "source": [
    "**“linkage” parameter: (default= “ward”)**\n",
    "\n",
    "  {‘ward’, ‘complete’, ‘average’, ‘single’}\n",
    "\n",
    "Which linkage criterion to use. The linkage criterion determines which distance to use between sets of observation. \n",
    "-\tWard minimizes the variance of the clusters being merged.\n",
    "-\tAverage uses the average of the distances of each observation of the two sets.\n",
    "-\tComplete or maximum linkage uses the maximum distances between all observations of the two sets.\n",
    "-\tSingle uses the minimum of the distances between all observations of the two sets.\n"
   ]
  },
  {
   "cell_type": "markdown",
   "metadata": {},
   "source": [
    "linkage ile tüm metriklerimi tanımlıyorum"
   ]
  },
  {
   "cell_type": "code",
   "execution_count": 22,
   "metadata": {},
   "outputs": [],
   "source": [
    "hc_ward = linkage(y = X, method = \"ward\")\n",
    "hc_complete = linkage(X, \"complete\")\n",
    "hc_average = linkage(X, \"average\")\n",
    "hc_single = linkage(X, \"single\")"
   ]
  },
  {
   "cell_type": "markdown",
   "metadata": {},
   "source": [
    "ward ı çizdirdim\n",
    "\n",
    "bana 2 class uygun dedi"
   ]
  },
  {
   "cell_type": "code",
   "execution_count": 23,
   "metadata": {
    "scrolled": true
   },
   "outputs": [
    {
     "data": {
      "image/png": "[encoded data removed]",
      "text/plain": [
       "<Figure size 1008x504 with 1 Axes>"
      ]
     },
     "metadata": {
      "needs_background": "light"
     },
     "output_type": "display_data"
    }
   ],
   "source": [
    "plt.figure(figsize = (14,7))\n",
    "dendrogram(hc_ward, leaf_font_size = 10);"
   ]
  },
  {
   "cell_type": "markdown",
   "metadata": {},
   "source": [
    "Burada yine lastp parametresi ile 10 girdim dendograma daha temiz bir görsel almak için \n",
    "\n",
    "Ancak bunun içine birde show_contracted = True parametresini verdim. Burada yaptığım işlem dallanmayı 10'da kestiğinde halen görselin devamında kaç tane daha cluster var onu bize nokta olarak gösteriyor \n",
    "\n",
    "Burada classın çizgisi 1 sayılıyor ilk \"o\" ise 2 diye sayılıyor. Yani sarı (3)  yazan çizgide 2 küme daha var"
   ]
  },
  {
   "cell_type": "code",
   "execution_count": 24,
   "metadata": {
    "scrolled": false
   },
   "outputs": [
    {
     "data": {
      "image/png": "[encoded data removed]",
      "text/plain": [
       "<Figure size 1008x504 with 1 Axes>"
      ]
     },
     "metadata": {
      "needs_background": "light"
     },
     "output_type": "display_data"
    }
   ],
   "source": [
    "plt.figure(figsize = (14,7))\n",
    "dendrogram(hc_ward,\n",
    "           truncate_mode = \"lastp\",\n",
    "           p = 10,\n",
    "           show_contracted = True,\n",
    "           leaf_font_size = 10);"
   ]
  },
  {
   "cell_type": "code",
   "execution_count": 25,
   "metadata": {
    "scrolled": false
   },
   "outputs": [
    {
     "data": {
      "image/png": "[encoded data removed]",
      "text/plain": [
       "<Figure size 1440x864 with 4 Axes>"
      ]
     },
     "metadata": {
      "needs_background": "light"
     },
     "output_type": "display_data"
    }
   ],
   "source": [
    "plt.figure(figsize = (20,12))\n",
    "\n",
    "plt.subplot(221)\n",
    "plt.title(\"Ward\")\n",
    "plt.xlabel(\"Observations\")\n",
    "plt.ylabel(\"Distance\")\n",
    "dendrogram(hc_ward, truncate_mode = \"lastp\", p = 10, show_contracted = True, leaf_font_size = 10)\n",
    "\n",
    "plt.subplot(222)\n",
    "plt.title(\"Complete\")\n",
    "plt.xlabel(\"Observations\")\n",
    "plt.ylabel(\"Distance\")\n",
    "dendrogram(hc_complete, truncate_mode = \"lastp\", p = 10, show_contracted = True, leaf_font_size = 10)\n",
    "\n",
    "plt.subplot(223)\n",
    "plt.title(\"Average\")\n",
    "plt.xlabel(\"Observations\")\n",
    "plt.ylabel(\"Distance\")\n",
    "dendrogram(hc_average, truncate_mode = \"lastp\", p = 10, show_contracted = True, leaf_font_size = 10)\n",
    "\n",
    "plt.subplot(224)\n",
    "plt.title(\"Single\")\n",
    "plt.xlabel(\"Observations\")\n",
    "plt.ylabel(\"Distance\")\n",
    "dendrogram(hc_single, truncate_mode = \"lastp\", p = 10, show_contracted = True, leaf_font_size = 10);"
   ]
  },
  {
   "cell_type": "markdown",
   "metadata": {},
   "source": [
    "tüm metrikleri karşılaştırdım ve burada wards 2 derken complete 3 average 3 dedi"
   ]
  },
  {
   "cell_type": "markdown",
   "metadata": {},
   "source": [
    "## Hierarchical Clustering (Agglomerative)"
   ]
  },
  {
   "cell_type": "markdown",
   "metadata": {},
   "source": [
    "- Ideal clustering is characterised by minimal intra cluster distance and maximal inter cluster distanc"
   ]
  },
  {
   "cell_type": "code",
   "execution_count": 26,
   "metadata": {},
   "outputs": [],
   "source": [
    "from sklearn.cluster import AgglomerativeClustering"
   ]
  },
  {
   "cell_type": "markdown",
   "metadata": {},
   "source": [
    "### S(Silhouette) Score"
   ]
  },
  {
   "cell_type": "markdown",
   "metadata": {},
   "source": [
    "- If the ground truth labels are not known, evaluation must be performed using the model itself. (One of the evaluation method is Silhouette Coefficient)\n",
    "- A higher Silhouette Coefficient score relates to a model with better defined clusters. \n",
    "- a :The mean distance between a sample and all other points in the same class.\n",
    "  b: The mean distance between a sample and all other points in the next nearest cluster.\n",
    "\n",
    "s = (b-a) / max(a,b)"
   ]
  },
  {
   "cell_type": "markdown",
   "metadata": {},
   "source": [
    "burada silyet skoruna bakıyorum ve bana hala 2 class olması gerektiğini söylüyor. Ama 3 de iyi\n",
    "\n",
    "2 ile 3 arasında gidip geliyor data ama ben yukardaki görselde 3 sınıf olacağını düşünüyorum."
   ]
  },
  {
   "cell_type": "code",
   "execution_count": 27,
   "metadata": {},
   "outputs": [],
   "source": [
    "from sklearn.metrics import silhouette_score"
   ]
  },
  {
   "cell_type": "code",
   "execution_count": 28,
   "metadata": {},
   "outputs": [
    {
     "name": "stdout",
     "output_type": "stream",
     "text": [
      "Silhouette Score for 2 clusters: 0.45421907210414214\n",
      "Silhouette Score for 3 clusters: 0.3180902156279954\n",
      "Silhouette Score for 4 clusters: 0.13602999771899232\n",
      "Silhouette Score for 5 clusters: 0.16195986543258523\n",
      "Silhouette Score for 6 clusters: 0.22945281939930115\n",
      "Silhouette Score for 7 clusters: 0.24214267818856985\n",
      "Silhouette Score for 8 clusters: 0.3051367809988358\n",
      "Silhouette Score for 9 clusters: 0.29774346557180853\n",
      "Silhouette Score for 10 clusters: 0.2936409237035898\n"
     ]
    }
   ],
   "source": [
    "K = range(2,11)\n",
    "\n",
    "for k in K:\n",
    "    model = AgglomerativeClustering(n_clusters = k)\n",
    "    model.fit_predict(X)\n",
    "    print(f'Silhouette Score for {k} clusters: {silhouette_score(df, model.labels_)}')"
   ]
  },
  {
   "cell_type": "code",
   "execution_count": 29,
   "metadata": {
    "scrolled": true
   },
   "outputs": [
    {
     "data": {
      "text/html": [
       "<div>\n",
       "<style scoped>\n",
       "    .dataframe tbody tr th:only-of-type {\n",
       "        vertical-align: middle;\n",
       "    }\n",
       "\n",
       "    .dataframe tbody tr th {\n",
       "        vertical-align: top;\n",
       "    }\n",
       "\n",
       "    .dataframe thead th {\n",
       "        text-align: right;\n",
       "    }\n",
       "</style>\n",
       "<table border=\"1\" class=\"dataframe\">\n",
       "  <thead>\n",
       "    <tr style=\"text-align: right;\">\n",
       "      <th></th>\n",
       "      <th>Murder</th>\n",
       "      <th>Assault</th>\n",
       "      <th>UrbanPop</th>\n",
       "      <th>Rape</th>\n",
       "    </tr>\n",
       "  </thead>\n",
       "  <tbody>\n",
       "    <tr>\n",
       "      <th>0</th>\n",
       "      <td>0.000000</td>\n",
       "      <td>0.000000</td>\n",
       "      <td>0.440678</td>\n",
       "      <td>0.000000</td>\n",
       "    </tr>\n",
       "    <tr>\n",
       "      <th>1</th>\n",
       "      <td>0.078313</td>\n",
       "      <td>0.003425</td>\n",
       "      <td>0.271186</td>\n",
       "      <td>0.012920</td>\n",
       "    </tr>\n",
       "    <tr>\n",
       "      <th>2</th>\n",
       "      <td>0.078313</td>\n",
       "      <td>0.010274</td>\n",
       "      <td>0.813559</td>\n",
       "      <td>0.025840</td>\n",
       "    </tr>\n",
       "    <tr>\n",
       "      <th>3</th>\n",
       "      <td>0.084337</td>\n",
       "      <td>0.027397</td>\n",
       "      <td>0.305085</td>\n",
       "      <td>0.051680</td>\n",
       "    </tr>\n",
       "    <tr>\n",
       "      <th>4</th>\n",
       "      <td>0.084337</td>\n",
       "      <td>0.037671</td>\n",
       "      <td>1.000000</td>\n",
       "      <td>0.056848</td>\n",
       "    </tr>\n",
       "  </tbody>\n",
       "</table>\n",
       "</div>"
      ],
      "text/plain": [
       "     Murder   Assault  UrbanPop      Rape\n",
       "0  0.000000  0.000000  0.440678  0.000000\n",
       "1  0.078313  0.003425  0.271186  0.012920\n",
       "2  0.078313  0.010274  0.813559  0.025840\n",
       "3  0.084337  0.027397  0.305085  0.051680\n",
       "4  0.084337  0.037671  1.000000  0.056848"
      ]
     },
     "execution_count": 29,
     "metadata": {},
     "output_type": "execute_result"
    }
   ],
   "source": [
    "X.head()"
   ]
  },
  {
   "cell_type": "markdown",
   "metadata": {},
   "source": [
    "modelimi 3'e göre kurup bir bakayım çünkü görselim bana bir insight sağlamıştıkurup bir bakayım"
   ]
  },
  {
   "cell_type": "code",
   "execution_count": 30,
   "metadata": {},
   "outputs": [],
   "source": [
    "model = AgglomerativeClustering(n_clusters=3, affinity = \"euclidean\", linkage = \"ward\")\n",
    "clusters = model.fit_predict(X)\n",
    "X[\"cluster\"] = clusters"
   ]
  },
  {
   "cell_type": "markdown",
   "metadata": {},
   "source": [
    "modelimi 3 ile kurduğumda  murder ve assault bir birinden iyi ayrışmış"
   ]
  },
  {
   "cell_type": "code",
   "execution_count": 31,
   "metadata": {
    "scrolled": true
   },
   "outputs": [
    {
     "data": {
      "image/png": "[encoded data removed]",
      "text/plain": [
       "<Figure size 720x432 with 1 Axes>"
      ]
     },
     "metadata": {
      "needs_background": "light"
     },
     "output_type": "display_data"
    }
   ],
   "source": [
    "plt.scatter(X.Murder, X.Assault, c = clusters, cmap = \"viridis\");"
   ]
  },
  {
   "cell_type": "markdown",
   "metadata": {},
   "source": [
    "murder ile urbanpop için baktığımda aslında murdere göre iyi bir ayrışma varken urban pop a göre düzgün bir ayrışma yok"
   ]
  },
  {
   "cell_type": "code",
   "execution_count": 32,
   "metadata": {
    "scrolled": true
   },
   "outputs": [
    {
     "data": {
      "image/png": "[encoded data removed]",
      "text/plain": [
       "<Figure size 720x432 with 1 Axes>"
      ]
     },
     "metadata": {
      "needs_background": "light"
     },
     "output_type": "display_data"
    }
   ],
   "source": [
    "plt.scatter(X.Murder, X.UrbanPop, c = clusters, cmap = \"viridis\");"
   ]
  },
  {
   "cell_type": "markdown",
   "metadata": {},
   "source": [
    "ortalamalara baktığımda urban pop haricinde olan featureler için bir doğrusallık söz konusu buda bana 3 featurenin birbiri arasında iyi ayrışacağının bir diğer göstergesi"
   ]
  },
  {
   "cell_type": "code",
   "execution_count": 33,
   "metadata": {
    "scrolled": false
   },
   "outputs": [
    {
     "data": {
      "text/html": [
       "<div>\n",
       "<style scoped>\n",
       "    .dataframe tbody tr th:only-of-type {\n",
       "        vertical-align: middle;\n",
       "    }\n",
       "\n",
       "    .dataframe tbody tr th {\n",
       "        vertical-align: top;\n",
       "    }\n",
       "\n",
       "    .dataframe thead th {\n",
       "        text-align: right;\n",
       "    }\n",
       "</style>\n",
       "<table border=\"1\" class=\"dataframe\">\n",
       "  <thead>\n",
       "    <tr style=\"text-align: right;\">\n",
       "      <th>cluster</th>\n",
       "      <th>0</th>\n",
       "      <th>1</th>\n",
       "      <th>2</th>\n",
       "    </tr>\n",
       "  </thead>\n",
       "  <tbody>\n",
       "    <tr>\n",
       "      <th>Murder</th>\n",
       "      <td>0.226135</td>\n",
       "      <td>0.522490</td>\n",
       "      <td>0.814592</td>\n",
       "    </tr>\n",
       "    <tr>\n",
       "      <th>Assault</th>\n",
       "      <td>0.215227</td>\n",
       "      <td>0.561872</td>\n",
       "      <td>0.834475</td>\n",
       "    </tr>\n",
       "    <tr>\n",
       "      <th>UrbanPop</th>\n",
       "      <td>0.543025</td>\n",
       "      <td>0.731073</td>\n",
       "      <td>0.370998</td>\n",
       "    </tr>\n",
       "    <tr>\n",
       "      <th>Rape</th>\n",
       "      <td>0.190320</td>\n",
       "      <td>0.428079</td>\n",
       "      <td>0.736721</td>\n",
       "    </tr>\n",
       "  </tbody>\n",
       "</table>\n",
       "</div>"
      ],
      "text/plain": [
       "cluster          0         1         2\n",
       "Murder    0.226135  0.522490  0.814592\n",
       "Assault   0.215227  0.561872  0.834475\n",
       "UrbanPop  0.543025  0.731073  0.370998\n",
       "Rape      0.190320  0.428079  0.736721"
      ]
     },
     "execution_count": 33,
     "metadata": {},
     "output_type": "execute_result"
    }
   ],
   "source": [
    "clus_pred = X.groupby(\"cluster\").mean().T\n",
    "clus_pred"
   ]
  },
  {
   "cell_type": "markdown",
   "metadata": {},
   "source": [
    "line plot da bana 3 featurenin gayet iyi ayrıştığını ama urbanda bir değişkenlik olduğunu gösteriyor"
   ]
  },
  {
   "cell_type": "code",
   "execution_count": 34,
   "metadata": {},
   "outputs": [
    {
     "data": {
      "image/png": "[encoded data removed]",
      "text/plain": [
       "<Figure size 720x432 with 1 Axes>"
      ]
     },
     "metadata": {
      "needs_background": "light"
     },
     "output_type": "display_data"
    }
   ],
   "source": [
    "sns.lineplot(data = clus_pred);"
   ]
  },
  {
   "cell_type": "markdown",
   "metadata": {},
   "source": [
    "box plot ile baktığımda ise urban dışındakilerde whiskerlar dışında birbirini kesen bir observation görmediğimden diyorum ki urbanı düşürüp bir bakayım"
   ]
  },
  {
   "cell_type": "code",
   "execution_count": 35,
   "metadata": {
    "scrolled": true
   },
   "outputs": [
    {
     "data": {
      "image/png": "[encoded data removed]",
      "text/plain": [
       "<Figure size 1440x432 with 4 Axes>"
      ]
     },
     "metadata": {
      "needs_background": "light"
     },
     "output_type": "display_data"
    }
   ],
   "source": [
    "plt.figure(figsize = (20,6))\n",
    "\n",
    "plt.subplot(141)\n",
    "sns.boxplot(y = \"Murder\", x = \"cluster\", data = X)\n",
    "\n",
    "plt.subplot(142)\n",
    "sns.boxplot(y = \"Assault\", x = \"cluster\", data = X)\n",
    "\n",
    "plt.subplot(143)\n",
    "sns.boxplot(y = \"Rape\", x = \"cluster\", data = X)\n",
    "\n",
    "plt.subplot(144)\n",
    "sns.boxplot(y = \"UrbanPop\", x = \"cluster\", data = X);"
   ]
  },
  {
   "cell_type": "markdown",
   "metadata": {},
   "source": [
    "buna göre class sayılarına baktım bir uyumsuzluk da var"
   ]
  },
  {
   "cell_type": "code",
   "execution_count": 36,
   "metadata": {},
   "outputs": [
    {
     "data": {
      "text/plain": [
       "0    26\n",
       "1    15\n",
       "2     9\n",
       "Name: cluster, dtype: int64"
      ]
     },
     "execution_count": 36,
     "metadata": {},
     "output_type": "execute_result"
    }
   ],
   "source": [
    "X.cluster.value_counts()"
   ]
  },
  {
   "cell_type": "markdown",
   "metadata": {},
   "source": [
    "bu sefer 3 featuıre ile bakyorum modelime"
   ]
  },
  {
   "cell_type": "code",
   "execution_count": 37,
   "metadata": {},
   "outputs": [
    {
     "data": {
      "text/html": [
       "<div>\n",
       "<style scoped>\n",
       "    .dataframe tbody tr th:only-of-type {\n",
       "        vertical-align: middle;\n",
       "    }\n",
       "\n",
       "    .dataframe tbody tr th {\n",
       "        vertical-align: top;\n",
       "    }\n",
       "\n",
       "    .dataframe thead th {\n",
       "        text-align: right;\n",
       "    }\n",
       "</style>\n",
       "<table border=\"1\" class=\"dataframe\">\n",
       "  <thead>\n",
       "    <tr style=\"text-align: right;\">\n",
       "      <th></th>\n",
       "      <th>Murder</th>\n",
       "      <th>Assault</th>\n",
       "      <th>Rape</th>\n",
       "    </tr>\n",
       "  </thead>\n",
       "  <tbody>\n",
       "    <tr>\n",
       "      <th>0</th>\n",
       "      <td>0.000000</td>\n",
       "      <td>0.000000</td>\n",
       "      <td>0.000000</td>\n",
       "    </tr>\n",
       "    <tr>\n",
       "      <th>1</th>\n",
       "      <td>0.078313</td>\n",
       "      <td>0.003425</td>\n",
       "      <td>0.012920</td>\n",
       "    </tr>\n",
       "    <tr>\n",
       "      <th>2</th>\n",
       "      <td>0.078313</td>\n",
       "      <td>0.010274</td>\n",
       "      <td>0.025840</td>\n",
       "    </tr>\n",
       "    <tr>\n",
       "      <th>3</th>\n",
       "      <td>0.084337</td>\n",
       "      <td>0.027397</td>\n",
       "      <td>0.051680</td>\n",
       "    </tr>\n",
       "    <tr>\n",
       "      <th>4</th>\n",
       "      <td>0.084337</td>\n",
       "      <td>0.037671</td>\n",
       "      <td>0.056848</td>\n",
       "    </tr>\n",
       "  </tbody>\n",
       "</table>\n",
       "</div>"
      ],
      "text/plain": [
       "     Murder   Assault      Rape\n",
       "0  0.000000  0.000000  0.000000\n",
       "1  0.078313  0.003425  0.012920\n",
       "2  0.078313  0.010274  0.025840\n",
       "3  0.084337  0.027397  0.051680\n",
       "4  0.084337  0.037671  0.056848"
      ]
     },
     "execution_count": 37,
     "metadata": {},
     "output_type": "execute_result"
    }
   ],
   "source": [
    "X2 = X.iloc[:, [0,1,3]]\n",
    "X2.head()"
   ]
  },
  {
   "cell_type": "code",
   "execution_count": 38,
   "metadata": {},
   "outputs": [],
   "source": [
    "hc_ward = linkage(y = X2, method = \"ward\")\n",
    "hc_complete = linkage(X2, \"complete\")\n",
    "hc_average = linkage(X2, \"average\")\n",
    "hc_single = linkage(X2, \"single\")"
   ]
  },
  {
   "cell_type": "code",
   "execution_count": 39,
   "metadata": {
    "scrolled": false
   },
   "outputs": [
    {
     "data": {
      "image/png": "[encoded data removed]",
      "text/plain": [
       "<Figure size 1440x864 with 4 Axes>"
      ]
     },
     "metadata": {
      "needs_background": "light"
     },
     "output_type": "display_data"
    }
   ],
   "source": [
    "plt.figure(figsize = (20,12))\n",
    "\n",
    "plt.subplot(221)\n",
    "plt.title(\"Ward\")\n",
    "plt.xlabel(\"Observations\")\n",
    "plt.ylabel(\"Distance\")\n",
    "dendrogram(hc_ward, truncate_mode = \"lastp\", p = 10, show_contracted = True, leaf_font_size = 10)\n",
    "\n",
    "plt.subplot(222)\n",
    "plt.title(\"Complete\")\n",
    "plt.xlabel(\"Observations\")\n",
    "plt.ylabel(\"Distance\")\n",
    "dendrogram(hc_complete, truncate_mode = \"lastp\", p = 10, show_contracted = True, leaf_font_size = 10)\n",
    "\n",
    "plt.subplot(223)\n",
    "plt.title(\"Average\")\n",
    "plt.xlabel(\"Observations\")\n",
    "plt.ylabel(\"Distance\")\n",
    "dendrogram(hc_average, truncate_mode = \"lastp\", p = 10, show_contracted = True, leaf_font_size = 10)\n",
    "\n",
    "plt.subplot(224)\n",
    "plt.title(\"Single\")\n",
    "plt.xlabel(\"Observations\")\n",
    "plt.ylabel(\"Distance\")\n",
    "dendrogram(hc_single, truncate_mode = \"lastp\", p = 10, show_contracted = True, leaf_font_size = 10);"
   ]
  },
  {
   "cell_type": "markdown",
   "metadata": {},
   "source": [
    "hayda dendogram bu sefer iyice 2 demeye başladı. belki complete 3 diyor"
   ]
  },
  {
   "cell_type": "markdown",
   "metadata": {},
   "source": [
    "siluet skorlarıma bakttığımda ise bu sefer 3 cluster ın 23 puan yükseldiğini görüyorum. Bu modelin cluster sayısının 3 olma olasılığını daha da yükseltti."
   ]
  },
  {
   "cell_type": "code",
   "execution_count": 40,
   "metadata": {
    "scrolled": true
   },
   "outputs": [
    {
     "name": "stdout",
     "output_type": "stream",
     "text": [
      "Silhouette Score for 2 clusters: 0.5843563041221426\n",
      "Silhouette Score for 3 clusters: 0.5408473507473215\n",
      "Silhouette Score for 4 clusters: 0.49680242574181405\n",
      "Silhouette Score for 5 clusters: 0.4610301160129345\n",
      "Silhouette Score for 6 clusters: 0.45309851046082883\n",
      "Silhouette Score for 7 clusters: 0.39604153006494913\n",
      "Silhouette Score for 8 clusters: 0.39684807539987044\n",
      "Silhouette Score for 9 clusters: 0.3700971634671143\n",
      "Silhouette Score for 10 clusters: 0.36251487312336017\n"
     ]
    }
   ],
   "source": [
    "K = range(2,11)\n",
    "\n",
    "for k in K:\n",
    "    model = AgglomerativeClustering(n_clusters = k)\n",
    "    model.fit_predict(X2)\n",
    "    print(f'Silhouette Score for {k} clusters: {silhouette_score(df, model.labels_)}')"
   ]
  },
  {
   "cell_type": "markdown",
   "metadata": {},
   "source": [
    "final modeli kuruyorum"
   ]
  },
  {
   "cell_type": "code",
   "execution_count": 41,
   "metadata": {},
   "outputs": [],
   "source": [
    "final_model = AgglomerativeClustering(n_clusters=3, affinity = \"euclidean\", linkage = \"ward\")\n",
    "clusters = final_model.fit_predict(X2)\n",
    "X2[\"cluster\"] = clusters"
   ]
  },
  {
   "cell_type": "markdown",
   "metadata": {},
   "source": [
    "value counts yaptığımda classlar arası uyumun daha da arttığını görüyorum"
   ]
  },
  {
   "cell_type": "code",
   "execution_count": 42,
   "metadata": {},
   "outputs": [
    {
     "data": {
      "text/plain": [
       "1    20\n",
       "0    16\n",
       "2    14\n",
       "Name: cluster, dtype: int64"
      ]
     },
     "execution_count": 42,
     "metadata": {},
     "output_type": "execute_result"
    }
   ],
   "source": [
    "X2.cluster.value_counts()"
   ]
  },
  {
   "cell_type": "code",
   "execution_count": 43,
   "metadata": {},
   "outputs": [
    {
     "data": {
      "text/plain": [
       "<AxesSubplot:xlabel='cluster', ylabel='Rape'>"
      ]
     },
     "execution_count": 43,
     "metadata": {},
     "output_type": "execute_result"
    },
    {
     "data": {
      "image/png": "[encoded data removed]",
      "text/plain": [
       "<Figure size 1440x432 with 3 Axes>"
      ]
     },
     "metadata": {
      "needs_background": "light"
     },
     "output_type": "display_data"
    }
   ],
   "source": [
    "plt.figure(figsize = (20,6))\n",
    "\n",
    "plt.subplot(131)\n",
    "sns.boxplot(y = \"Murder\", x = \"cluster\", data = X2)\n",
    "\n",
    "plt.subplot(132)\n",
    "sns.boxplot(y = \"Assault\", x = \"cluster\", data = X2)\n",
    "\n",
    "plt.subplot(133)\n",
    "sns.boxplot(y = \"Rape\", x = \"cluster\", data = X2)"
   ]
  },
  {
   "cell_type": "markdown",
   "metadata": {},
   "source": [
    "Bakın boxplotta whisker lar bile birbirini kesmiyor"
   ]
  },
  {
   "cell_type": "markdown",
   "metadata": {},
   "source": [
    "**Evaluation**\n",
    "\n",
    "- 0 : states with high crime rates\n",
    "- 1 : states with low crime rates\n",
    "- 2 : states with medium crime rates"
   ]
  },
  {
   "cell_type": "markdown",
   "metadata": {},
   "source": [
    "Bunları bir isimlendirdim\n",
    "\n",
    "0 = Hight\n",
    "\n",
    "1= low\n",
    "\n",
    "2= Medium"
   ]
  },
  {
   "cell_type": "code",
   "execution_count": 44,
   "metadata": {},
   "outputs": [
    {
     "data": {
      "text/html": [
       "<div>\n",
       "<style scoped>\n",
       "    .dataframe tbody tr th:only-of-type {\n",
       "        vertical-align: middle;\n",
       "    }\n",
       "\n",
       "    .dataframe tbody tr th {\n",
       "        vertical-align: top;\n",
       "    }\n",
       "\n",
       "    .dataframe thead th {\n",
       "        text-align: right;\n",
       "    }\n",
       "</style>\n",
       "<table border=\"1\" class=\"dataframe\">\n",
       "  <thead>\n",
       "    <tr style=\"text-align: right;\">\n",
       "      <th></th>\n",
       "      <th>Murder</th>\n",
       "      <th>Assault</th>\n",
       "      <th>Rape</th>\n",
       "      <th>cluster</th>\n",
       "      <th>crime_level</th>\n",
       "    </tr>\n",
       "  </thead>\n",
       "  <tbody>\n",
       "    <tr>\n",
       "      <th>0</th>\n",
       "      <td>0.000000</td>\n",
       "      <td>0.000000</td>\n",
       "      <td>0.000000</td>\n",
       "      <td>1</td>\n",
       "      <td>low</td>\n",
       "    </tr>\n",
       "    <tr>\n",
       "      <th>1</th>\n",
       "      <td>0.078313</td>\n",
       "      <td>0.003425</td>\n",
       "      <td>0.012920</td>\n",
       "      <td>1</td>\n",
       "      <td>low</td>\n",
       "    </tr>\n",
       "    <tr>\n",
       "      <th>2</th>\n",
       "      <td>0.078313</td>\n",
       "      <td>0.010274</td>\n",
       "      <td>0.025840</td>\n",
       "      <td>1</td>\n",
       "      <td>low</td>\n",
       "    </tr>\n",
       "    <tr>\n",
       "      <th>3</th>\n",
       "      <td>0.084337</td>\n",
       "      <td>0.027397</td>\n",
       "      <td>0.051680</td>\n",
       "      <td>1</td>\n",
       "      <td>low</td>\n",
       "    </tr>\n",
       "    <tr>\n",
       "      <th>4</th>\n",
       "      <td>0.084337</td>\n",
       "      <td>0.037671</td>\n",
       "      <td>0.056848</td>\n",
       "      <td>1</td>\n",
       "      <td>low</td>\n",
       "    </tr>\n",
       "  </tbody>\n",
       "</table>\n",
       "</div>"
      ],
      "text/plain": [
       "     Murder   Assault      Rape  cluster crime_level\n",
       "0  0.000000  0.000000  0.000000        1         low\n",
       "1  0.078313  0.003425  0.012920        1         low\n",
       "2  0.078313  0.010274  0.025840        1         low\n",
       "3  0.084337  0.027397  0.051680        1         low\n",
       "4  0.084337  0.037671  0.056848        1         low"
      ]
     },
     "execution_count": 44,
     "metadata": {},
     "output_type": "execute_result"
    }
   ],
   "source": [
    "X2[\"crime_level\"] = X2[\"cluster\"].map({0:\"high\", 1:\"low\",2:\"medium\"})\n",
    "X2.head()"
   ]
  },
  {
   "cell_type": "code",
   "execution_count": 45,
   "metadata": {
    "scrolled": true
   },
   "outputs": [
    {
     "data": {
      "text/plain": [
       "Index(['Alabama', 'Alaska', 'Arizona', 'Arkansas', 'California', 'Colorado',\n",
       "       'Connecticut', 'Delaware', 'Florida', 'Georgia', 'Hawaii', 'Idaho',\n",
       "       'Illinois', 'Indiana', 'Iowa', 'Kansas', 'Kentucky', 'Louisiana',\n",
       "       'Maine', 'Maryland', 'Massachusetts', 'Michigan', 'Minnesota',\n",
       "       'Mississippi', 'Missouri', 'Montana', 'Nebraska', 'Nevada',\n",
       "       'New Hampshire', 'New Jersey', 'New Mexico', 'New York',\n",
       "       'North Carolina', 'North Dakota', 'Ohio', 'Oklahoma', 'Oregon',\n",
       "       'Pennsylvania', 'Rhode Island', 'South Carolina', 'South Dakota',\n",
       "       'Tennessee', 'Texas', 'Utah', 'Vermont', 'Virginia', 'Washington',\n",
       "       'West Virginia', 'Wisconsin', 'Wyoming'],\n",
       "      dtype='object')"
      ]
     },
     "execution_count": 45,
     "metadata": {},
     "output_type": "execute_result"
    }
   ],
   "source": [
    "df.index"
   ]
  },
  {
   "cell_type": "markdown",
   "metadata": {},
   "source": [
    "en başta indexe atadığım eyaletleri ve leveli veriyorum ve bunu bir df olarak görüyorum"
   ]
  },
  {
   "cell_type": "code",
   "execution_count": 46,
   "metadata": {
    "scrolled": true
   },
   "outputs": [
    {
     "data": {
      "text/html": [
       "<div>\n",
       "<style scoped>\n",
       "    .dataframe tbody tr th:only-of-type {\n",
       "        vertical-align: middle;\n",
       "    }\n",
       "\n",
       "    .dataframe tbody tr th {\n",
       "        vertical-align: top;\n",
       "    }\n",
       "\n",
       "    .dataframe thead th {\n",
       "        text-align: right;\n",
       "    }\n",
       "</style>\n",
       "<table border=\"1\" class=\"dataframe\">\n",
       "  <thead>\n",
       "    <tr style=\"text-align: right;\">\n",
       "      <th></th>\n",
       "      <th>Murder</th>\n",
       "      <th>Assault</th>\n",
       "      <th>Rape</th>\n",
       "      <th>cluster</th>\n",
       "      <th>crime_level</th>\n",
       "      <th>States</th>\n",
       "    </tr>\n",
       "  </thead>\n",
       "  <tbody>\n",
       "    <tr>\n",
       "      <th>0</th>\n",
       "      <td>0.000000</td>\n",
       "      <td>0.000000</td>\n",
       "      <td>0.000000</td>\n",
       "      <td>1</td>\n",
       "      <td>low</td>\n",
       "      <td>Alabama</td>\n",
       "    </tr>\n",
       "    <tr>\n",
       "      <th>1</th>\n",
       "      <td>0.078313</td>\n",
       "      <td>0.003425</td>\n",
       "      <td>0.012920</td>\n",
       "      <td>1</td>\n",
       "      <td>low</td>\n",
       "      <td>Alaska</td>\n",
       "    </tr>\n",
       "    <tr>\n",
       "      <th>2</th>\n",
       "      <td>0.078313</td>\n",
       "      <td>0.010274</td>\n",
       "      <td>0.025840</td>\n",
       "      <td>1</td>\n",
       "      <td>low</td>\n",
       "      <td>Arizona</td>\n",
       "    </tr>\n",
       "    <tr>\n",
       "      <th>3</th>\n",
       "      <td>0.084337</td>\n",
       "      <td>0.027397</td>\n",
       "      <td>0.051680</td>\n",
       "      <td>1</td>\n",
       "      <td>low</td>\n",
       "      <td>Arkansas</td>\n",
       "    </tr>\n",
       "    <tr>\n",
       "      <th>4</th>\n",
       "      <td>0.084337</td>\n",
       "      <td>0.037671</td>\n",
       "      <td>0.056848</td>\n",
       "      <td>1</td>\n",
       "      <td>low</td>\n",
       "      <td>California</td>\n",
       "    </tr>\n",
       "    <tr>\n",
       "      <th>5</th>\n",
       "      <td>0.108434</td>\n",
       "      <td>0.041096</td>\n",
       "      <td>0.090439</td>\n",
       "      <td>1</td>\n",
       "      <td>low</td>\n",
       "      <td>Colorado</td>\n",
       "    </tr>\n",
       "    <tr>\n",
       "      <th>6</th>\n",
       "      <td>0.108434</td>\n",
       "      <td>0.092466</td>\n",
       "      <td>0.098191</td>\n",
       "      <td>1</td>\n",
       "      <td>low</td>\n",
       "      <td>Connecticut</td>\n",
       "    </tr>\n",
       "    <tr>\n",
       "      <th>7</th>\n",
       "      <td>0.114458</td>\n",
       "      <td>0.123288</td>\n",
       "      <td>0.100775</td>\n",
       "      <td>1</td>\n",
       "      <td>low</td>\n",
       "      <td>Delaware</td>\n",
       "    </tr>\n",
       "    <tr>\n",
       "      <th>8</th>\n",
       "      <td>0.144578</td>\n",
       "      <td>0.130137</td>\n",
       "      <td>0.103359</td>\n",
       "      <td>1</td>\n",
       "      <td>low</td>\n",
       "      <td>Florida</td>\n",
       "    </tr>\n",
       "    <tr>\n",
       "      <th>9</th>\n",
       "      <td>0.150602</td>\n",
       "      <td>0.140411</td>\n",
       "      <td>0.142119</td>\n",
       "      <td>1</td>\n",
       "      <td>low</td>\n",
       "      <td>Georgia</td>\n",
       "    </tr>\n",
       "    <tr>\n",
       "      <th>10</th>\n",
       "      <td>0.156627</td>\n",
       "      <td>0.195205</td>\n",
       "      <td>0.178295</td>\n",
       "      <td>1</td>\n",
       "      <td>low</td>\n",
       "      <td>Hawaii</td>\n",
       "    </tr>\n",
       "    <tr>\n",
       "      <th>11</th>\n",
       "      <td>0.180723</td>\n",
       "      <td>0.208904</td>\n",
       "      <td>0.196382</td>\n",
       "      <td>1</td>\n",
       "      <td>low</td>\n",
       "      <td>Idaho</td>\n",
       "    </tr>\n",
       "    <tr>\n",
       "      <th>12</th>\n",
       "      <td>0.192771</td>\n",
       "      <td>0.219178</td>\n",
       "      <td>0.196382</td>\n",
       "      <td>1</td>\n",
       "      <td>low</td>\n",
       "      <td>Illinois</td>\n",
       "    </tr>\n",
       "    <tr>\n",
       "      <th>13</th>\n",
       "      <td>0.210843</td>\n",
       "      <td>0.219178</td>\n",
       "      <td>0.214470</td>\n",
       "      <td>1</td>\n",
       "      <td>low</td>\n",
       "      <td>Indiana</td>\n",
       "    </tr>\n",
       "    <tr>\n",
       "      <th>14</th>\n",
       "      <td>0.216867</td>\n",
       "      <td>0.222603</td>\n",
       "      <td>0.219638</td>\n",
       "      <td>1</td>\n",
       "      <td>low</td>\n",
       "      <td>Iowa</td>\n",
       "    </tr>\n",
       "    <tr>\n",
       "      <th>15</th>\n",
       "      <td>0.246988</td>\n",
       "      <td>0.232877</td>\n",
       "      <td>0.227390</td>\n",
       "      <td>1</td>\n",
       "      <td>low</td>\n",
       "      <td>Kansas</td>\n",
       "    </tr>\n",
       "    <tr>\n",
       "      <th>16</th>\n",
       "      <td>0.271084</td>\n",
       "      <td>0.239726</td>\n",
       "      <td>0.232558</td>\n",
       "      <td>1</td>\n",
       "      <td>low</td>\n",
       "      <td>Kentucky</td>\n",
       "    </tr>\n",
       "    <tr>\n",
       "      <th>17</th>\n",
       "      <td>0.295181</td>\n",
       "      <td>0.256849</td>\n",
       "      <td>0.232558</td>\n",
       "      <td>1</td>\n",
       "      <td>low</td>\n",
       "      <td>Louisiana</td>\n",
       "    </tr>\n",
       "    <tr>\n",
       "      <th>18</th>\n",
       "      <td>0.307229</td>\n",
       "      <td>0.256849</td>\n",
       "      <td>0.235142</td>\n",
       "      <td>1</td>\n",
       "      <td>low</td>\n",
       "      <td>Maine</td>\n",
       "    </tr>\n",
       "    <tr>\n",
       "      <th>19</th>\n",
       "      <td>0.313253</td>\n",
       "      <td>0.256849</td>\n",
       "      <td>0.237726</td>\n",
       "      <td>1</td>\n",
       "      <td>low</td>\n",
       "      <td>Maryland</td>\n",
       "    </tr>\n",
       "    <tr>\n",
       "      <th>20</th>\n",
       "      <td>0.313253</td>\n",
       "      <td>0.342466</td>\n",
       "      <td>0.253230</td>\n",
       "      <td>2</td>\n",
       "      <td>medium</td>\n",
       "      <td>Massachusetts</td>\n",
       "    </tr>\n",
       "    <tr>\n",
       "      <th>21</th>\n",
       "      <td>0.331325</td>\n",
       "      <td>0.356164</td>\n",
       "      <td>0.276486</td>\n",
       "      <td>2</td>\n",
       "      <td>medium</td>\n",
       "      <td>Michigan</td>\n",
       "    </tr>\n",
       "    <tr>\n",
       "      <th>22</th>\n",
       "      <td>0.349398</td>\n",
       "      <td>0.363014</td>\n",
       "      <td>0.297158</td>\n",
       "      <td>2</td>\n",
       "      <td>medium</td>\n",
       "      <td>Minnesota</td>\n",
       "    </tr>\n",
       "    <tr>\n",
       "      <th>23</th>\n",
       "      <td>0.361446</td>\n",
       "      <td>0.380137</td>\n",
       "      <td>0.315245</td>\n",
       "      <td>2</td>\n",
       "      <td>medium</td>\n",
       "      <td>Mississippi</td>\n",
       "    </tr>\n",
       "    <tr>\n",
       "      <th>24</th>\n",
       "      <td>0.385542</td>\n",
       "      <td>0.390411</td>\n",
       "      <td>0.328165</td>\n",
       "      <td>2</td>\n",
       "      <td>medium</td>\n",
       "      <td>Missouri</td>\n",
       "    </tr>\n",
       "    <tr>\n",
       "      <th>25</th>\n",
       "      <td>0.391566</td>\n",
       "      <td>0.390411</td>\n",
       "      <td>0.333333</td>\n",
       "      <td>2</td>\n",
       "      <td>medium</td>\n",
       "      <td>Montana</td>\n",
       "    </tr>\n",
       "    <tr>\n",
       "      <th>26</th>\n",
       "      <td>0.397590</td>\n",
       "      <td>0.397260</td>\n",
       "      <td>0.346253</td>\n",
       "      <td>2</td>\n",
       "      <td>medium</td>\n",
       "      <td>Nebraska</td>\n",
       "    </tr>\n",
       "    <tr>\n",
       "      <th>27</th>\n",
       "      <td>0.427711</td>\n",
       "      <td>0.441781</td>\n",
       "      <td>0.354005</td>\n",
       "      <td>2</td>\n",
       "      <td>medium</td>\n",
       "      <td>Nevada</td>\n",
       "    </tr>\n",
       "    <tr>\n",
       "      <th>28</th>\n",
       "      <td>0.439759</td>\n",
       "      <td>0.455479</td>\n",
       "      <td>0.359173</td>\n",
       "      <td>2</td>\n",
       "      <td>medium</td>\n",
       "      <td>New Hampshire</td>\n",
       "    </tr>\n",
       "    <tr>\n",
       "      <th>29</th>\n",
       "      <td>0.463855</td>\n",
       "      <td>0.489726</td>\n",
       "      <td>0.364341</td>\n",
       "      <td>2</td>\n",
       "      <td>medium</td>\n",
       "      <td>New Jersey</td>\n",
       "    </tr>\n",
       "    <tr>\n",
       "      <th>30</th>\n",
       "      <td>0.481928</td>\n",
       "      <td>0.496575</td>\n",
       "      <td>0.385013</td>\n",
       "      <td>2</td>\n",
       "      <td>medium</td>\n",
       "      <td>New Mexico</td>\n",
       "    </tr>\n",
       "    <tr>\n",
       "      <th>31</th>\n",
       "      <td>0.493976</td>\n",
       "      <td>0.534247</td>\n",
       "      <td>0.392765</td>\n",
       "      <td>2</td>\n",
       "      <td>medium</td>\n",
       "      <td>New York</td>\n",
       "    </tr>\n",
       "    <tr>\n",
       "      <th>32</th>\n",
       "      <td>0.493976</td>\n",
       "      <td>0.544521</td>\n",
       "      <td>0.403101</td>\n",
       "      <td>2</td>\n",
       "      <td>medium</td>\n",
       "      <td>North Carolina</td>\n",
       "    </tr>\n",
       "    <tr>\n",
       "      <th>33</th>\n",
       "      <td>0.536145</td>\n",
       "      <td>0.568493</td>\n",
       "      <td>0.431525</td>\n",
       "      <td>2</td>\n",
       "      <td>medium</td>\n",
       "      <td>North Dakota</td>\n",
       "    </tr>\n",
       "    <tr>\n",
       "      <th>34</th>\n",
       "      <td>0.554217</td>\n",
       "      <td>0.654110</td>\n",
       "      <td>0.470284</td>\n",
       "      <td>0</td>\n",
       "      <td>high</td>\n",
       "      <td>Ohio</td>\n",
       "    </tr>\n",
       "    <tr>\n",
       "      <th>35</th>\n",
       "      <td>0.578313</td>\n",
       "      <td>0.660959</td>\n",
       "      <td>0.478036</td>\n",
       "      <td>0</td>\n",
       "      <td>high</td>\n",
       "      <td>Oklahoma</td>\n",
       "    </tr>\n",
       "    <tr>\n",
       "      <th>36</th>\n",
       "      <td>0.620482</td>\n",
       "      <td>0.698630</td>\n",
       "      <td>0.485788</td>\n",
       "      <td>0</td>\n",
       "      <td>high</td>\n",
       "      <td>Oregon</td>\n",
       "    </tr>\n",
       "    <tr>\n",
       "      <th>37</th>\n",
       "      <td>0.632530</td>\n",
       "      <td>0.698630</td>\n",
       "      <td>0.488372</td>\n",
       "      <td>0</td>\n",
       "      <td>high</td>\n",
       "      <td>Pennsylvania</td>\n",
       "    </tr>\n",
       "    <tr>\n",
       "      <th>38</th>\n",
       "      <td>0.638554</td>\n",
       "      <td>0.708904</td>\n",
       "      <td>0.506460</td>\n",
       "      <td>0</td>\n",
       "      <td>high</td>\n",
       "      <td>Rhode Island</td>\n",
       "    </tr>\n",
       "    <tr>\n",
       "      <th>39</th>\n",
       "      <td>0.680723</td>\n",
       "      <td>0.715753</td>\n",
       "      <td>0.529716</td>\n",
       "      <td>0</td>\n",
       "      <td>high</td>\n",
       "      <td>South Carolina</td>\n",
       "    </tr>\n",
       "    <tr>\n",
       "      <th>40</th>\n",
       "      <td>0.686747</td>\n",
       "      <td>0.719178</td>\n",
       "      <td>0.540052</td>\n",
       "      <td>0</td>\n",
       "      <td>high</td>\n",
       "      <td>South Dakota</td>\n",
       "    </tr>\n",
       "    <tr>\n",
       "      <th>41</th>\n",
       "      <td>0.716867</td>\n",
       "      <td>0.732877</td>\n",
       "      <td>0.568475</td>\n",
       "      <td>0</td>\n",
       "      <td>high</td>\n",
       "      <td>Tennessee</td>\n",
       "    </tr>\n",
       "    <tr>\n",
       "      <th>42</th>\n",
       "      <td>0.734940</td>\n",
       "      <td>0.746575</td>\n",
       "      <td>0.612403</td>\n",
       "      <td>0</td>\n",
       "      <td>high</td>\n",
       "      <td>Texas</td>\n",
       "    </tr>\n",
       "    <tr>\n",
       "      <th>43</th>\n",
       "      <td>0.746988</td>\n",
       "      <td>0.791096</td>\n",
       "      <td>0.635659</td>\n",
       "      <td>0</td>\n",
       "      <td>high</td>\n",
       "      <td>Utah</td>\n",
       "    </tr>\n",
       "    <tr>\n",
       "      <th>44</th>\n",
       "      <td>0.746988</td>\n",
       "      <td>0.801370</td>\n",
       "      <td>0.640827</td>\n",
       "      <td>0</td>\n",
       "      <td>high</td>\n",
       "      <td>Vermont</td>\n",
       "    </tr>\n",
       "    <tr>\n",
       "      <th>45</th>\n",
       "      <td>0.819277</td>\n",
       "      <td>0.821918</td>\n",
       "      <td>0.718346</td>\n",
       "      <td>0</td>\n",
       "      <td>high</td>\n",
       "      <td>Virginia</td>\n",
       "    </tr>\n",
       "    <tr>\n",
       "      <th>46</th>\n",
       "      <td>0.879518</td>\n",
       "      <td>0.852740</td>\n",
       "      <td>0.811370</td>\n",
       "      <td>0</td>\n",
       "      <td>high</td>\n",
       "      <td>Washington</td>\n",
       "    </tr>\n",
       "    <tr>\n",
       "      <th>47</th>\n",
       "      <td>0.879518</td>\n",
       "      <td>0.873288</td>\n",
       "      <td>0.860465</td>\n",
       "      <td>0</td>\n",
       "      <td>high</td>\n",
       "      <td>West Virginia</td>\n",
       "    </tr>\n",
       "    <tr>\n",
       "      <th>48</th>\n",
       "      <td>0.921687</td>\n",
       "      <td>0.993151</td>\n",
       "      <td>0.961240</td>\n",
       "      <td>0</td>\n",
       "      <td>high</td>\n",
       "      <td>Wisconsin</td>\n",
       "    </tr>\n",
       "    <tr>\n",
       "      <th>49</th>\n",
       "      <td>1.000000</td>\n",
       "      <td>1.000000</td>\n",
       "      <td>1.000000</td>\n",
       "      <td>0</td>\n",
       "      <td>high</td>\n",
       "      <td>Wyoming</td>\n",
       "    </tr>\n",
       "  </tbody>\n",
       "</table>\n",
       "</div>"
      ],
      "text/plain": [
       "      Murder   Assault      Rape  cluster crime_level          States\n",
       "0   0.000000  0.000000  0.000000        1         low         Alabama\n",
       "1   0.078313  0.003425  0.012920        1         low          Alaska\n",
       "2   0.078313  0.010274  0.025840        1         low         Arizona\n",
       "3   0.084337  0.027397  0.051680        1         low        Arkansas\n",
       "4   0.084337  0.037671  0.056848        1         low      California\n",
       "5   0.108434  0.041096  0.090439        1         low        Colorado\n",
       "6   0.108434  0.092466  0.098191        1         low     Connecticut\n",
       "7   0.114458  0.123288  0.100775        1         low        Delaware\n",
       "8   0.144578  0.130137  0.103359        1         low         Florida\n",
       "9   0.150602  0.140411  0.142119        1         low         Georgia\n",
       "10  0.156627  0.195205  0.178295        1         low          Hawaii\n",
       "11  0.180723  0.208904  0.196382        1         low           Idaho\n",
       "12  0.192771  0.219178  0.196382        1         low        Illinois\n",
       "13  0.210843  0.219178  0.214470        1         low         Indiana\n",
       "14  0.216867  0.222603  0.219638        1         low            Iowa\n",
       "15  0.246988  0.232877  0.227390        1         low          Kansas\n",
       "16  0.271084  0.239726  0.232558        1         low        Kentucky\n",
       "17  0.295181  0.256849  0.232558        1         low       Louisiana\n",
       "18  0.307229  0.256849  0.235142        1         low           Maine\n",
       "19  0.313253  0.256849  0.237726        1         low        Maryland\n",
       "20  0.313253  0.342466  0.253230        2      medium   Massachusetts\n",
       "21  0.331325  0.356164  0.276486        2      medium        Michigan\n",
       "22  0.349398  0.363014  0.297158        2      medium       Minnesota\n",
       "23  0.361446  0.380137  0.315245        2      medium     Mississippi\n",
       "24  0.385542  0.390411  0.328165        2      medium        Missouri\n",
       "25  0.391566  0.390411  0.333333        2      medium         Montana\n",
       "26  0.397590  0.397260  0.346253        2      medium        Nebraska\n",
       "27  0.427711  0.441781  0.354005        2      medium          Nevada\n",
       "28  0.439759  0.455479  0.359173        2      medium   New Hampshire\n",
       "29  0.463855  0.489726  0.364341        2      medium      New Jersey\n",
       "30  0.481928  0.496575  0.385013        2      medium      New Mexico\n",
       "31  0.493976  0.534247  0.392765        2      medium        New York\n",
       "32  0.493976  0.544521  0.403101        2      medium  North Carolina\n",
       "33  0.536145  0.568493  0.431525        2      medium    North Dakota\n",
       "34  0.554217  0.654110  0.470284        0        high            Ohio\n",
       "35  0.578313  0.660959  0.478036        0        high        Oklahoma\n",
       "36  0.620482  0.698630  0.485788        0        high          Oregon\n",
       "37  0.632530  0.698630  0.488372        0        high    Pennsylvania\n",
       "38  0.638554  0.708904  0.506460        0        high    Rhode Island\n",
       "39  0.680723  0.715753  0.529716        0        high  South Carolina\n",
       "40  0.686747  0.719178  0.540052        0        high    South Dakota\n",
       "41  0.716867  0.732877  0.568475        0        high       Tennessee\n",
       "42  0.734940  0.746575  0.612403        0        high           Texas\n",
       "43  0.746988  0.791096  0.635659        0        high            Utah\n",
       "44  0.746988  0.801370  0.640827        0        high         Vermont\n",
       "45  0.819277  0.821918  0.718346        0        high        Virginia\n",
       "46  0.879518  0.852740  0.811370        0        high      Washington\n",
       "47  0.879518  0.873288  0.860465        0        high   West Virginia\n",
       "48  0.921687  0.993151  0.961240        0        high       Wisconsin\n",
       "49  1.000000  1.000000  1.000000        0        high         Wyoming"
      ]
     },
     "execution_count": 46,
     "metadata": {},
     "output_type": "execute_result"
    }
   ],
   "source": [
    "X2[\"States\"] = df.index\n",
    "X2"
   ]
  },
  {
   "cell_type": "markdown",
   "metadata": {},
   "source": [
    "Elde ettiğimiz bu classları listeleyebiliriz"
   ]
  },
  {
   "cell_type": "code",
   "execution_count": 47,
   "metadata": {},
   "outputs": [
    {
     "data": {
      "text/plain": [
       "0         Alabama\n",
       "1          Alaska\n",
       "2         Arizona\n",
       "3        Arkansas\n",
       "4      California\n",
       "5        Colorado\n",
       "6     Connecticut\n",
       "7        Delaware\n",
       "8         Florida\n",
       "9         Georgia\n",
       "10         Hawaii\n",
       "11          Idaho\n",
       "12       Illinois\n",
       "13        Indiana\n",
       "14           Iowa\n",
       "15         Kansas\n",
       "16       Kentucky\n",
       "17      Louisiana\n",
       "18          Maine\n",
       "19       Maryland\n",
       "Name: States, dtype: object"
      ]
     },
     "execution_count": 47,
     "metadata": {},
     "output_type": "execute_result"
    }
   ],
   "source": [
    "X2[X2.crime_level==\"low\"][\"States\"]"
   ]
  },
  {
   "cell_type": "code",
   "execution_count": 48,
   "metadata": {},
   "outputs": [
    {
     "data": {
      "text/plain": [
       "34              Ohio\n",
       "35          Oklahoma\n",
       "36            Oregon\n",
       "37      Pennsylvania\n",
       "38      Rhode Island\n",
       "39    South Carolina\n",
       "40      South Dakota\n",
       "41         Tennessee\n",
       "42             Texas\n",
       "43              Utah\n",
       "44           Vermont\n",
       "45          Virginia\n",
       "46        Washington\n",
       "47     West Virginia\n",
       "48         Wisconsin\n",
       "49           Wyoming\n",
       "Name: States, dtype: object"
      ]
     },
     "execution_count": 48,
     "metadata": {},
     "output_type": "execute_result"
    }
   ],
   "source": [
    "X2[X2.crime_level==\"high\"][\"States\"]"
   ]
  },
  {
   "cell_type": "code",
   "execution_count": null,
   "metadata": {},
   "outputs": [],
   "source": []
  }
 ],
 "metadata": {
  "kernelspec": {
   "display_name": "Python 3",
   "language": "python",
   "name": "python3"
  },
  "language_info": {
   "codemirror_mode": {
    "name": "ipython",
    "version": 3
   },
   "file_extension": ".py",
   "mimetype": "text/x-python",
   "name": "python",
   "nbconvert_exporter": "python",
   "pygments_lexer": "ipython3",
   "version": "3.10.8"
  }
 },
 "nbformat": 4,
 "nbformat_minor": 4
}
