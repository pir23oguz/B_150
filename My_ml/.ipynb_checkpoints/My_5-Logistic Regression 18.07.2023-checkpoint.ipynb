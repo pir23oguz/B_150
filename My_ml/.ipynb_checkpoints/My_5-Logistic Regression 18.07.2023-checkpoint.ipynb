{
 "cells": [
  {
   "cell_type": "code",
   "execution_count": 3,
   "id": "d2b2832b",
   "metadata": {
    "ExecuteTime": {
     "end_time": "2023-07-18T17:57:07.723114Z",
     "start_time": "2023-07-18T17:57:07.694606Z"
    }
   },
   "outputs": [],
   "source": [
    "import numpy as np\n",
    "import pandas as pd\n",
    "import seaborn as sns\n",
    "import matplotlib.pyplot as plt\n",
    "\n",
    "%matplotlib inline\n",
    "#%matplotlib notebook\n",
    "plt.rcParams[\"figure.figsize\"] = (10,6)\n",
    "import warnings\n",
    "warnings.filterwarnings(\"ignore\")\n",
    "warnings.warn(\"this will not show\")\n",
    "pd.set_option('display.float_format', lambda x: '%.3f' % x)"
   ]
  },
  {
   "cell_type": "raw",
   "id": "59c512f8",
   "metadata": {},
   "source": [
    "notebook’u istedigimiz klasorden acabilmek icin;\n",
    "\n",
    "1) Python.org 3.10.8 I indir. (Kurulum yaparken ilk tik kaldirilacak, alttaki secilecek)\n",
    "2) command prompt acilacak à “pip install notebook” yaz, enter\n",
    "3) Kurulum bittikten sonra; acmak istedigimiz klasorun terminalinde (klasorun adres cubuguna CMD yazilarak terminal acilir) à  “jupyter notebook” yaz OK."
   ]
  },
  {
   "cell_type": "code",
   "execution_count": 5,
   "id": "b7f80d2e",
   "metadata": {
    "ExecuteTime": {
     "end_time": "2023-07-18T17:58:13.414031Z",
     "start_time": "2023-07-18T17:58:13.350727Z"
    }
   },
   "outputs": [
    {
     "data": {
      "text/html": [
       "<div>\n",
       "<style scoped>\n",
       "    .dataframe tbody tr th:only-of-type {\n",
       "        vertical-align: middle;\n",
       "    }\n",
       "\n",
       "    .dataframe tbody tr th {\n",
       "        vertical-align: top;\n",
       "    }\n",
       "\n",
       "    .dataframe thead th {\n",
       "        text-align: right;\n",
       "    }\n",
       "</style>\n",
       "<table border=\"1\" class=\"dataframe\">\n",
       "  <thead>\n",
       "    <tr style=\"text-align: right;\">\n",
       "      <th></th>\n",
       "      <th>age</th>\n",
       "      <th>physical_score</th>\n",
       "      <th>test_result</th>\n",
       "    </tr>\n",
       "  </thead>\n",
       "  <tbody>\n",
       "    <tr>\n",
       "      <th>0</th>\n",
       "      <td>33.000</td>\n",
       "      <td>40.700</td>\n",
       "      <td>1</td>\n",
       "    </tr>\n",
       "    <tr>\n",
       "      <th>1</th>\n",
       "      <td>50.000</td>\n",
       "      <td>37.200</td>\n",
       "      <td>1</td>\n",
       "    </tr>\n",
       "    <tr>\n",
       "      <th>2</th>\n",
       "      <td>52.000</td>\n",
       "      <td>24.700</td>\n",
       "      <td>0</td>\n",
       "    </tr>\n",
       "    <tr>\n",
       "      <th>3</th>\n",
       "      <td>56.000</td>\n",
       "      <td>31.000</td>\n",
       "      <td>0</td>\n",
       "    </tr>\n",
       "    <tr>\n",
       "      <th>4</th>\n",
       "      <td>35.000</td>\n",
       "      <td>42.900</td>\n",
       "      <td>1</td>\n",
       "    </tr>\n",
       "  </tbody>\n",
       "</table>\n",
       "</div>"
      ],
      "text/plain": [
       "     age  physical_score  test_result\n",
       "0 33.000          40.700            1\n",
       "1 50.000          37.200            1\n",
       "2 52.000          24.700            0\n",
       "3 56.000          31.000            0\n",
       "4 35.000          42.900            1"
      ]
     },
     "execution_count": 5,
     "metadata": {},
     "output_type": "execute_result"
    }
   ],
   "source": [
    "df = pd.read_csv(\"hearing_test.csv\")\n",
    "df.head()"
   ]
  },
  {
   "cell_type": "markdown",
   "id": "b505541d",
   "metadata": {},
   "source": [
    "# EDA"
   ]
  },
  {
   "cell_type": "raw",
   "id": "a5759df5",
   "metadata": {},
   "source": [
    "Lojistik regresyon gibi klassifikasyon modellerde target daki hedef değişken her zaman 1 olacak örneğin\n",
    "\n",
    "kanser + olanlar = 1\n",
    "\n",
    "Spam var yok algoritmasında spamlar = 1\n",
    "\n",
    "Dersi geçmeyenlere yönelik alkgoritmada geçemeyneler = 1 olacak\n",
    "\n",
    "Kısaca olumlu olumsuz olanra göre dewğil hedef değişkene göre sınıflandırma yapacağız. ilk başta"
   ]
  },
  {
   "cell_type": "code",
   "execution_count": 6,
   "id": "ae7f2bb6",
   "metadata": {
    "ExecuteTime": {
     "end_time": "2023-07-18T18:03:08.307190Z",
     "start_time": "2023-07-18T18:03:08.282202Z"
    }
   },
   "outputs": [
    {
     "name": "stdout",
     "output_type": "stream",
     "text": [
      "<class 'pandas.core.frame.DataFrame'>\n",
      "RangeIndex: 5000 entries, 0 to 4999\n",
      "Data columns (total 3 columns):\n",
      " #   Column          Non-Null Count  Dtype  \n",
      "---  ------          --------------  -----  \n",
      " 0   age             5000 non-null   float64\n",
      " 1   physical_score  5000 non-null   float64\n",
      " 2   test_result     5000 non-null   int64  \n",
      "dtypes: float64(2), int64(1)\n",
      "memory usage: 117.3 KB\n"
     ]
    }
   ],
   "source": [
    "df.info()"
   ]
  },
  {
   "cell_type": "code",
   "execution_count": null,
   "id": "47e2fa5f",
   "metadata": {},
   "outputs": [],
   "source": [
    "# lokum gibi data(cicek gibi)"
   ]
  },
  {
   "cell_type": "code",
   "execution_count": 7,
   "id": "a2849ab3",
   "metadata": {
    "ExecuteTime": {
     "end_time": "2023-07-18T18:04:37.869060Z",
     "start_time": "2023-07-18T18:04:37.833071Z"
    }
   },
   "outputs": [
    {
     "data": {
      "text/html": [
       "<div>\n",
       "<style scoped>\n",
       "    .dataframe tbody tr th:only-of-type {\n",
       "        vertical-align: middle;\n",
       "    }\n",
       "\n",
       "    .dataframe tbody tr th {\n",
       "        vertical-align: top;\n",
       "    }\n",
       "\n",
       "    .dataframe thead th {\n",
       "        text-align: right;\n",
       "    }\n",
       "</style>\n",
       "<table border=\"1\" class=\"dataframe\">\n",
       "  <thead>\n",
       "    <tr style=\"text-align: right;\">\n",
       "      <th></th>\n",
       "      <th>count</th>\n",
       "      <th>mean</th>\n",
       "      <th>std</th>\n",
       "      <th>min</th>\n",
       "      <th>25%</th>\n",
       "      <th>50%</th>\n",
       "      <th>75%</th>\n",
       "      <th>max</th>\n",
       "    </tr>\n",
       "  </thead>\n",
       "  <tbody>\n",
       "    <tr>\n",
       "      <th>age</th>\n",
       "      <td>5000.000</td>\n",
       "      <td>51.609</td>\n",
       "      <td>11.287</td>\n",
       "      <td>18.000</td>\n",
       "      <td>43.000</td>\n",
       "      <td>51.000</td>\n",
       "      <td>60.000</td>\n",
       "      <td>90.000</td>\n",
       "    </tr>\n",
       "    <tr>\n",
       "      <th>physical_score</th>\n",
       "      <td>5000.000</td>\n",
       "      <td>32.760</td>\n",
       "      <td>8.170</td>\n",
       "      <td>-0.000</td>\n",
       "      <td>26.700</td>\n",
       "      <td>35.300</td>\n",
       "      <td>38.900</td>\n",
       "      <td>50.000</td>\n",
       "    </tr>\n",
       "    <tr>\n",
       "      <th>test_result</th>\n",
       "      <td>5000.000</td>\n",
       "      <td>0.600</td>\n",
       "      <td>0.490</td>\n",
       "      <td>0.000</td>\n",
       "      <td>0.000</td>\n",
       "      <td>1.000</td>\n",
       "      <td>1.000</td>\n",
       "      <td>1.000</td>\n",
       "    </tr>\n",
       "  </tbody>\n",
       "</table>\n",
       "</div>"
      ],
      "text/plain": [
       "                  count   mean    std    min    25%    50%    75%    max\n",
       "age            5000.000 51.609 11.287 18.000 43.000 51.000 60.000 90.000\n",
       "physical_score 5000.000 32.760  8.170 -0.000 26.700 35.300 38.900 50.000\n",
       "test_result    5000.000  0.600  0.490  0.000  0.000  1.000  1.000  1.000"
      ]
     },
     "execution_count": 7,
     "metadata": {},
     "output_type": "execute_result"
    }
   ],
   "source": [
    "df.describe().T"
   ]
  },
  {
   "cell_type": "code",
   "execution_count": 10,
   "id": "7b56c690",
   "metadata": {
    "ExecuteTime": {
     "end_time": "2023-07-18T18:17:33.777719Z",
     "start_time": "2023-07-18T18:17:33.757730Z"
    }
   },
   "outputs": [
    {
     "data": {
      "text/plain": [
       "1    3000\n",
       "0    2000\n",
       "Name: test_result, dtype: int64"
      ]
     },
     "execution_count": 10,
     "metadata": {},
     "output_type": "execute_result"
    }
   ],
   "source": [
    "df[\"test_result\"].value_counts() # Data Balance mi Unbalance mi?"
   ]
  },
  {
   "cell_type": "code",
   "execution_count": 11,
   "id": "6d884414",
   "metadata": {
    "ExecuteTime": {
     "end_time": "2023-07-18T18:19:13.142381Z",
     "start_time": "2023-07-18T18:19:12.798407Z"
    }
   },
   "outputs": [
    {
     "data": {
      "image/png": "[encoded data removed]",
      "text/plain": [
       "<Figure size 1000x600 with 1 Axes>"
      ]
     },
     "metadata": {},
     "output_type": "display_data"
    }
   ],
   "source": [
    "ax = sns.countplot(df['test_result'])\n",
    "ax.spines['top'].set_visible(False)\n",
    "ax.spines['right'].set_visible(False)\n",
    "for p in ax.patches:\n",
    "    ax.annotate(str(p.get_height()), (p.get_x() + 0.3, p.get_height() * 1.03));"
   ]
  },
  {
   "cell_type": "code",
   "execution_count": 12,
   "id": "22512f9b",
   "metadata": {
    "ExecuteTime": {
     "end_time": "2023-07-18T18:22:01.828320Z",
     "start_time": "2023-07-18T18:22:01.642426Z"
    }
   },
   "outputs": [
    {
     "data": {
      "image/png": "[encoded data removed]",
      "text/plain": [
       "<Figure size 1000x600 with 1 Axes>"
      ]
     },
     "metadata": {},
     "output_type": "display_data"
    }
   ],
   "source": [
    "sns.boxplot(x='test_result', y= \"age\", data=df);"
   ]
  },
  {
   "cell_type": "code",
   "execution_count": 13,
   "id": "b83c99ef",
   "metadata": {
    "ExecuteTime": {
     "end_time": "2023-07-18T18:24:35.262825Z",
     "start_time": "2023-07-18T18:24:35.249661Z"
    },
    "scrolled": true
   },
   "outputs": [
    {
     "name": "stdout",
     "output_type": "stream",
     "text": [
      "0.11.2\n"
     ]
    }
   ],
   "source": [
    "print(sns.__version__) \n",
    "# !pip install seaborn==0.11.2\n",
    "# import seaborn as sns"
   ]
  },
  {
   "cell_type": "code",
   "execution_count": 14,
   "id": "3c9bbaa7",
   "metadata": {
    "ExecuteTime": {
     "end_time": "2023-07-18T18:27:07.647837Z",
     "start_time": "2023-07-18T18:26:34.432097Z"
    }
   },
   "outputs": [
    {
     "name": "stdout",
     "output_type": "stream",
     "text": [
      "Collecting pandas==1.4.3\n",
      "  Downloading pandas-1.4.3-cp310-cp310-win_amd64.whl (10.5 MB)\n",
      "     ---------------------------------------- 10.5/10.5 MB 2.5 MB/s eta 0:00:00\n",
      "Requirement already satisfied: pytz>=2020.1 in c:\\users\\pir23oguz\\appdata\\local\\programs\\python\\python310\\lib\\site-packages (from pandas==1.4.3) (2023.3)\n",
      "Requirement already satisfied: python-dateutil>=2.8.1 in c:\\users\\pir23oguz\\appdata\\local\\programs\\python\\python310\\lib\\site-packages (from pandas==1.4.3) (2.8.2)\n",
      "Requirement already satisfied: numpy>=1.21.0 in c:\\users\\pir23oguz\\appdata\\local\\programs\\python\\python310\\lib\\site-packages (from pandas==1.4.3) (1.25.0)\n",
      "Requirement already satisfied: six>=1.5 in c:\\users\\pir23oguz\\appdata\\local\\programs\\python\\python310\\lib\\site-packages (from python-dateutil>=2.8.1->pandas==1.4.3) (1.16.0)\n",
      "Installing collected packages: pandas\n",
      "  Attempting uninstall: pandas\n",
      "    Found existing installation: pandas 2.0.3\n",
      "    Uninstalling pandas-2.0.3:\n",
      "      Successfully uninstalled pandas-2.0.3\n",
      "Successfully installed pandas-1.4.3\n"
     ]
    },
    {
     "name": "stderr",
     "output_type": "stream",
     "text": [
      "\n",
      "[notice] A new release of pip available: 22.2.2 -> 23.2\n",
      "[notice] To update, run: python.exe -m pip install --upgrade pip\n"
     ]
    }
   ],
   "source": [
    "!pip install pandas==1.4.3"
   ]
  },
  {
   "cell_type": "code",
   "execution_count": 15,
   "id": "5f057e0e",
   "metadata": {
    "ExecuteTime": {
     "end_time": "2023-07-18T18:27:27.057627Z",
     "start_time": "2023-07-18T18:27:07.666817Z"
    }
   },
   "outputs": [
    {
     "name": "stdout",
     "output_type": "stream",
     "text": [
      "Collecting numpy==1.23.1\n",
      "  Downloading numpy-1.23.1-cp310-cp310-win_amd64.whl (14.6 MB)\n",
      "     ---------------------------------------- 14.6/14.6 MB 3.2 MB/s eta 0:00:00\n",
      "Installing collected packages: numpy\n",
      "  Attempting uninstall: numpy\n",
      "    Found existing installation: numpy 1.25.0\n",
      "    Uninstalling numpy-1.25.0:\n",
      "      Successfully uninstalled numpy-1.25.0\n",
      "Successfully installed numpy-1.23.1\n"
     ]
    },
    {
     "name": "stderr",
     "output_type": "stream",
     "text": [
      "\n",
      "[notice] A new release of pip available: 22.2.2 -> 23.2\n",
      "[notice] To update, run: python.exe -m pip install --upgrade pip\n"
     ]
    }
   ],
   "source": [
    "!pip install numpy==1.23.1"
   ]
  },
  {
   "cell_type": "code",
   "execution_count": 16,
   "id": "b8bd5d17",
   "metadata": {
    "ExecuteTime": {
     "end_time": "2023-07-18T18:27:37.622889Z",
     "start_time": "2023-07-18T18:27:37.615893Z"
    }
   },
   "outputs": [
    {
     "name": "stdout",
     "output_type": "stream",
     "text": [
      "1.21.5\n"
     ]
    }
   ],
   "source": [
    "print(np.__version__)"
   ]
  },
  {
   "cell_type": "code",
   "execution_count": null,
   "id": "9c680046",
   "metadata": {},
   "outputs": [],
   "source": []
  },
  {
   "cell_type": "code",
   "execution_count": null,
   "id": "a5355018",
   "metadata": {},
   "outputs": [],
   "source": []
  },
  {
   "cell_type": "code",
   "execution_count": null,
   "id": "0669bff3",
   "metadata": {},
   "outputs": [],
   "source": []
  },
  {
   "cell_type": "code",
   "execution_count": null,
   "id": "31ae4b49",
   "metadata": {},
   "outputs": [],
   "source": []
  },
  {
   "cell_type": "code",
   "execution_count": null,
   "id": "f832bfa9",
   "metadata": {},
   "outputs": [],
   "source": []
  },
  {
   "cell_type": "code",
   "execution_count": null,
   "id": "1acab36b",
   "metadata": {},
   "outputs": [],
   "source": []
  }
 ],
 "metadata": {
  "kernelspec": {
   "display_name": "Python 3 (ipykernel)",
   "language": "python",
   "name": "python3"
  },
  "language_info": {
   "codemirror_mode": {
    "name": "ipython",
    "version": 3
   },
   "file_extension": ".py",
   "mimetype": "text/x-python",
   "name": "python",
   "nbconvert_exporter": "python",
   "pygments_lexer": "ipython3",
   "version": "3.9.13"
  },
  "toc": {
   "base_numbering": 1,
   "nav_menu": {},
   "number_sections": true,
   "sideBar": true,
   "skip_h1_title": false,
   "title_cell": "Table of Contents",
   "title_sidebar": "Contents",
   "toc_cell": false,
   "toc_position": {},
   "toc_section_display": true,
   "toc_window_display": false
  },
  "varInspector": {
   "cols": {
    "lenName": 16,
    "lenType": 16,
    "lenVar": 40
   },
   "kernels_config": {
    "python": {
     "delete_cmd_postfix": "",
     "delete_cmd_prefix": "del ",
     "library": "var_list.py",
     "varRefreshCmd": "print(var_dic_list())"
    },
    "r": {
     "delete_cmd_postfix": ") ",
     "delete_cmd_prefix": "rm(",
     "library": "var_list.r",
     "varRefreshCmd": "cat(var_dic_list()) "
    }
   },
   "types_to_exclude": [
    "module",
    "function",
    "builtin_function_or_method",
    "instance",
    "_Feature"
   ],
   "window_display": false
  }
 },
 "nbformat": 4,
 "nbformat_minor": 5
}
