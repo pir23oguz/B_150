{
 "cells": [
  {
   "cell_type": "code",
   "execution_count": null,
   "id": "fd7d16d1",
   "metadata": {},
   "outputs": [],
   "source": [
    "Statistics "
   ]
  },
  {
   "cell_type": "markdown",
   "id": "4b93d499",
   "metadata": {},
   "source": [
    "Değerli arkadaşlar merhaba,\n",
    "İlk kısmını dün paylaştığım İstatistik sınavlarının devamını da sizlerle paylaşıyoruz. Sizler için çok faydalı olacağı kanaatindeyiz.\n",
    "Bu vesileyle de hepinizin bayramını kutlar, hayırlara vesile olmasını dilerim.\n",
    "Görüşmek üzere..\n",
    "https://forms.gle/7pFZS476N6WZQnTo7\n",
    "https://forms.gle/HH2uuFMTFKegEYBo9"
   ]
  },
  {
   "cell_type": "code",
   "execution_count": null,
   "id": "ebbab3f8",
   "metadata": {},
   "outputs": [],
   "source": []
  },
  {
   "cell_type": "code",
   "execution_count": null,
   "id": "3de0b131",
   "metadata": {},
   "outputs": [],
   "source": []
  },
  {
   "cell_type": "code",
   "execution_count": null,
   "id": "61b6d9a7",
   "metadata": {},
   "outputs": [],
   "source": []
  },
  {
   "cell_type": "code",
   "execution_count": null,
   "id": "9d1de9df",
   "metadata": {},
   "outputs": [],
   "source": []
  },
  {
   "cell_type": "code",
   "execution_count": null,
   "id": "485654dc",
   "metadata": {},
   "outputs": [],
   "source": []
  }
 ],
 "metadata": {
  "kernelspec": {
   "display_name": "Python 3 (ipykernel)",
   "language": "python",
   "name": "python3"
  },
  "language_info": {
   "codemirror_mode": {
    "name": "ipython",
    "version": 3
   },
   "file_extension": ".py",
   "mimetype": "text/x-python",
   "name": "python",
   "nbconvert_exporter": "python",
   "pygments_lexer": "ipython3",
   "version": "3.10.8"
  },
  "toc": {
   "base_numbering": 1,
   "nav_menu": {},
   "number_sections": true,
   "sideBar": true,
   "skip_h1_title": false,
   "title_cell": "Table of Contents",
   "title_sidebar": "Contents",
   "toc_cell": false,
   "toc_position": {},
   "toc_section_display": true,
   "toc_window_display": false
  },
  "varInspector": {
   "cols": {
    "lenName": 16,
    "lenType": 16,
    "lenVar": 40
   },
   "kernels_config": {
    "python": {
     "delete_cmd_postfix": "",
     "delete_cmd_prefix": "del ",
     "library": "var_list.py",
     "varRefreshCmd": "print(var_dic_list())"
    },
    "r": {
     "delete_cmd_postfix": ") ",
     "delete_cmd_prefix": "rm(",
     "library": "var_list.r",
     "varRefreshCmd": "cat(var_dic_list()) "
    }
   },
   "types_to_exclude": [
    "module",
    "function",
    "builtin_function_or_method",
    "instance",
    "_Feature"
   ],
   "window_display": false
  }
 },
 "nbformat": 4,
 "nbformat_minor": 5
}
