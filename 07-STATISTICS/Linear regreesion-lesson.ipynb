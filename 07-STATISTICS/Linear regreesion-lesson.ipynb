{
 "cells": [
  {
   "cell_type": "markdown",
   "id": "8ac42396",
   "metadata": {},
   "source": [
    "# **Correlation & Covariance**"
   ]
  },
  {
   "cell_type": "code",
   "execution_count": 1,
   "id": "5bbd8865",
   "metadata": {
    "ExecuteTime": {
     "end_time": "2023-06-19T17:49:37.551978Z",
     "start_time": "2023-06-19T17:49:32.703775Z"
    }
   },
   "outputs": [
    {
     "name": "stderr",
     "output_type": "stream",
     "text": [
      "<frozen importlib._bootstrap>:228: RuntimeWarning: scipy._lib.messagestream.MessageStream size changed, may indicate binary incompatibility. Expected 56 from C header, got 64 from PyObject\n"
     ]
    }
   ],
   "source": [
    "import numpy as np\n",
    "import matplotlib.pyplot as plt\n",
    "import seaborn as sns\n",
    "from scipy import stats"
   ]
  },
  {
   "cell_type": "markdown",
   "id": "942ec8bc",
   "metadata": {},
   "source": [
    "# SciPy "
   ]
  },
  {
   "cell_type": "code",
   "execution_count": 2,
   "id": "f5cd0e60",
   "metadata": {
    "ExecuteTime": {
     "end_time": "2023-06-19T17:50:13.104982Z",
     "start_time": "2023-06-19T17:50:13.094412Z"
    }
   },
   "outputs": [],
   "source": [
    "Ekran_sure = [3,5,2,0.5,5,3,1,4,3,4]\n",
    "AGNO = [2.7,2.2,3.3,3.4,2,3,3.6,2.4,3.3,2.6]"
   ]
  },
  {
   "cell_type": "code",
   "execution_count": 3,
   "id": "1f1fb461",
   "metadata": {
    "ExecuteTime": {
     "end_time": "2023-06-19T17:54:18.953844Z",
     "start_time": "2023-06-19T17:54:18.924460Z"
    }
   },
   "outputs": [
    {
     "data": {
      "text/plain": [
       "PearsonRResult(statistic=-0.9237176155399289, pvalue=0.00013500660655591957)"
      ]
     },
     "execution_count": 3,
     "metadata": {},
     "output_type": "execute_result"
    }
   ],
   "source": [
    "#pearson r katsayısı hesabı... stats modulu ile\n",
    "\n",
    "stats.pearsonr(Ekran_sure, AGNO)"
   ]
  },
  {
   "cell_type": "code",
   "execution_count": 4,
   "id": "6d6c948b",
   "metadata": {
    "ExecuteTime": {
     "end_time": "2023-06-19T17:55:57.640210Z",
     "start_time": "2023-06-19T17:55:57.631561Z"
    }
   },
   "outputs": [
    {
     "data": {
      "text/plain": [
       "PearsonRResult(statistic=-0.9237176155399289, pvalue=0.00013500660655591957)"
      ]
     },
     "execution_count": 4,
     "metadata": {},
     "output_type": "execute_result"
    }
   ],
   "source": [
    "# x v ye nin yer degisimi\n",
    "\n",
    "stats.pearsonr(AGNO, Ekran_sure)"
   ]
  },
  {
   "cell_type": "code",
   "execution_count": 5,
   "id": "685deb4f",
   "metadata": {
    "ExecuteTime": {
     "end_time": "2023-06-19T17:57:30.294695Z",
     "start_time": "2023-06-19T17:57:30.188328Z"
    }
   },
   "outputs": [
    {
     "data": {
      "text/plain": [
       "SignificanceResult(statistic=-0.9598673337282836, pvalue=1.0811839955228442e-05)"
      ]
     },
     "execution_count": 5,
     "metadata": {},
     "output_type": "execute_result"
    }
   ],
   "source": [
    "# spearman corr katsayısı hesabı\n",
    "\n",
    "stats.spearmanr(Ekran_sure, AGNO)"
   ]
  },
  {
   "cell_type": "markdown",
   "id": "93b07076",
   "metadata": {
    "ExecuteTime": {
     "end_time": "2023-06-19T17:59:03.219831Z",
     "start_time": "2023-06-19T17:59:03.201993Z"
    }
   },
   "source": [
    "# Numpy"
   ]
  },
  {
   "cell_type": "code",
   "execution_count": 7,
   "id": "060052e2",
   "metadata": {
    "ExecuteTime": {
     "end_time": "2023-06-19T18:00:01.491586Z",
     "start_time": "2023-06-19T18:00:01.474042Z"
    }
   },
   "outputs": [
    {
     "data": {
      "text/plain": [
       "array([[ 0.30277778, -0.78055556],\n",
       "       [-0.78055556,  2.35833333]])"
      ]
     },
     "execution_count": 7,
     "metadata": {},
     "output_type": "execute_result"
    }
   ],
   "source": [
    "#covariance hesabı\n",
    "\n",
    "\n",
    "np.cov(AGNO, Ekran_sure)"
   ]
  },
  {
   "cell_type": "code",
   "execution_count": 8,
   "id": "f4b140d5",
   "metadata": {
    "ExecuteTime": {
     "end_time": "2023-06-19T18:02:05.489645Z",
     "start_time": "2023-06-19T18:02:05.470775Z"
    }
   },
   "outputs": [
    {
     "data": {
      "text/plain": [
       "array([[ 1.        , -0.92371762],\n",
       "       [-0.92371762,  1.        ]])"
      ]
     },
     "execution_count": 8,
     "metadata": {},
     "output_type": "execute_result"
    }
   ],
   "source": [
    "#correltion  ...  kosegen degerleri r degeridir\n",
    "\n",
    "np.corrcoef(AGNO, Ekran_sure)"
   ]
  },
  {
   "cell_type": "markdown",
   "id": "ceb2e3f4",
   "metadata": {
    "ExecuteTime": {
     "end_time": "2023-06-19T18:03:09.353680Z",
     "start_time": "2023-06-19T18:03:09.336640Z"
    }
   },
   "source": [
    "# Linear Regression ##"
   ]
  },
  {
   "cell_type": "code",
   "execution_count": 10,
   "id": "b5492d43",
   "metadata": {
    "ExecuteTime": {
     "end_time": "2023-06-19T18:05:28.734947Z",
     "start_time": "2023-06-19T18:05:28.711885Z"
    }
   },
   "outputs": [
    {
     "data": {
      "text/plain": [
       "LinregressResult(slope=-0.330977620730271, intercept=3.859481743227327, rvalue=-0.923717615539929, pvalue=0.00013500660655591895, stderr=0.048528537277862514, intercept_stderr=0.16403076320924556)"
      ]
     },
     "execution_count": 10,
     "metadata": {},
     "output_type": "execute_result"
    }
   ],
   "source": [
    "# \n",
    "\n",
    "stats.linregress(Ekran_sure, AGNO)"
   ]
  },
  {
   "cell_type": "code",
   "execution_count": 11,
   "id": "b9a9f933",
   "metadata": {
    "ExecuteTime": {
     "end_time": "2023-06-19T18:07:07.934901Z",
     "start_time": "2023-06-19T18:07:07.923294Z"
    }
   },
   "outputs": [],
   "source": [
    "# yukardaki degerleri alşttaki variable lalara atayalım\n",
    "\n",
    "slope, intercept, r_value, p_value, std_err = stats.linregress(Ekran_sure, AGNO)"
   ]
  },
  {
   "cell_type": "code",
   "execution_count": 12,
   "id": "a3c06380",
   "metadata": {
    "ExecuteTime": {
     "end_time": "2023-06-19T18:07:17.807159Z",
     "start_time": "2023-06-19T18:07:17.789303Z"
    }
   },
   "outputs": [
    {
     "data": {
      "text/plain": [
       "-0.330977620730271"
      ]
     },
     "execution_count": 12,
     "metadata": {},
     "output_type": "execute_result"
    }
   ],
   "source": [
    "slope"
   ]
  },
  {
   "cell_type": "code",
   "execution_count": 14,
   "id": "8aba13ce",
   "metadata": {
    "ExecuteTime": {
     "end_time": "2023-06-19T18:07:27.306840Z",
     "start_time": "2023-06-19T18:07:27.297583Z"
    }
   },
   "outputs": [
    {
     "data": {
      "text/plain": [
       "3.859481743227327"
      ]
     },
     "execution_count": 14,
     "metadata": {},
     "output_type": "execute_result"
    }
   ],
   "source": [
    "intercept"
   ]
  },
  {
   "cell_type": "code",
   "execution_count": 16,
   "id": "b910eb7d",
   "metadata": {
    "ExecuteTime": {
     "end_time": "2023-06-19T18:08:19.231625Z",
     "start_time": "2023-06-19T18:08:19.226983Z"
    }
   },
   "outputs": [
    {
     "data": {
      "text/plain": [
       "-0.923717615539929"
      ]
     },
     "execution_count": 16,
     "metadata": {},
     "output_type": "execute_result"
    }
   ],
   "source": [
    "r_value"
   ]
  },
  {
   "cell_type": "code",
   "execution_count": 15,
   "id": "88e1b72b",
   "metadata": {
    "ExecuteTime": {
     "end_time": "2023-06-19T18:08:05.584465Z",
     "start_time": "2023-06-19T18:08:05.578648Z"
    }
   },
   "outputs": [
    {
     "data": {
      "text/plain": [
       "0.8532542332587721"
      ]
     },
     "execution_count": 15,
     "metadata": {},
     "output_type": "execute_result"
    }
   ],
   "source": [
    "# R2 hesabı\n",
    "\n",
    "R_squared = r_value**2\n",
    "R_squared"
   ]
  },
  {
   "cell_type": "code",
   "execution_count": 17,
   "id": "3c2aee35",
   "metadata": {
    "ExecuteTime": {
     "end_time": "2023-06-19T18:10:23.972805Z",
     "start_time": "2023-06-19T18:10:23.965063Z"
    }
   },
   "outputs": [
    {
     "data": {
      "text/plain": [
       "[3, 5, 2, 0.5, 5, 3, 1, 4, 3, 4]"
      ]
     },
     "execution_count": 17,
     "metadata": {},
     "output_type": "execute_result"
    }
   ],
   "source": [
    "Ekran_sure"
   ]
  },
  {
   "cell_type": "code",
   "execution_count": 18,
   "id": "1d135649",
   "metadata": {
    "ExecuteTime": {
     "end_time": "2023-06-19T18:10:31.977235Z",
     "start_time": "2023-06-19T18:10:31.972211Z"
    }
   },
   "outputs": [
    {
     "data": {
      "text/plain": [
       "[2.7, 2.2, 3.3, 3.4, 2, 3, 3.6, 2.4, 3.3, 2.6]"
      ]
     },
     "execution_count": 18,
     "metadata": {},
     "output_type": "execute_result"
    }
   ],
   "source": [
    "AGNO"
   ]
  },
  {
   "cell_type": "code",
   "execution_count": 19,
   "id": "83ea91bd",
   "metadata": {
    "ExecuteTime": {
     "end_time": "2023-06-19T18:14:11.257255Z",
     "start_time": "2023-06-19T18:14:11.251518Z"
    }
   },
   "outputs": [],
   "source": [
    "#prediction yapalım\n",
    "\n",
    "x_p = np.array([0,1,2,3,4,5])\n",
    "y_p = intercept + slope * x_p"
   ]
  },
  {
   "cell_type": "code",
   "execution_count": 20,
   "id": "db446606",
   "metadata": {
    "ExecuteTime": {
     "end_time": "2023-06-19T18:14:20.815623Z",
     "start_time": "2023-06-19T18:14:20.808204Z"
    }
   },
   "outputs": [
    {
     "data": {
      "text/plain": [
       "array([0, 1, 2, 3, 4, 5])"
      ]
     },
     "execution_count": 20,
     "metadata": {},
     "output_type": "execute_result"
    }
   ],
   "source": [
    "x_p"
   ]
  },
  {
   "cell_type": "code",
   "execution_count": 21,
   "id": "d2b871a6",
   "metadata": {
    "ExecuteTime": {
     "end_time": "2023-06-19T18:14:28.794170Z",
     "start_time": "2023-06-19T18:14:28.785098Z"
    }
   },
   "outputs": [
    {
     "data": {
      "text/plain": [
       "array([3.85948174, 3.52850412, 3.1975265 , 2.86654888, 2.53557126,\n",
       "       2.20459364])"
      ]
     },
     "execution_count": 21,
     "metadata": {},
     "output_type": "execute_result"
    }
   ],
   "source": [
    "y_p"
   ]
  },
  {
   "cell_type": "code",
   "execution_count": 22,
   "id": "918e7720",
   "metadata": {
    "ExecuteTime": {
     "end_time": "2023-06-19T18:16:12.154623Z",
     "start_time": "2023-06-19T18:16:12.147634Z"
    }
   },
   "outputs": [],
   "source": [
    "# linspace ile deger uretelim..0-5 arasında.. \n",
    "\n",
    "x_new = np.linspace(0,5,100)          \n",
    "y_new = intercept + slope * x_new"
   ]
  },
  {
   "cell_type": "code",
   "execution_count": 23,
   "id": "07d319a4",
   "metadata": {
    "ExecuteTime": {
     "end_time": "2023-06-19T18:17:27.618539Z",
     "start_time": "2023-06-19T18:17:27.307645Z"
    }
   },
   "outputs": [
    {
     "data": {
      "image/png": "[encoded data removed]",
      "text/plain": [
       "<Figure size 800x600 with 1 Axes>"
      ]
     },
     "metadata": {},
     "output_type": "display_data"
    }
   ],
   "source": [
    "\n",
    "plt.figure(figsize=(8,6))   \n",
    "ax = plt.axes()     #\n",
    "ax.scatter(Ekran_sure, AGNO)\n",
    "ax.plot(x_new, y_new)\n",
    "ax.set_xlabel(\"Ekran Sure\")\n",
    "ax.set_ylabel(\"AGNO\")\n",
    "ax.axis(\"tight\")\n",
    "plt.show()\n",
    "\n"
   ]
  },
  {
   "cell_type": "code",
   "execution_count": null,
   "id": "3bce6458",
   "metadata": {},
   "outputs": [],
   "source": []
  },
  {
   "cell_type": "code",
   "execution_count": null,
   "id": "28960379",
   "metadata": {},
   "outputs": [],
   "source": []
  },
  {
   "cell_type": "code",
   "execution_count": null,
   "id": "564f24b0",
   "metadata": {},
   "outputs": [],
   "source": []
  }
 ],
 "metadata": {
  "hide_input": false,
  "kernelspec": {
   "display_name": "Python 3 (ipykernel)",
   "language": "python",
   "name": "python3"
  },
  "language_info": {
   "codemirror_mode": {
    "name": "ipython",
    "version": 3
   },
   "file_extension": ".py",
   "mimetype": "text/x-python",
   "name": "python",
   "nbconvert_exporter": "python",
   "pygments_lexer": "ipython3",
   "version": "3.9.13"
  },
  "nbTranslate": {
   "displayLangs": [
    "*"
   ],
   "hotkey": "alt-t",
   "langInMainMenu": true,
   "sourceLang": "en",
   "targetLang": "fr",
   "useGoogleTranslate": true
  },
  "toc": {
   "base_numbering": 1,
   "nav_menu": {},
   "number_sections": true,
   "sideBar": true,
   "skip_h1_title": false,
   "title_cell": "Table of Contents",
   "title_sidebar": "Contents",
   "toc_cell": false,
   "toc_position": {},
   "toc_section_display": true,
   "toc_window_display": false
  },
  "varInspector": {
   "cols": {
    "lenName": 16,
    "lenType": 16,
    "lenVar": 40
   },
   "kernels_config": {
    "python": {
     "delete_cmd_postfix": "",
     "delete_cmd_prefix": "del ",
     "library": "var_list.py",
     "varRefreshCmd": "print(var_dic_list())"
    },
    "r": {
     "delete_cmd_postfix": ") ",
     "delete_cmd_prefix": "rm(",
     "library": "var_list.r",
     "varRefreshCmd": "cat(var_dic_list()) "
    }
   },
   "types_to_exclude": [
    "module",
    "function",
    "builtin_function_or_method",
    "instance",
    "_Feature"
   ],
   "window_display": false
  }
 },
 "nbformat": 4,
 "nbformat_minor": 5
}
