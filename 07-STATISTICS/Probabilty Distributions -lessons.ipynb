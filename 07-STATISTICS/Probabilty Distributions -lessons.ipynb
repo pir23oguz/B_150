{
 "cells": [
  {
   "cell_type": "markdown",
   "id": "9d8113ca",
   "metadata": {},
   "source": [
    "# Probability Distributions"
   ]
  },
  {
   "cell_type": "markdown",
   "id": "eefb0d7f",
   "metadata": {},
   "source": [
    "# Discrete Distributions"
   ]
  },
  {
   "cell_type": "markdown",
   "id": "b575ee0e",
   "metadata": {},
   "source": [
    "## Binomial Distribution"
   ]
  },
  {
   "cell_type": "code",
   "execution_count": 1,
   "id": "cd18c750",
   "metadata": {
    "ExecuteTime": {
     "end_time": "2023-06-22T18:04:30.652457Z",
     "start_time": "2023-06-22T18:04:27.755914Z"
    }
   },
   "outputs": [
    {
     "name": "stderr",
     "output_type": "stream",
     "text": [
      "<frozen importlib._bootstrap>:228: RuntimeWarning: scipy._lib.messagestream.MessageStream size changed, may indicate binary incompatibility. Expected 56 from C header, got 64 from PyObject\n"
     ]
    }
   ],
   "source": [
    "import numpy as np\n",
    "from scipy import stats\n",
    "import matplotlib.pyplot as plt\n"
   ]
  },
  {
   "cell_type": "code",
   "execution_count": 2,
   "id": "e3b666db",
   "metadata": {
    "ExecuteTime": {
     "end_time": "2023-06-22T18:09:04.640069Z",
     "start_time": "2023-06-22T18:09:04.628819Z"
    }
   },
   "outputs": [],
   "source": [
    "#binom parametreleri\n",
    "# n: trial number    , p :probability of success (ornek: basketbol oyuncusunun serbest atışlardaki başarı yüzdesi)\n",
    "n = 4\n",
    "p = 0.4"
   ]
  },
  {
   "cell_type": "code",
   "execution_count": 3,
   "id": "831b4c21",
   "metadata": {
    "ExecuteTime": {
     "end_time": "2023-06-22T18:09:36.023298Z",
     "start_time": "2023-06-22T18:09:36.007905Z"
    }
   },
   "outputs": [
    {
     "data": {
      "text/plain": [
       "<scipy.stats._distn_infrastructure.rv_discrete_frozen at 0x220f1607f10>"
      ]
     },
     "execution_count": 3,
     "metadata": {},
     "output_type": "execute_result"
    }
   ],
   "source": [
    "#binom parametrelerini girelim\n",
    "stats.binom(n,p)"
   ]
  },
  {
   "cell_type": "code",
   "execution_count": 4,
   "id": "b2f25202",
   "metadata": {
    "ExecuteTime": {
     "end_time": "2023-06-22T18:10:57.156319Z",
     "start_time": "2023-06-22T18:10:57.137212Z"
    }
   },
   "outputs": [],
   "source": [
    "#binom parametreleini variable a atayalım\n",
    "binomDist = stats.binom(n,p)"
   ]
  },
  {
   "cell_type": "code",
   "execution_count": 5,
   "id": "87d2fc68",
   "metadata": {
    "ExecuteTime": {
     "end_time": "2023-06-22T18:11:37.792230Z",
     "start_time": "2023-06-22T18:11:37.781981Z"
    }
   },
   "outputs": [
    {
     "data": {
      "text/plain": [
       "(4, 0.4)"
      ]
     },
     "execution_count": 5,
     "metadata": {},
     "output_type": "execute_result"
    }
   ],
   "source": [
    "#arguman kontrolü\n",
    "binomDist.args"
   ]
  },
  {
   "cell_type": "code",
   "execution_count": 9,
   "id": "d7eafe88",
   "metadata": {
    "ExecuteTime": {
     "end_time": "2023-06-22T18:14:48.559133Z",
     "start_time": "2023-06-22T18:14:48.542055Z"
    }
   },
   "outputs": [
    {
     "data": {
      "text/plain": [
       "0.1296"
      ]
     },
     "execution_count": 9,
     "metadata": {},
     "output_type": "execute_result"
    }
   ],
   "source": [
    "# x= 0 olasılıgı   pmf \n",
    "binomDist.pmf(0)"
   ]
  },
  {
   "cell_type": "code",
   "execution_count": 10,
   "id": "a9cf2930",
   "metadata": {
    "ExecuteTime": {
     "end_time": "2023-06-22T18:15:12.882044Z",
     "start_time": "2023-06-22T18:15:12.860299Z"
    }
   },
   "outputs": [
    {
     "name": "stdout",
     "output_type": "stream",
     "text": [
      "0\t0.1296\n",
      "1\t0.3456\n",
      "2\t0.3456\n",
      "3\t0.15360000000000001\n",
      "4\t0.025600000000000005\n"
     ]
    }
   ],
   "source": [
    "#tum ihtimaller hesabı için for dongusu\n",
    "\n",
    "dist = []\n",
    "\n",
    "for i in range(n+1):\n",
    "    dist.append(binomDist.pmf(i))\n",
    "    print(str(i) + \"\\t\" + str(binomDist.pmf(i)))"
   ]
  },
  {
   "cell_type": "code",
   "execution_count": 12,
   "id": "bca06666",
   "metadata": {
    "ExecuteTime": {
     "end_time": "2023-06-22T18:17:04.539436Z",
     "start_time": "2023-06-22T18:17:04.227315Z"
    }
   },
   "outputs": [
    {
     "data": {
      "image/png": "[encoded data removed]",
      "text/plain": [
       "<Figure size 640x480 with 1 Axes>"
      ]
     },
     "metadata": {},
     "output_type": "display_data"
    }
   ],
   "source": [
    "#yukardaki degerleri plot layalım\n",
    "\n",
    "plt.bar(list(range(n+1)), dist)\n",
    "plt.show;"
   ]
  },
  {
   "cell_type": "code",
   "execution_count": 13,
   "id": "1aac7a52",
   "metadata": {
    "ExecuteTime": {
     "end_time": "2023-06-22T18:19:58.415833Z",
     "start_time": "2023-06-22T18:19:58.409876Z"
    }
   },
   "outputs": [],
   "source": [
    "\n",
    "mean, var = binomDist.stats()"
   ]
  },
  {
   "cell_type": "code",
   "execution_count": 14,
   "id": "0d252791",
   "metadata": {
    "ExecuteTime": {
     "end_time": "2023-06-22T18:20:11.823294Z",
     "start_time": "2023-06-22T18:20:11.812248Z"
    }
   },
   "outputs": [
    {
     "data": {
      "text/plain": [
       "2.0"
      ]
     },
     "execution_count": 14,
     "metadata": {},
     "output_type": "execute_result"
    }
   ],
   "source": [
    "binomDist.median()"
   ]
  },
  {
   "cell_type": "code",
   "execution_count": 15,
   "id": "736b6e99",
   "metadata": {
    "ExecuteTime": {
     "end_time": "2023-06-22T18:20:49.211737Z",
     "start_time": "2023-06-22T18:20:49.201758Z"
    }
   },
   "outputs": [
    {
     "name": "stdout",
     "output_type": "stream",
     "text": [
      "mean = 1.6\n",
      "variance = 0.96\n",
      "median = 2.0\n",
      "standard deviation = 0.9797958971132712\n"
     ]
    }
   ],
   "source": [
    "#tum degerleri yazdıralım\n",
    "\n",
    "\n",
    "print(\"mean = \" + str(mean))\n",
    "print(\"variance = \" + str(var))\n",
    "print(\"median = \" + str(binomDist.median()))\n",
    "print(\"standard deviation = \" + str(binomDist.std()))\n"
   ]
  },
  {
   "cell_type": "code",
   "execution_count": 16,
   "id": "e259fed2",
   "metadata": {
    "ExecuteTime": {
     "end_time": "2023-06-22T18:22:48.445274Z",
     "start_time": "2023-06-22T18:22:48.439215Z"
    }
   },
   "outputs": [
    {
     "data": {
      "text/plain": [
       "0.47520000000000007"
      ]
     },
     "execution_count": 16,
     "metadata": {},
     "output_type": "execute_result"
    }
   ],
   "source": [
    "# P(x <= 1)   olasılıgının hesabı..  \n",
    "# cdf  şeklinde hesaplanaiblir..cunku P(x <= 1) = [P(x=0)+P(x=1)]\n",
    "binomDist.cdf(1)"
   ]
  },
  {
   "cell_type": "code",
   "execution_count": 17,
   "id": "75b429be",
   "metadata": {
    "ExecuteTime": {
     "end_time": "2023-06-22T18:23:25.017690Z",
     "start_time": "2023-06-22T18:23:25.011484Z"
    }
   },
   "outputs": [
    {
     "data": {
      "text/plain": [
       "0.4752"
      ]
     },
     "execution_count": 17,
     "metadata": {},
     "output_type": "execute_result"
    }
   ],
   "source": [
    "#saglaması\n",
    "dist[0]+dist[1]"
   ]
  },
  {
   "cell_type": "code",
   "execution_count": 18,
   "id": "10f095e6",
   "metadata": {
    "ExecuteTime": {
     "end_time": "2023-06-22T18:24:22.571231Z",
     "start_time": "2023-06-22T18:24:22.554141Z"
    }
   },
   "outputs": [
    {
     "data": {
      "text/plain": [
       "0.4752"
      ]
     },
     "execution_count": 18,
     "metadata": {},
     "output_type": "execute_result"
    }
   ],
   "source": [
    "# ikinci bir saglama\n",
    "binomDist.pmf(0)+binomDist.pmf(1)"
   ]
  },
  {
   "cell_type": "code",
   "execution_count": 19,
   "id": "f23f7eb2",
   "metadata": {
    "ExecuteTime": {
     "end_time": "2023-06-22T18:25:38.329503Z",
     "start_time": "2023-06-22T18:25:38.307025Z"
    }
   },
   "outputs": [
    {
     "data": {
      "text/plain": [
       "array([0, 3, 0, 3, 0, 1, 3, 1, 1, 1, 3, 1, 2, 2, 1, 1, 0, 2, 3, 1, 0, 1,\n",
       "       3, 2, 0, 2, 1, 0, 4, 1, 2, 2, 0, 1, 3, 1, 3, 2, 1, 2, 3, 2, 0, 4,\n",
       "       0, 0, 2, 0, 1, 1, 2, 1, 1, 0, 3, 1, 1, 0, 2, 2, 2, 1, 1, 4, 2, 3,\n",
       "       2, 2, 3, 1, 3, 2, 2, 0, 2, 1, 1, 2, 1, 3, 2, 0, 0, 3, 2, 2, 1, 1,\n",
       "       1, 2, 0, 0, 1, 2, 3, 2, 1, 2, 2, 2], dtype=int64)"
      ]
     },
     "execution_count": 19,
     "metadata": {},
     "output_type": "execute_result"
    }
   ],
   "source": [
    "#yukardaki binom dagılım parametrelerine gore;\n",
    "#random sayılar uretsin\n",
    "\n",
    "list1 = binomDist.rvs(100)\n",
    "list1"
   ]
  },
  {
   "cell_type": "markdown",
   "id": "195db322",
   "metadata": {},
   "source": [
    "Ornek"
   ]
  },
  {
   "cell_type": "markdown",
   "id": "e8d19bba",
   "metadata": {},
   "source": [
    "Bir operatör firmasının telefon görüşmelerinde  önceki zaman diliminde telefon görüşmelesi girişimlerinin başarı olasılığı 0,8 idi.. 10 denemede 7 kez başarılı olmanın olasılığını hesaplayınız.. (Her deneme birbirinden bağımsız, bir başarı olasılığı var, bize bir başarı olasılığı soruyor) "
   ]
  },
  {
   "cell_type": "code",
   "execution_count": 20,
   "id": "ce2107a0",
   "metadata": {
    "ExecuteTime": {
     "end_time": "2023-06-22T18:28:16.364079Z",
     "start_time": "2023-06-22T18:28:16.356764Z"
    }
   },
   "outputs": [],
   "source": [
    "#soruya uygun binom parametreleri\n",
    "\n",
    "n = 10\n",
    "p = 0.8\n",
    "x = 7 # success"
   ]
  },
  {
   "cell_type": "code",
   "execution_count": 21,
   "id": "2121eec9",
   "metadata": {
    "ExecuteTime": {
     "end_time": "2023-06-22T18:29:03.212036Z",
     "start_time": "2023-06-22T18:29:03.198014Z"
    }
   },
   "outputs": [],
   "source": [
    "telephone = stats.binom(n,p)"
   ]
  },
  {
   "cell_type": "code",
   "execution_count": 22,
   "id": "2965688b",
   "metadata": {
    "ExecuteTime": {
     "end_time": "2023-06-22T18:29:38.367669Z",
     "start_time": "2023-06-22T18:29:38.351110Z"
    }
   },
   "outputs": [
    {
     "data": {
      "text/plain": [
       "0.20132659199999978"
      ]
     },
     "execution_count": 22,
     "metadata": {},
     "output_type": "execute_result"
    }
   ],
   "source": [
    "# x=7\n",
    "telephone.pmf(7)"
   ]
  },
  {
   "cell_type": "code",
   "execution_count": 23,
   "id": "ecd579ee",
   "metadata": {
    "ExecuteTime": {
     "end_time": "2023-06-22T18:29:58.114256Z",
     "start_time": "2023-06-22T18:29:58.101729Z"
    }
   },
   "outputs": [
    {
     "data": {
      "text/plain": [
       "0.32220047359999987"
      ]
     },
     "execution_count": 23,
     "metadata": {},
     "output_type": "execute_result"
    }
   ],
   "source": [
    "# x<7 olsaydı\n",
    "telephone.cdf(6)"
   ]
  },
  {
   "cell_type": "markdown",
   "id": "31ab83cd",
   "metadata": {},
   "source": [
    "# Continuous Distributions"
   ]
  },
  {
   "cell_type": "markdown",
   "id": "8f71bec0",
   "metadata": {},
   "source": [
    "## Uniform Distribution"
   ]
  },
  {
   "cell_type": "code",
   "execution_count": 24,
   "id": "5e1b3c37",
   "metadata": {
    "ExecuteTime": {
     "end_time": "2023-06-22T18:45:52.544561Z",
     "start_time": "2023-06-22T18:45:52.538895Z"
    }
   },
   "outputs": [],
   "source": [
    "#uniform dagılımda 2 parametre var, a ve b\n",
    "\n",
    "(a, b) = (0, 30)"
   ]
  },
  {
   "cell_type": "code",
   "execution_count": 25,
   "id": "1f2b38c9",
   "metadata": {
    "ExecuteTime": {
     "end_time": "2023-06-22T18:46:29.194089Z",
     "start_time": "2023-06-22T18:46:29.174082Z"
    }
   },
   "outputs": [],
   "source": [
    "\n",
    "unifDist = stats.uniform(a, b)"
   ]
  },
  {
   "cell_type": "code",
   "execution_count": 26,
   "id": "eebcc831",
   "metadata": {
    "ExecuteTime": {
     "end_time": "2023-06-22T18:46:41.789344Z",
     "start_time": "2023-06-22T18:46:41.776762Z"
    }
   },
   "outputs": [
    {
     "data": {
      "text/plain": [
       "(0, 30)"
      ]
     },
     "execution_count": 26,
     "metadata": {},
     "output_type": "execute_result"
    }
   ],
   "source": [
    "#arguman kontrolü\n",
    "unifDist.args"
   ]
  },
  {
   "cell_type": "code",
   "execution_count": 27,
   "id": "1eaf65bf",
   "metadata": {
    "ExecuteTime": {
     "end_time": "2023-06-22T18:48:57.764100Z",
     "start_time": "2023-06-22T18:48:57.732229Z"
    }
   },
   "outputs": [
    {
     "data": {
      "text/plain": [
       "True"
      ]
     },
     "execution_count": 27,
     "metadata": {},
     "output_type": "execute_result"
    }
   ],
   "source": [
    "#discrete'lerde pmf kullanılırken continuous'larda pdf kullanılır\n",
    "# uniform dagılımda ihtimaller eşit olduğgunu kanıtlayalım\n",
    "unifDist.pdf(15) == unifDist.pdf(27)"
   ]
  },
  {
   "cell_type": "code",
   "execution_count": 28,
   "id": "6862743b",
   "metadata": {
    "ExecuteTime": {
     "end_time": "2023-06-22T18:49:13.673000Z",
     "start_time": "2023-06-22T18:49:13.655838Z"
    }
   },
   "outputs": [
    {
     "data": {
      "text/plain": [
       "0.03333333333333333"
      ]
     },
     "execution_count": 28,
     "metadata": {},
     "output_type": "execute_result"
    }
   ],
   "source": [
    "# olasılık = 1/(b-a) \n",
    "unifDist.pdf(15) "
   ]
  },
  {
   "cell_type": "code",
   "execution_count": 29,
   "id": "0bb88e76",
   "metadata": {
    "ExecuteTime": {
     "end_time": "2023-06-22T18:50:56.717776Z",
     "start_time": "2023-06-22T18:50:56.703095Z"
    }
   },
   "outputs": [
    {
     "data": {
      "text/plain": [
       "0.16666666666666669"
      ]
     },
     "execution_count": 29,
     "metadata": {},
     "output_type": "execute_result"
    }
   ],
   "source": [
    "#10 ile 15 arası olasılık nedir\n",
    "unifDist.cdf(15)-unifDist.cdf(10)"
   ]
  },
  {
   "cell_type": "code",
   "execution_count": 30,
   "id": "8965031c",
   "metadata": {
    "ExecuteTime": {
     "end_time": "2023-06-22T18:51:29.989466Z",
     "start_time": "2023-06-22T18:51:29.962287Z"
    }
   },
   "outputs": [],
   "source": [
    "#random sayı uretimi\n",
    "a = unifDist.rvs(1000)"
   ]
  },
  {
   "cell_type": "code",
   "execution_count": 31,
   "id": "29c4ca61",
   "metadata": {
    "ExecuteTime": {
     "end_time": "2023-06-22T18:52:05.806389Z",
     "start_time": "2023-06-22T18:52:05.797239Z"
    }
   },
   "outputs": [
    {
     "data": {
      "text/plain": [
       "(15.0, 75.0)"
      ]
     },
     "execution_count": 31,
     "metadata": {},
     "output_type": "execute_result"
    }
   ],
   "source": [
    "#mean ve std. dev\n",
    "unifDist.stats()"
   ]
  },
  {
   "cell_type": "markdown",
   "id": "fa521976",
   "metadata": {},
   "source": [
    "## Normal Distribution"
   ]
  },
  {
   "cell_type": "code",
   "execution_count": 32,
   "id": "362c2e0a",
   "metadata": {
    "ExecuteTime": {
     "end_time": "2023-06-22T18:54:03.162395Z",
     "start_time": "2023-06-22T18:54:03.156024Z"
    }
   },
   "outputs": [],
   "source": [
    "#normal dagılımda 2 paramtre var\n",
    "#ortalama ve stand. sapma..   \n",
    "# mu ve sigma   diye tanımlayalım\n",
    "\n",
    "(mu, sigma) = (0, 1)"
   ]
  },
  {
   "cell_type": "code",
   "execution_count": 33,
   "id": "a81a1b31",
   "metadata": {
    "ExecuteTime": {
     "end_time": "2023-06-22T18:54:56.013496Z",
     "start_time": "2023-06-22T18:54:56.004036Z"
    }
   },
   "outputs": [],
   "source": [
    "#bu degerleri fonksiyona atayalım\n",
    "\n",
    "normDist = stats.norm(mu, sigma)"
   ]
  },
  {
   "cell_type": "code",
   "execution_count": 34,
   "id": "bda3fa1e",
   "metadata": {
    "ExecuteTime": {
     "end_time": "2023-06-22T18:55:34.841998Z",
     "start_time": "2023-06-22T18:55:34.833551Z"
    }
   },
   "outputs": [
    {
     "data": {
      "text/plain": [
       "(0, 1)"
      ]
     },
     "execution_count": 34,
     "metadata": {},
     "output_type": "execute_result"
    }
   ],
   "source": [
    "# arguman komntrolu\n",
    "normDist.args"
   ]
  },
  {
   "cell_type": "code",
   "execution_count": 35,
   "id": "8580ce9d",
   "metadata": {
    "ExecuteTime": {
     "end_time": "2023-06-22T18:56:21.340152Z",
     "start_time": "2023-06-22T18:56:21.333124Z"
    }
   },
   "outputs": [
    {
     "data": {
      "text/plain": [
       "0.3989422804014327"
      ]
     },
     "execution_count": 35,
     "metadata": {},
     "output_type": "execute_result"
    }
   ],
   "source": [
    "# 0 olasılıgını hesaplayalım..  x= 0 olasılıgı\n",
    "normDist.pdf(0)"
   ]
  },
  {
   "cell_type": "code",
   "execution_count": 36,
   "id": "ded8e6bd",
   "metadata": {
    "ExecuteTime": {
     "end_time": "2023-06-22T18:59:12.588002Z",
     "start_time": "2023-06-22T18:59:12.565744Z"
    }
   },
   "outputs": [
    {
     "data": {
      "text/plain": [
       "0.9544997361036416"
      ]
     },
     "execution_count": 36,
     "metadata": {},
     "output_type": "execute_result"
    }
   ],
   "source": [
    "# empirical rule saglaması yapalım..  2 sigma degerini heasplayalım\n",
    "# 2 sigma saga , 2 sigma sola gidince verinin %95 i elde edilir \n",
    "normDist.cdf(2) - normDist.cdf(-2)"
   ]
  },
  {
   "cell_type": "code",
   "execution_count": 37,
   "id": "7127c42b",
   "metadata": {
    "ExecuteTime": {
     "end_time": "2023-06-22T18:59:51.289514Z",
     "start_time": "2023-06-22T18:59:51.268450Z"
    }
   },
   "outputs": [
    {
     "data": {
      "text/plain": [
       "0.6826894921370859"
      ]
     },
     "execution_count": 37,
     "metadata": {},
     "output_type": "execute_result"
    }
   ],
   "source": [
    "# 1 sigma saga ve sola gidilirse \n",
    "normDist.cdf(1) - normDist.cdf(-1)"
   ]
  },
  {
   "cell_type": "code",
   "execution_count": 38,
   "id": "6bea9ac5",
   "metadata": {
    "ExecuteTime": {
     "end_time": "2023-06-22T19:01:40.573678Z",
     "start_time": "2023-06-22T19:01:40.559486Z"
    }
   },
   "outputs": [
    {
     "data": {
      "text/plain": [
       "0.8413447460685429"
      ]
     },
     "execution_count": 38,
     "metadata": {},
     "output_type": "execute_result"
    }
   ],
   "source": [
    "# ortalaması 100 ve std. sapmöası 10 olan normal dagılım\n",
    "# P (x <= 110) olasılığı ?\n",
    "stats.norm(100, 10).cdf(110)"
   ]
  },
  {
   "cell_type": "code",
   "execution_count": 39,
   "id": "bd5779f1",
   "metadata": {
    "ExecuteTime": {
     "end_time": "2023-06-22T19:02:21.857088Z",
     "start_time": "2023-06-22T19:02:21.837007Z"
    }
   },
   "outputs": [
    {
     "data": {
      "text/plain": [
       "(0, 1)"
      ]
     },
     "execution_count": 39,
     "metadata": {},
     "output_type": "execute_result"
    }
   ],
   "source": [
    "normDist.args"
   ]
  },
  {
   "cell_type": "code",
   "execution_count": 40,
   "id": "b8e73279",
   "metadata": {
    "ExecuteTime": {
     "end_time": "2023-06-22T19:03:44.072302Z",
     "start_time": "2023-06-22T19:03:44.061688Z"
    }
   },
   "outputs": [
    {
     "data": {
      "text/plain": [
       "(100.0, 100.0, 0.0, 0.0)"
      ]
     },
     "execution_count": 40,
     "metadata": {},
     "output_type": "execute_result"
    }
   ],
   "source": [
    "#mean - variance-skewwnes-kurtosis bulalım (mvsk) \n",
    "\n",
    "normDist1 = stats.norm(100, 10)\n",
    "normDist1.stats(moments = \"mvsk\")  "
   ]
  },
  {
   "cell_type": "markdown",
   "id": "2502421e",
   "metadata": {},
   "source": [
    "Ornek\n",
    "Bir IQ testindeki puanların normal dağıldığını varsayalım. Testin ortalaması 100 ve standart sapması 10 ise, teste giren bir kişinin 90 ile 110 arasında puan alma olasılığı nedir?"
   ]
  },
  {
   "cell_type": "code",
   "execution_count": 41,
   "id": "64bb4987",
   "metadata": {
    "ExecuteTime": {
     "end_time": "2023-06-22T19:06:28.913322Z",
     "start_time": "2023-06-22T19:06:28.900795Z"
    }
   },
   "outputs": [
    {
     "data": {
      "text/plain": [
       "0.6826894921370859"
      ]
     },
     "execution_count": 41,
     "metadata": {},
     "output_type": "execute_result"
    }
   ],
   "source": [
    "stats.norm(100,10).cdf(110) - stats.norm(100,10).cdf(90)"
   ]
  },
  {
   "cell_type": "code",
   "execution_count": 42,
   "id": "070dcd66",
   "metadata": {
    "ExecuteTime": {
     "end_time": "2023-06-22T19:07:21.506018Z",
     "start_time": "2023-06-22T19:07:21.493324Z"
    }
   },
   "outputs": [
    {
     "data": {
      "text/plain": [
       "0.6826894921370859"
      ]
     },
     "execution_count": 42,
     "metadata": {},
     "output_type": "execute_result"
    }
   ],
   "source": [
    "#ustteki sorununu farklı bir yazım ile cevabı\n",
    "stats.norm.cdf(110, 100, 10) - stats.norm.cdf(90, 100, 10)"
   ]
  },
  {
   "cell_type": "markdown",
   "id": "1bd3787a",
   "metadata": {},
   "source": [
    "## t Distribution"
   ]
  },
  {
   "cell_type": "code",
   "execution_count": 44,
   "id": "f4f6a07b",
   "metadata": {
    "ExecuteTime": {
     "end_time": "2023-06-22T19:09:52.066776Z",
     "start_time": "2023-06-22T19:09:52.040750Z"
    }
   },
   "outputs": [
    {
     "data": {
      "text/plain": [
       "0.5"
      ]
     },
     "execution_count": 44,
     "metadata": {},
     "output_type": "execute_result"
    }
   ],
   "source": [
    "# n = sample size  \n",
    "# t = 0 ve t = 1.75 degerini bulalım\n",
    "n = 15\n",
    "stats.t.cdf(0, df=n-1)"
   ]
  },
  {
   "cell_type": "code",
   "execution_count": 45,
   "id": "c0b8f105",
   "metadata": {
    "ExecuteTime": {
     "end_time": "2023-06-22T19:10:27.956739Z",
     "start_time": "2023-06-22T19:10:27.930228Z"
    }
   },
   "outputs": [
    {
     "data": {
      "text/plain": [
       "0.9490034677632047"
      ]
     },
     "execution_count": 45,
     "metadata": {},
     "output_type": "execute_result"
    }
   ],
   "source": [
    "# ts koru degeri 1.75 için cdf sonucu\n",
    "stats.t.cdf(1.75, df=n-1)"
   ]
  },
  {
   "cell_type": "code",
   "execution_count": 46,
   "id": "9e03bff1",
   "metadata": {
    "ExecuteTime": {
     "end_time": "2023-06-22T20:41:41.127576Z",
     "start_time": "2023-06-22T20:41:41.092794Z"
    }
   },
   "outputs": [],
   "source": [
    "#numpy dan linspace çağıralım ve herbiri çin ayrı ayrı pdf hesaplayalım\n",
    "\n",
    "tDist = stats.t(df=15)\n",
    "\n",
    "x = np.linspace(-5, 5, 100)\n",
    "\n",
    "y = tDist.pdf(x)"
   ]
  },
  {
   "cell_type": "code",
   "execution_count": 47,
   "id": "a10a1041",
   "metadata": {
    "ExecuteTime": {
     "end_time": "2023-06-22T20:42:33.063159Z",
     "start_time": "2023-06-22T20:42:32.914663Z"
    }
   },
   "outputs": [
    {
     "data": {
      "image/png": "[encoded data removed]",
      "text/plain": [
       "<Figure size 640x480 with 1 Axes>"
      ]
     },
     "metadata": {},
     "output_type": "display_data"
    }
   ],
   "source": [
    "#üstteki x ve y yi çizdirelim.. df=15 için t distr. \n",
    "#df = 50 ye kadar t distr. kullanılıp,  yukarısı için normal distr. kullanılır.. \n",
    "\n",
    "plt.plot(x,y)\n",
    "plt.grid()\n",
    "plt.show();"
   ]
  },
  {
   "cell_type": "code",
   "execution_count": null,
   "id": "85fd4404",
   "metadata": {},
   "outputs": [],
   "source": []
  },
  {
   "cell_type": "code",
   "execution_count": null,
   "id": "d13e62cf",
   "metadata": {},
   "outputs": [],
   "source": []
  }
 ],
 "metadata": {
  "hide_input": false,
  "kernelspec": {
   "display_name": "Python 3 (ipykernel)",
   "language": "python",
   "name": "python3"
  },
  "language_info": {
   "codemirror_mode": {
    "name": "ipython",
    "version": 3
   },
   "file_extension": ".py",
   "mimetype": "text/x-python",
   "name": "python",
   "nbconvert_exporter": "python",
   "pygments_lexer": "ipython3",
   "version": "3.9.13"
  },
  "nbTranslate": {
   "displayLangs": [
    "*"
   ],
   "hotkey": "alt-t",
   "langInMainMenu": true,
   "sourceLang": "en",
   "targetLang": "fr",
   "useGoogleTranslate": true
  },
  "toc": {
   "base_numbering": 1,
   "nav_menu": {},
   "number_sections": true,
   "sideBar": true,
   "skip_h1_title": false,
   "title_cell": "Table of Contents",
   "title_sidebar": "Contents",
   "toc_cell": false,
   "toc_position": {},
   "toc_section_display": true,
   "toc_window_display": false
  },
  "varInspector": {
   "cols": {
    "lenName": 16,
    "lenType": 16,
    "lenVar": 40
   },
   "kernels_config": {
    "python": {
     "delete_cmd_postfix": "",
     "delete_cmd_prefix": "del ",
     "library": "var_list.py",
     "varRefreshCmd": "print(var_dic_list())"
    },
    "r": {
     "delete_cmd_postfix": ") ",
     "delete_cmd_prefix": "rm(",
     "library": "var_list.r",
     "varRefreshCmd": "cat(var_dic_list()) "
    }
   },
   "types_to_exclude": [
    "module",
    "function",
    "builtin_function_or_method",
    "instance",
    "_Feature"
   ],
   "window_display": false
  }
 },
 "nbformat": 4,
 "nbformat_minor": 5
}
